{
 "cells": [
  {
   "cell_type": "markdown",
   "metadata": {},
   "source": [
    "Ejercicio:\n",
    "Escribe un programa en Python que valide si una cadena de texto representa un número de teléfono válido en el formato típico de Estados Unidos (10 dígitos, opcionalmente con paréntesis y guiones). Por ejemplo, los siguientes números deben ser considerados válidos:\n",
    "\n",
    "(123) 456-7890\n",
    "\n",
    "123-456-7890\n",
    "\n",
    "1234567890\n",
    "\n",
    "Pero los siguientes no deben ser considerados válidos:\n",
    "\n",
    "(12) 3456-7890 (número incorrecto de dígitos)\n",
    "\n",
    "(123) 456-789 (falta un dígito)\n",
    "\n",
    "123-45-67890 (demasiados guiones)\n"
   ]
  },
  {
   "cell_type": "code",
   "execution_count": 94,
   "metadata": {},
   "outputs": [
    {
     "name": "stdout",
     "output_type": "stream",
     "text": [
      "El formato es Correcto\n"
     ]
    }
   ],
   "source": [
    "import re\n",
    "numero=input(\"Ingresa el nuero telefonico\").strip()\n",
    "expresion =r'\\(?\\d{3,}\\)?\\s*\\-*\\d{3,}\\s*\\-*\\d{4,}'\n",
    "\n",
    "if re.search(expresion,numero):\n",
    "    print('El formato es Correcto')\n",
    "else:\n",
    "    print(\"El formato es Incorrecto\")\n",
    "    print(numero)\n",
    "\n",
    "\n",
    "#patron = r'^\\(?(\\(\\d{3}\\)\\s*|\\d{3}-?)?\\d{3}-?\\d{4}$'\n"
   ]
  },
  {
   "cell_type": "markdown",
   "metadata": {},
   "source": [
    "Ejercicio:\n",
    "Escribe un programa en Python que busque todas las palabras que empiezan con la letra 'a' en una cadena de texto dada. Por ejemplo, dada la cadena \"El árbol está al lado de la casa amarilla\", el programa debería imprimir las palabras que empiezan con 'a': \"árbol\", \"al\", \"amarilla\"."
   ]
  },
  {
   "cell_type": "code",
   "execution_count": 5,
   "metadata": {},
   "outputs": [
    {
     "name": "stdout",
     "output_type": "stream",
     "text": [
      "['árbol', 'al', 'amarilla']\n"
     ]
    }
   ],
   "source": [
    "import re\n",
    "cadena=\"El árbol está al lado de la casa amarilla\"\n",
    "expresion=r'\\b[aáAÁ]\\w+\\b'\n",
    "sol=re.findall(expresion,cadena)\n",
    "print(sol)"
   ]
  },
  {
   "cell_type": "markdown",
   "metadata": {},
   "source": [
    "Ejercicio:\n",
    "Escribe un programa en Python que verifique si una cadena de texto contiene un número decimal válido. Un número decimal válido puede contener un signo opcional ('+' o '-') al principio, seguido de uno o más dígitos antes y después del punto decimal. Por ejemplo, los siguientes números deben ser considerados válidos:\n",
    "\n",
    "123.456\n",
    "+789.0\n",
    "-0.5\n",
    "Pero los siguientes no deben ser considerados válidos:\n",
    "\n",
    "12a.34 (contiene caracteres no numéricos)\n",
    ".567 (no hay dígitos antes del punto decimal)\n",
    "(no hay dígitos después del punto decimal)"
   ]
  },
  {
   "cell_type": "code",
   "execution_count": 14,
   "metadata": {},
   "outputs": [
    {
     "name": "stdout",
     "output_type": "stream",
     "text": [
      "True\n"
     ]
    }
   ],
   "source": [
    "import re\n",
    "a = input(\"introduce la cadena\")\n",
    "expresion =r'^[+-]?\\d+\\.\\d+$'\n",
    "numero = bool (re.match(expresion,a))\n",
    "print(numero)"
   ]
  },
  {
   "cell_type": "markdown",
   "metadata": {},
   "source": [
    "Escribe un programa en Python que busque todas las direcciones de correo electrónico válidas en una cadena de texto dada. Una dirección de correo electrónico válida debe contener una cadena alfanumérica seguida de '@', seguida de otro conjunto de caracteres alfanuméricos separados por un punto, y finalmente, debe contener un dominio de nivel superior (TLD) válido. Por ejemplo, las siguientes direcciones de correo electrónico deben ser consideradas válidas:\n",
    "\n",
    "ejemplo@gmail.com\n",
    "\n",
    "usuario123@dominio.com\n",
    "\n",
    "correo_ejemplo123@subdominio.co.uk\n",
    "\n",
    "\n",
    "Pero las siguientes no deben ser consideradas válidas:\n",
    "\n",
    "usuario@dominio (falta el TLD)\n",
    "\n",
    "@gmail.com (falta el nombre de usuario)\n",
    "\n",
    "correo_ejemplo@dominio.(TLD) (falta el nombre del dominio)"
   ]
  },
  {
   "cell_type": "code",
   "execution_count": 30,
   "metadata": {},
   "outputs": [
    {
     "name": "stdout",
     "output_type": "stream",
     "text": [
      "['ejemplo@gmail.com', 'usuario123@dominio.com', 'correo_ejemplo123@subdominio.co.uk']\n"
     ]
    }
   ],
   "source": [
    "import re\n",
    "texto=\"Por ejemplo, las siguientes direcciones de correo electrónico deben ser consideradas válidas: ejemplo@gmail.com usuario123@dominio.com correo_ejemplo123@subdominio.co.uk Pero las siguientes no deben ser consideradas válidas: usuario@dominio (falta el TLD)@gmail.com (falta el nombre de usuario) correo_ejemplo@dominio.(TLD) (falta el nombre del dominio) \"\n",
    "expresion =r'\\b[A-Za-z0-9._]+@[A-Za-z-.]+\\.[A-Za-z]{2,}\\b'\n",
    "correos=re.findall(expresion,texto)\n",
    "print(correos)\n"
   ]
  },
  {
   "cell_type": "markdown",
   "metadata": {},
   "source": [
    "Ejercicio:\n",
    "Escribe un programa en Python que busque todas las palabras que contengan exactamente tres letras consecutivas de la misma vocal en una cadena de texto dada. Por ejemplo, dada la cadena \"El aeropuerto está cerca de la avenida principal\", el programa debería imprimir las palabras que cumplan con este criterio, como \"aeropuerto\" y \"avenida\"."
   ]
  },
  {
   "cell_type": "code",
   "execution_count": 42,
   "metadata": {},
   "outputs": [
    {
     "name": "stdout",
     "output_type": "stream",
     "text": [
      "['aei', 'njjhioi']\n"
     ]
    }
   ],
   "source": [
    "import re\n",
    "texto = \"El aeropuerto está cerca de la avenida principal aei njjhioi\"\n",
    "expresion = r'\\b[A-Za-z]*[aeiou]{3,}[A-Za-z]*\\b'\n",
    "palabras = re.findall(expresion,texto)\n",
    "print(palabras)"
   ]
  },
  {
   "cell_type": "code",
   "execution_count": 36,
   "metadata": {},
   "outputs": [
    {
     "name": "stdout",
     "output_type": "stream",
     "text": [
      "Palabras con tres letras consecutivas de la misma vocal:\n"
     ]
    }
   ],
   "source": [
    "import re\n",
    "\n",
    "def encontrar_palabras_con_tres_vocales_consecutivas(cadena):\n",
    "    # Expresión regular para encontrar palabras con tres letras consecutivas de la misma vocal\n",
    "    patron = r'\\b(?:[aeiouAEIOU])\\w*([aeiouAEIOU])\\1\\1\\w*\\b'\n",
    "    palabras_encontradas = re.findall(patron, cadena)\n",
    "    return palabras_encontradas\n",
    "\n",
    "# Cadena de texto de ejemplo\n",
    "texto = \"El aeropuerto está cerca de la avenida principal\"\n",
    "\n",
    "# Encontrar palabras con tres letras consecutivas de la misma vocal en la cadena de texto\n",
    "palabras_con_tres_vocales_consecutivas = encontrar_palabras_con_tres_vocales_consecutivas(texto)\n",
    "\n",
    "# Imprimir las palabras encontradas\n",
    "print(\"Palabras con tres letras consecutivas de la misma vocal:\")\n",
    "for palabra in palabras_con_tres_vocales_consecutivas:\n",
    "    print(palabra)\n"
   ]
  },
  {
   "cell_type": "markdown",
   "metadata": {},
   "source": [
    "Ejercicio:\n",
    "Escribe un programa en Python que encuentre y muestre todas las etiquetas HTML en una cadena de texto dada. Las etiquetas HTML están \n",
    "\n",
    "encerradas entre símbolos de \"<\" y \">\". Por ejemplo, dada la cadena \n",
    "\n",
    "\n",
    "\\ \"<p>Este es un <b>párrafo</b> de ejemplo</p>\", el programa debería imprimir las etiquetas HTML encontradas: \"<p>\", \"<b>\" y \"</b>\", \"</p>\".\""
   ]
  },
  {
   "cell_type": "code",
   "execution_count": 48,
   "metadata": {},
   "outputs": [
    {
     "name": "stdout",
     "output_type": "stream",
     "text": [
      "['<p>', '<b>', '</b>', '</p>']\n"
     ]
    }
   ],
   "source": [
    "import re\n",
    "texto=\"<p>Este es un <b>párrafo</b> de ejemplo</p>\"\n",
    "expresion=r'[<][/]*[a-z]+[>]'\n",
    "etiquetas=re.findall(expresion,texto)\n",
    "print(etiquetas)"
   ]
  },
  {
   "cell_type": "markdown",
   "metadata": {},
   "source": [
    "Escribe un programa en Python que verifique si una cadena de texto es un palíndromo. Un palíndromo es una palabra, frase, número o cualquier otra secuencia de caracteres que se lee igual hacia adelante que hacia atrás, ignorando los espacios, signos de puntuación y mayúsculas/minúsculas. Por ejemplo, \"Anita lava la tina\" y \"12321\" son palíndromos."
   ]
  },
  {
   "cell_type": "code",
   "execution_count": 55,
   "metadata": {},
   "outputs": [
    {
     "name": "stdout",
     "output_type": "stream",
     "text": [
      "es un palindromo\n",
      "anitalavalatina\n"
     ]
    }
   ],
   "source": [
    "import re\n",
    "\n",
    "# Reemplazar todas las ocurrencias de \"gato\" con \"perro\" en la cadena\n",
    "texto = \"Anita lava la tina.\"\n",
    "nuevo_texto = re.sub(r'[^a-zA-Z0-9]', '', texto.lower())\n",
    "\n",
    "if nuevo_texto == nuevo_texto[::-1]:\n",
    "    print(\"es un palindromo\")\n",
    "else:\n",
    "    print(\"No es un palindromo\")\n",
    "print(nuevo_texto)\n"
   ]
  },
  {
   "cell_type": "markdown",
   "metadata": {},
   "source": [
    "Ejercicio:\n",
    "Escribe un programa en Python que, dada una lista de correos electrónicos, filtre y muestre solo aquellos correos que pertenezcan a un dominio específico dado. Por ejemplo, dada la lista\n",
    "\n",
    "\n",
    "\n",
    "El programa debería filtrar y mostrar solo los correos que pertenezcan al dominio \"gmail.com\". En este caso, el resultado debería ser:"
   ]
  },
  {
   "cell_type": "code",
   "execution_count": 64,
   "metadata": {},
   "outputs": [
    {
     "name": "stdout",
     "output_type": "stream",
     "text": [
      "usuario1@gmail.com\n",
      "usuario4@gmail.com\n"
     ]
    }
   ],
   "source": [
    "import re\n",
    "correos = [\"usuario1@gmail.com\", \"usuario2@hotmail.com\", \"usuario3@yahoo.com\", \"usuario4@gmail.com\", \"usuario5@outlook.com\"]\n",
    "dominio=\"gmail\"\n",
    "expresion =r'@'+re.escape(dominio)+r'\\.com'\n",
    "for correo in correos:\n",
    "    correcto=re.search(expresion,correo)\n",
    "    if correcto == None:\n",
    "        continue\n",
    "    print(correo)"
   ]
  },
  {
   "cell_type": "markdown",
   "metadata": {},
   "source": [
    "Ejercicio:\n",
    "Escribe un programa en Python que, dado un texto, encuentre y cuente todas las palabras que contengan al menos una vocal y terminen con la letra 's'. Además, el programa debería imprimir la lista de estas palabras junto con su cantidad. Por ejemplo, dado el texto"
   ]
  },
  {
   "cell_type": "code",
   "execution_count": 76,
   "metadata": {},
   "outputs": [
    {
     "name": "stdout",
     "output_type": "stream",
     "text": [
      "el total de palabras son 6 Las palabras son ['Los', 'gatos', 'animales', 'domésticos', 'inteligentes', 'juguetones']\n"
     ]
    }
   ],
   "source": [
    "import re\n",
    "texto=\"Los gatos son animales domésticos muy inteligentes y juguetones.\"\n",
    "expresion=r'\\b[a-zA-Z]*[aéeiou]+[a-zA-Z]*s\\b'\n",
    "palabras = re.findall(expresion,texto)\n",
    "print(f\"el total de palabras son {len(palabras)} Las palabras son\",palabras)"
   ]
  },
  {
   "cell_type": "code",
   "execution_count": 71,
   "metadata": {},
   "outputs": [
    {
     "name": "stdout",
     "output_type": "stream",
     "text": [
      "Palabras que terminan en 's' y contienen al menos una vocal:\n",
      "- Los\n",
      "- gatos\n",
      "- animales\n",
      "- domésticos\n",
      "- inteligentes\n",
      "- juguetones\n",
      "Total de palabras encontradas: 6\n"
     ]
    }
   ],
   "source": [
    "import re\n",
    "\n",
    "def encontrar_palabras(texto):\n",
    "    # Expresión regular para encontrar palabras que terminen en 's' y contengan al menos una vocal\n",
    "    patron = r'\\b\\w*[aeiouAEIOU]\\w*s\\b'\n",
    "    palabras_encontradas = re.findall(patron, texto)\n",
    "    return palabras_encontradas\n",
    "\n",
    "# Texto de ejemplo\n",
    "texto = \"Los gatos son animales domésticos muy inteligentes y juguetones.\"\n",
    "\n",
    "# Encontrar palabras que cumplen con los criterios en el texto\n",
    "palabras_encontradas = encontrar_palabras(texto)\n",
    "\n",
    "# Imprimir las palabras encontradas\n",
    "print(\"Palabras que terminan en 's' y contienen al menos una vocal:\")\n",
    "for palabra in palabras_encontradas:\n",
    "    print(\"-\", palabra)\n",
    "\n",
    "# Imprimir el total de palabras encontradas\n",
    "print(\"Total de palabras encontradas:\", len(palabras_encontradas))\n"
   ]
  }
 ],
 "metadata": {
  "kernelspec": {
   "display_name": "Python 3",
   "language": "python",
   "name": "python3"
  },
  "language_info": {
   "codemirror_mode": {
    "name": "ipython",
    "version": 3
   },
   "file_extension": ".py",
   "mimetype": "text/x-python",
   "name": "python",
   "nbconvert_exporter": "python",
   "pygments_lexer": "ipython3",
   "version": "3.10.7"
  }
 },
 "nbformat": 4,
 "nbformat_minor": 2
}
