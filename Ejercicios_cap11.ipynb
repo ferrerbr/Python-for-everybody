{
 "cells": [
  {
   "cell_type": "markdown",
   "metadata": {},
   "source": [
    "Ejercicio uno: escribe un programa simple que simule la operación del\n",
    "comando grep en Unix. Debe pedir al usuario que ingrese una expresión regular y cuente el número de líneas que coincidan con ésta:\n",
    "\n",
    "$ python grep.py\n",
    "\n",
    "Ingresa una expresión regular: ^Author\n",
    "\n",
    "mbox.txt tiene 1798 líneas que coinciden con ^Author"
   ]
  },
  {
   "cell_type": "code",
   "execution_count": 37,
   "metadata": {},
   "outputs": [
    {
     "name": "stdout",
     "output_type": "stream",
     "text": [
      "no es posible abrir el archivo\n",
      "el archivo fue abieto con exito\n",
      " \n",
      "mbox.txt tiene 1798 lineas que conciden con ^Author\n"
     ]
    }
   ],
   "source": [
    "import re\n",
    "contador=0\n",
    "\n",
    "while True:\n",
    "    narchivo = input(\"escribe el nombre del archivo \")\n",
    "\n",
    "    try:\n",
    "        if narchivo == \"fin\":\n",
    "            break\n",
    "        archivo = open(narchivo)\n",
    "        print(\"el archivo fue abieto con exito\\n \")\n",
    "        exp=input(\"Ingresa una expresion regular:\")\n",
    "        for linea in archivo:\n",
    "            linea = linea.rstrip() \n",
    "            x = re.findall(exp, linea)\n",
    "            \n",
    "            if len(x) > 0:\n",
    "                contador+=1\n",
    "                 \n",
    "        print(narchivo,\"tiene\",contador,\"lineas que conciden con\",exp)\n",
    "        \n",
    "        break \n",
    "    except:\n",
    "        print(\"no es posible abrir el archivo\")\n",
    "        \n",
    " \n"
   ]
  },
  {
   "cell_type": "markdown",
   "metadata": {},
   "source": [
    "Ejercicio 2: escribe un programa que busque líneas en la forma:\n",
    "\n",
    "New Revision: 39772\n",
    "\n",
    "Extrae el número de cada línea usando una expresión regular y el método findall(). Registra el promedio de esos números e imprímelo.\n",
    "\n",
    "Ingresa nombre de archivo: mbox.txt\n",
    "\n",
    "38444.0323119\n",
    "\n",
    "Ingresa nombre de archivo: mbox-short.txt\n",
    "\n",
    "39756.9259259\n"
   ]
  },
  {
   "cell_type": "code",
   "execution_count": 50,
   "metadata": {},
   "outputs": [
    {
     "name": "stdout",
     "output_type": "stream",
     "text": [
      "el archivo fue abierto con exito\n",
      " \n",
      "mbox-short.txt tiene 27 lineas que conciden con ^New.+:\\s([0-9.]+)\n",
      "39756.92592592593\n"
     ]
    }
   ],
   "source": [
    "import re\n",
    "sumador=0\n",
    "contador=0\n",
    "\n",
    "while True:\n",
    "    narchivo = input(\"escribe el nombre del archivo \")\n",
    "\n",
    "    try:\n",
    "        if narchivo == \"fin\":\n",
    "            break\n",
    "        archivo = open(narchivo)\n",
    "        print(\"el archivo fue abierto con exito\\n \")\n",
    "        try:\n",
    "            exp=input(\"Ingresa una expresion regular:\")\n",
    "            for linea in archivo:\n",
    "                linea = linea.rstrip() \n",
    "                x = re.findall(exp, linea)\n",
    "            \n",
    "                if len(x) > 0:\n",
    "                    cadena=x[0]\n",
    "                    #print(cadena)\n",
    "                    #print(type(cadena)) \n",
    "\n",
    "                    num=float(cadena)\n",
    "                    #print(num,type(num))\n",
    "                    sumador=sumador+num\n",
    "                    contador+=1\n",
    "            media=sumador/contador         \n",
    "            print(narchivo,\"tiene\",contador,\"lineas que conciden con\",exp)\n",
    "            print(media)\n",
    "        \n",
    "        except:\n",
    "            print(\"No pudimos encontrar esa expresion regular\")\n",
    "            break\n",
    "\n",
    "        \n",
    "        break \n",
    "    except:\n",
    "        print(\"no es posible abrir el archivo\")\n",
    "        \n",
    " "
   ]
  },
  {
   "cell_type": "code",
   "execution_count": null,
   "metadata": {},
   "outputs": [],
   "source": []
  }
 ],
 "metadata": {
  "kernelspec": {
   "display_name": "Python 3",
   "language": "python",
   "name": "python3"
  },
  "language_info": {
   "codemirror_mode": {
    "name": "ipython",
    "version": 3
   },
   "file_extension": ".py",
   "mimetype": "text/x-python",
   "name": "python",
   "nbconvert_exporter": "python",
   "pygments_lexer": "ipython3",
   "version": "3.10.7"
  }
 },
 "nbformat": 4,
 "nbformat_minor": 2
}
