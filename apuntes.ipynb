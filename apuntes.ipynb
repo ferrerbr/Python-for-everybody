{
 "cells": [
  {
   "cell_type": "markdown",
   "id": "23cae059",
   "metadata": {},
   "source": [
    " # capitulo 2 \n",
    " ## Variables, expresiones y sentencias\n",
    " "
   ]
  },
  {
   "cell_type": "code",
   "execution_count": 8,
   "id": "b59676cf",
   "metadata": {},
   "outputs": [
    {
     "name": "stdout",
     "output_type": "stream",
     "text": [
      "4\n"
     ]
    },
    {
     "data": {
      "text/plain": [
       "int"
      ]
     },
     "execution_count": 8,
     "metadata": {},
     "output_type": "execute_result"
    }
   ],
   "source": [
    "print(4)\n",
    "type('hola, mundo')\n",
    "type(4)"
   ]
  },
  {
   "cell_type": "code",
   "execution_count": 23,
   "id": "a4b2a32a",
   "metadata": {},
   "outputs": [
    {
     "name": "stdout",
     "output_type": "stream",
     "text": [
      "13\n"
     ]
    }
   ],
   "source": [
    "minute=782\n",
    "min=minute//60\n",
    "print(min)"
   ]
  },
  {
   "cell_type": "code",
   "execution_count": 25,
   "id": "7fb80644",
   "metadata": {},
   "outputs": [
    {
     "data": {
      "text/plain": [
       "False"
      ]
     },
     "execution_count": 25,
     "metadata": {},
     "output_type": "execute_result"
    }
   ],
   "source": [
    "5==4"
   ]
  },
  {
   "cell_type": "code",
   "execution_count": 30,
   "id": "0a47d891",
   "metadata": {},
   "outputs": [
    {
     "ename": "NameError",
     "evalue": "name 'And' is not defined",
     "output_type": "error",
     "traceback": [
      "\u001b[1;31m---------------------------------------------------------------------------\u001b[0m",
      "\u001b[1;31mNameError\u001b[0m                                 Traceback (most recent call last)",
      "Cell \u001b[1;32mIn [30], line 1\u001b[0m\n\u001b[1;32m----> 1\u001b[0m \u001b[38;5;28mtype\u001b[39m(And)\n",
      "\u001b[1;31mNameError\u001b[0m: name 'And' is not defined"
     ]
    }
   ],
   "source": [
    "type(And)"
   ]
  },
  {
   "cell_type": "code",
   "execution_count": 3,
   "id": "58aa1438",
   "metadata": {},
   "outputs": [
    {
     "data": {
      "text/plain": [
       "12"
      ]
     },
     "execution_count": 3,
     "metadata": {},
     "output_type": "execute_result"
    }
   ],
   "source": [
    "len(\"hola,  mundo\")"
   ]
  },
  {
   "cell_type": "code",
   "execution_count": 3,
   "id": "b56b15ae",
   "metadata": {},
   "outputs": [
    {
     "name": "stdout",
     "output_type": "stream",
     "text": [
      "0.5278377836133368\n",
      "0.5930560464711202\n",
      "0.17044728546769894\n",
      "0.6236652111614482\n",
      "0.2938427973173613\n",
      "0.15285103952456136\n",
      "0.793421195608613\n",
      "0.5353323986796096\n",
      "0.6088168008897145\n"
     ]
    }
   ],
   "source": [
    "import random as rd\n",
    "for i in range(9):\n",
    "    x=rd.random()\n",
    "    print(x)\n"
   ]
  },
  {
   "cell_type": "code",
   "execution_count": 9,
   "id": "850b789b",
   "metadata": {},
   "outputs": [
    {
     "name": "stdout",
     "output_type": "stream",
     "text": [
      "5\n"
     ]
    }
   ],
   "source": [
    "ale=rd.randint(5,7)\n",
    "print(ale)"
   ]
  },
  {
   "cell_type": "code",
   "execution_count": 10,
   "id": "7f6857c4",
   "metadata": {},
   "outputs": [],
   "source": [
    "def muestra_estribillo():\n",
    "    print(\"soy un leñador que alegria \")\n",
    "    print(\"duermo toda la noche y trabajo todo el dia \")\n",
    "\n"
   ]
  },
  {
   "cell_type": "code",
   "execution_count": 11,
   "id": "61c049ce",
   "metadata": {},
   "outputs": [
    {
     "name": "stdout",
     "output_type": "stream",
     "text": [
      "soy un leñador que alegria \n",
      "duermo toda la noche y trabajo todo el dia \n"
     ]
    }
   ],
   "source": [
    "muestra_estribillo()"
   ]
  },
  {
   "cell_type": "markdown",
   "id": "8fa8c4c9",
   "metadata": {},
   "source": [
    "## capitulo 6 Caracteres\n"
   ]
  },
  {
   "cell_type": "code",
   "execution_count": 9,
   "id": "54918143",
   "metadata": {},
   "outputs": [
    {
     "name": "stdout",
     "output_type": "stream",
     "text": [
      "21\n"
     ]
    }
   ],
   "source": [
    "dato = 'From stephen.marquard@uct.ac.za Sat Jan 5 09:14:16 2008'\n",
    "arrobapos = dato.find('@')\n",
    "print(arrobapos)"
   ]
  },
  {
   "cell_type": "code",
   "execution_count": 10,
   "id": "a3ed32bf",
   "metadata": {},
   "outputs": [
    {
     "name": "stdout",
     "output_type": "stream",
     "text": [
      "31\n"
     ]
    }
   ],
   "source": [
    "espos = dato.find(' ',arrobapos)\n",
    "print(espos)\n"
   ]
  },
  {
   "cell_type": "code",
   "execution_count": 11,
   "id": "a944f78e",
   "metadata": {},
   "outputs": [
    {
     "name": "stdout",
     "output_type": "stream",
     "text": [
      "uct.ac.za\n"
     ]
    }
   ],
   "source": [
    "direccion = dato[arrobapos+1:espos]\n",
    "print(direccion)\n"
   ]
  },
  {
   "cell_type": "markdown",
   "id": "94339fd4",
   "metadata": {},
   "source": [
    "## abrir archivos y leerlos con for "
   ]
  },
  {
   "cell_type": "code",
   "execution_count": 16,
   "id": "3c40a25a",
   "metadata": {},
   "outputs": [
    {
     "name": "stdout",
     "output_type": "stream",
     "text": [
      "contador de lineas 1910\n"
     ]
    }
   ],
   "source": [
    "man_archivos=open('mbox-short.txt')\n",
    "contador=0\n",
    "for line in man_archivos:\n",
    "    contador=contador+1\n",
    "print(\"contador de lineas\",contador)"
   ]
  },
  {
   "cell_type": "markdown",
   "id": "f802fdf1",
   "metadata": {},
   "source": [
    "## abrir archivos y leerlos con  read()"
   ]
  },
  {
   "cell_type": "code",
   "execution_count": 21,
   "id": "ba7c82f8",
   "metadata": {},
   "outputs": [
    {
     "name": "stdout",
     "output_type": "stream",
     "text": [
      "94626\n",
      "From stephen.marquar\n"
     ]
    }
   ],
   "source": [
    "man_archivos=open('mbox-short.txt')\n",
    "inp=man_archivos.read()\n",
    "print(len(inp))\n",
    "print(inp[:20])"
   ]
  },
  {
   "cell_type": "markdown",
   "id": "fd13ce87",
   "metadata": {},
   "source": [
    "## Busqueda a travez de un archivo"
   ]
  },
  {
   "cell_type": "code",
   "execution_count": 42,
   "id": "0761fc3e",
   "metadata": {},
   "outputs": [
    {
     "name": "stdout",
     "output_type": "stream",
     "text": [
      "From: stephen.marquard@uct.ac.za\n",
      "From: louis@media.berkeley.edu\n",
      "From: zqian@umich.edu\n",
      "From: rjlowe@iupui.edu\n",
      "From: zqian@umich.edu\n",
      "From: rjlowe@iupui.edu\n",
      "From: cwen@iupui.edu\n",
      "From: cwen@iupui.edu\n",
      "From: gsilver@umich.edu\n",
      "From: gsilver@umich.edu\n",
      "From: zqian@umich.edu\n",
      "From: gsilver@umich.edu\n",
      "From: wagnermr@iupui.edu\n",
      "From: zqian@umich.edu\n",
      "From: antranig@caret.cam.ac.uk\n",
      "From: gopal.ramasammycook@gmail.com\n",
      "From: david.horwitz@uct.ac.za\n",
      "From: david.horwitz@uct.ac.za\n",
      "From: david.horwitz@uct.ac.za\n",
      "From: david.horwitz@uct.ac.za\n",
      "From: stephen.marquard@uct.ac.za\n",
      "From: louis@media.berkeley.edu\n",
      "From: louis@media.berkeley.edu\n",
      "From: ray@media.berkeley.edu\n",
      "From: cwen@iupui.edu\n",
      "From: cwen@iupui.edu\n",
      "From: cwen@iupui.edu\n"
     ]
    }
   ],
   "source": [
    "man_a=open('mbox-short.txt')\n",
    "contador=0\n",
    "for linea in man_a:\n",
    "    linea = linea.rstrip()\n",
    "    if linea.startswith('From:'): \n",
    "        print(linea)"
   ]
  },
  {
   "cell_type": "code",
   "execution_count": 4,
   "id": "91a69b40",
   "metadata": {},
   "outputs": [
    {
     "data": {
      "text/plain": [
       "<_io.TextIOWrapper name='mbox-short.txt' mode='r' encoding='cp1252'>"
      ]
     },
     "execution_count": 4,
     "metadata": {},
     "output_type": "execute_result"
    }
   ],
   "source": [
    "man_a=open(\"mbox-short.txt\")\n",
    "man_a\n"
   ]
  },
  {
   "cell_type": "code",
   "execution_count": 5,
   "id": "4ae55ac9",
   "metadata": {},
   "outputs": [
    {
     "name": "stdout",
     "output_type": "stream",
     "text": [
      "From stephen.marquard@uct.ac.za Sat Jan  5 09:14:16 2008\n",
      "X-Authentication-Warning: nakamura.uits.iupui.edu: apache set sender to stephen.marquard@uct.ac.za using -f\n",
      "From: stephen.marquard@uct.ac.za\n",
      "Author: stephen.marquard@uct.ac.za\n",
      "From david.horwitz@uct.ac.za Fri Jan  4 07:02:32 2008\n",
      "X-Authentication-Warning: nakamura.uits.iupui.edu: apache set sender to david.horwitz@uct.ac.za using -f\n",
      "From: david.horwitz@uct.ac.za\n",
      "Author: david.horwitz@uct.ac.za\n",
      "r39753 | david.horwitz@uct.ac.za | 2008-01-04 13:05:51 +0200 (Fri, 04 Jan 2008) | 1 line\n",
      "From david.horwitz@uct.ac.za Fri Jan  4 06:08:27 2008\n",
      "X-Authentication-Warning: nakamura.uits.iupui.edu: apache set sender to david.horwitz@uct.ac.za using -f\n",
      "From: david.horwitz@uct.ac.za\n",
      "Author: david.horwitz@uct.ac.za\n",
      "From david.horwitz@uct.ac.za Fri Jan  4 04:49:08 2008\n",
      "X-Authentication-Warning: nakamura.uits.iupui.edu: apache set sender to david.horwitz@uct.ac.za using -f\n",
      "From: david.horwitz@uct.ac.za\n",
      "Author: david.horwitz@uct.ac.za\n",
      "From david.horwitz@uct.ac.za Fri Jan  4 04:33:44 2008\n",
      "X-Authentication-Warning: nakamura.uits.iupui.edu: apache set sender to david.horwitz@uct.ac.za using -f\n",
      "From: david.horwitz@uct.ac.za\n",
      "Author: david.horwitz@uct.ac.za\n",
      "From stephen.marquard@uct.ac.za Fri Jan  4 04:07:34 2008\n",
      "X-Authentication-Warning: nakamura.uits.iupui.edu: apache set sender to stephen.marquard@uct.ac.za using -f\n",
      "From: stephen.marquard@uct.ac.za\n",
      "Author: stephen.marquard@uct.ac.za\n"
     ]
    }
   ],
   "source": [
    "for linea in man_a:\n",
    "    linea=linea.rstrip()\n",
    "    if linea.find(\"@uct.ac.za\")==-1:\n",
    "        continue\n",
    "    print(linea)"
   ]
  },
  {
   "cell_type": "code",
   "execution_count": 2,
   "id": "2f6c6e57",
   "metadata": {},
   "outputs": [
    {
     "name": "stdout",
     "output_type": "stream",
     "text": [
      "From stephen.marquard@uct.ac.za Sat Jan  5 09:14:16 2008\n",
      "X-Authentication-Warning: nakamura.uits.iupui.edu: apache set sender to stephen.marquard@uct.ac.za using -f\n",
      "From: stephen.marquard@uct.ac.za\n",
      "Author: stephen.marquard@uct.ac.za\n",
      "From david.horwitz@uct.ac.za Fri Jan  4 07:02:32 2008\n",
      "X-Authentication-Warning: nakamura.uits.iupui.edu: apache set sender to david.horwitz@uct.ac.za using -f\n",
      "From: david.horwitz@uct.ac.za\n",
      "Author: david.horwitz@uct.ac.za\n",
      "r39753 | david.horwitz@uct.ac.za | 2008-01-04 13:05:51 +0200 (Fri, 04 Jan 2008) | 1 line\n",
      "From david.horwitz@uct.ac.za Fri Jan  4 06:08:27 2008\n",
      "X-Authentication-Warning: nakamura.uits.iupui.edu: apache set sender to david.horwitz@uct.ac.za using -f\n",
      "From: david.horwitz@uct.ac.za\n",
      "Author: david.horwitz@uct.ac.za\n",
      "From david.horwitz@uct.ac.za Fri Jan  4 04:49:08 2008\n",
      "X-Authentication-Warning: nakamura.uits.iupui.edu: apache set sender to david.horwitz@uct.ac.za using -f\n",
      "From: david.horwitz@uct.ac.za\n",
      "Author: david.horwitz@uct.ac.za\n",
      "From david.horwitz@uct.ac.za Fri Jan  4 04:33:44 2008\n",
      "X-Authentication-Warning: nakamura.uits.iupui.edu: apache set sender to david.horwitz@uct.ac.za using -f\n",
      "From: david.horwitz@uct.ac.za\n",
      "Author: david.horwitz@uct.ac.za\n",
      "From stephen.marquard@uct.ac.za Fri Jan  4 04:07:34 2008\n",
      "X-Authentication-Warning: nakamura.uits.iupui.edu: apache set sender to stephen.marquard@uct.ac.za using -f\n",
      "From: stephen.marquard@uct.ac.za\n",
      "Author: stephen.marquard@uct.ac.za\n"
     ]
    }
   ],
   "source": [
    "man_a = open('mbox-short.txt')\n",
    "for linea in man_a:\n",
    "    linea = linea.rstrip()\n",
    "    if linea.find('@uct.ac.za') == -1: \n",
    "        continue\n",
    "    print(linea)\n"
   ]
  },
  {
   "cell_type": "markdown",
   "id": "f9c17aeb",
   "metadata": {},
   "source": [
    "## capitulo 8  listas "
   ]
  },
  {
   "cell_type": "code",
   "execution_count": 32,
   "id": "47eea385",
   "metadata": {},
   "outputs": [
    {
     "name": "stdout",
     "output_type": "stream",
     "text": [
      "['Cheddar', 'Cheddar', 'Edam', 'Gouda']\n"
     ]
    }
   ],
   "source": [
    "quesos = ['Cheddar','Cheddar', 'Edam', 'Gouda']\n",
    "print(quesos)\n",
    "nuevo=\"oaxaca\"\n"
   ]
  },
  {
   "cell_type": "code",
   "execution_count": 33,
   "id": "f7b95e80",
   "metadata": {},
   "outputs": [
    {
     "name": "stdout",
     "output_type": "stream",
     "text": [
      "['Cheddar', 'Cheddar', 'Edam', 'Gouda', 'Cheddar']\n"
     ]
    }
   ],
   "source": [
    "a=quesos[1]\n",
    "i=\"Cheddar\"\n",
    "quesos =quesos+[i]\n",
    "print(quesos)"
   ]
  },
  {
   "cell_type": "code",
   "execution_count": 6,
   "id": "84dff33a",
   "metadata": {},
   "outputs": [
    {
     "name": "stdout",
     "output_type": "stream",
     "text": [
      "Cheddar\n",
      "Edam\n",
      "Gouda\n"
     ]
    }
   ],
   "source": [
    "for queso in quesos:\n",
    "    print(queso)"
   ]
  },
  {
   "cell_type": "code",
   "execution_count": 13,
   "id": "504c7452",
   "metadata": {},
   "outputs": [
    {
     "data": {
      "text/plain": [
       "['CheddarCheddar', 'EdamEdam', 'Gouda']"
      ]
     },
     "execution_count": 13,
     "metadata": {},
     "output_type": "execute_result"
    }
   ],
   "source": [
    "for i in range(2):\n",
    "    quesos[i]=quesos[i]*2\n",
    "quesos\n"
   ]
  },
  {
   "cell_type": "code",
   "execution_count": 9,
   "id": "df6e5215",
   "metadata": {},
   "outputs": [
    {
     "data": {
      "text/plain": [
       "type"
      ]
     },
     "execution_count": 9,
     "metadata": {},
     "output_type": "execute_result"
    }
   ],
   "source": [
    "type(range)"
   ]
  },
  {
   "cell_type": "code",
   "execution_count": 1,
   "id": "69f09764",
   "metadata": {},
   "outputs": [
    {
     "name": "stdout",
     "output_type": "stream",
     "text": [
      "['a', 'c', 'e', 'h', 't']\n"
     ]
    }
   ],
   "source": [
    "t=[\"a\",\"c\",\"h\",\"t\",\"e\"]\n",
    "t.sort()\n",
    "print(t)"
   ]
  },
  {
   "cell_type": "code",
   "execution_count": 5,
   "id": "ece4971a",
   "metadata": {},
   "outputs": [
    {
     "name": "stdout",
     "output_type": "stream",
     "text": [
      "ingresa un numero\n",
      "h\n",
      "por favor ingresa un valor numerico\n",
      "ingresa un numero\n",
      "7\n",
      "ingresa un numero\n",
      "5\n",
      "ingresa un numero\n",
      "6\n",
      "ingresa un numero\n",
      "4\n",
      "ingresa un numero\n",
      "fin\n",
      "promedio: 5.5\n"
     ]
    }
   ],
   "source": [
    "num_lista=list()\n",
    "while True:\n",
    "    inp=input(\"ingresa un numero\\n\")\n",
    "    if inp== \"fin\":\n",
    "        break \n",
    "    try:\n",
    "        valor=float(inp)\n",
    "        num_lista.append(valor)\n",
    "    except:\n",
    "        print(\"por favor ingresa un valor numerico\")\n",
    "promedio=sum(num_lista)/len(num_lista)        \n",
    "print(\"promedio:\", promedio)"
   ]
  },
  {
   "cell_type": "code",
   "execution_count": 17,
   "id": "a049734f",
   "metadata": {},
   "outputs": [
    {
     "name": "stdout",
     "output_type": "stream",
     "text": [
      "[1, 2, 3]\n",
      "\n",
      "\n",
      "None\n",
      "[1, 2, 3, 3]\n"
     ]
    }
   ],
   "source": [
    "t1=[1,2]\n",
    "t2=t1.append(3)\n",
    "print(t1)\n",
    "print(\"\\n\")\n",
    "print(t2)\n",
    "t3=t1+[3]\n",
    "print(t3)"
   ]
  },
  {
   "cell_type": "code",
   "execution_count": 18,
   "id": "c9de898b",
   "metadata": {},
   "outputs": [
    {
     "data": {
      "text/plain": [
       "[1, 5, 9, 3, 5, 7, [56]]"
      ]
     },
     "execution_count": 18,
     "metadata": {},
     "output_type": "execute_result"
    }
   ],
   "source": [
    "FG=[1,5,9,3,5,7]\n",
    "FG.append([56])\n",
    "FG\n",
    "RG=range(8)"
   ]
  },
  {
   "cell_type": "code",
   "execution_count": 97,
   "id": "858ac5ce",
   "metadata": {},
   "outputs": [
    {
     "name": "stdout",
     "output_type": "stream",
     "text": [
      "8\n"
     ]
    }
   ],
   "source": [
    "A=['But','soft',\"what\",\"light\",'and','kill','and','kill']\n",
    "B=['But']\n",
    "print(len(A))"
   ]
  },
  {
   "cell_type": "code",
   "execution_count": 98,
   "id": "a65a5b4b",
   "metadata": {},
   "outputs": [
    {
     "name": "stdout",
     "output_type": "stream",
     "text": [
      "But\n",
      "[]\n",
      "soft\n",
      "['But']\n",
      "['But', 'soft']\n",
      "what\n",
      "['But', 'soft']\n",
      "['But', 'soft', 'what']\n",
      "light\n",
      "['But', 'soft', 'what']\n",
      "['But', 'soft', 'what', 'light']\n",
      "and\n",
      "['But', 'soft', 'what', 'light']\n",
      "['But', 'soft', 'what', 'light', 'and']\n",
      "kill\n",
      "['But', 'soft', 'what', 'light', 'and']\n",
      "['But', 'soft', 'what', 'light', 'and', 'kill']\n",
      "and\n",
      "['But', 'soft', 'what', 'light', 'kill']\n",
      "kill\n",
      "['But', 'soft', 'what', 'light', 'and']\n",
      "final ['But', 'soft', 'what', 'light', 'and', 'kill']\n",
      "6\n"
     ]
    }
   ],
   "source": [
    "for i in A:\n",
    "    print(i)\n",
    "    try:\n",
    "        B.remove(i)\n",
    "        print(B)\n",
    "        B.append(i)\n",
    "        \n",
    "    except:            \n",
    "        print(B)\n",
    "        B.append(i)\n",
    "        print(B)\n",
    "    \n",
    "print(\"final\", B)\n",
    "print(len(B))"
   ]
  },
  {
   "cell_type": "markdown",
   "id": "59e0987f",
   "metadata": {},
   "source": [
    "## CAPITULO 9 Diccionarios "
   ]
  },
  {
   "cell_type": "code",
   "execution_count": 17,
   "id": "3bcc7233",
   "metadata": {},
   "outputs": [
    {
     "name": "stdout",
     "output_type": "stream",
     "text": [
      "ingresa una palabra \n",
      "fsdfs\n",
      "{'f': 2, 's': 2, 'd': 1}\n"
     ]
    }
   ],
   "source": [
    "palabra =input(\"ingresa una palabra \\n\") \n",
    "d = dict()\n",
    "for c in palabra:\n",
    "    if c not in d:\n",
    "        d[c] = 1\n",
    "    else:\n",
    "        d[c] = d[c] + 1\n",
    "print(d)"
   ]
  },
  {
   "cell_type": "code",
   "execution_count": 18,
   "id": "3b5a5f94",
   "metadata": {},
   "outputs": [
    {
     "name": "stdout",
     "output_type": "stream",
     "text": [
      "ingresa una palabra \n",
      "sdasda\n",
      "{'s': 2, 'd': 2, 'a': 2}\n"
     ]
    }
   ],
   "source": [
    "palabra =input(\"ingresa una palabra \\n\") \n",
    "d = dict()\n",
    "for c in palabra:\n",
    "    d[c]=d.get(c,0) +1\n",
    "        \n",
    "print(d)"
   ]
  },
  {
   "cell_type": "code",
   "execution_count": 2,
   "id": "49ae3bca",
   "metadata": {},
   "outputs": [
    {
     "name": "stdout",
     "output_type": "stream",
     "text": [
      "Ingresa el nombre de archivo: romeo-full.txt\n",
      "{'Romeo': 4, 'and': 22, 'Juliet': 2, 'Act': 1, '2,': 1, 'Scene': 1, '2': 1, 'SCENE': 1, 'II.': 1, \"Capulet's\": 1, 'orchard.': 1, 'Enter': 1, 'ROMEO': 27, 'He': 2, 'jests': 1, 'at': 7, 'scars': 1, 'that': 23, 'never': 2, 'felt': 1, 'a': 22, 'wound.': 1, 'JULIET': 28, 'appears': 1, 'above': 6, 'window': 2, 'But,': 1, 'soft!': 1, 'what': 6, 'light': 3, 'through': 2, 'yonder': 2, 'breaks?': 1, 'It': 4, 'is': 21, 'the': 30, 'east,': 1, 'sun.': 1, 'Arise,': 1, 'fair': 4, 'sun,': 1, 'kill': 2, 'envious': 1, 'moon,': 3, 'Who': 2, 'already': 1, 'sick': 2, 'pale': 1, 'with': 6, 'grief,': 1, 'That': 6, 'thou': 29, 'her': 12, 'maid': 1, 'art': 5, 'far': 2, 'more': 8, 'than': 3, 'she:': 1, 'Be': 1, 'not': 17, 'maid,': 1, 'since': 1, 'she': 6, 'envious;': 1, 'Her': 2, 'vestal': 1, 'livery': 1, 'but': 13, 'green': 1, 'And': 20, 'none': 1, 'fools': 1, 'do': 6, 'wear': 1, 'it;': 1, 'cast': 1, 'it': 12, 'off.': 1, 'my': 22, 'lady,': 1, 'O,': 8, 'love!': 1, 'knew': 1, 'were!': 1, 'She': 2, 'speaks': 1, 'yet': 7, 'says': 1, 'nothing:': 1, 'of': 18, 'that?': 1, 'eye': 2, 'discourses;': 1, 'I': 60, 'will': 8, 'answer': 1, 'it.': 2, 'am': 6, 'too': 6, 'bold,': 1, \"'tis\": 2, 'to': 31, 'me': 11, 'speaks:': 2, 'Two': 1, 'fairest': 1, 'stars': 1, 'in': 12, 'all': 5, 'heaven,': 1, 'Having': 1, 'some': 3, 'business,': 1, 'entreat': 1, 'eyes': 4, 'To': 3, 'twinkle': 1, 'their': 6, 'spheres': 1, 'till': 4, 'they': 5, 'return.': 1, 'What': 5, 'if': 7, 'were': 8, 'there,': 2, 'head?': 1, 'The': 4, 'brightness': 1, 'cheek': 3, 'would': 13, 'shame': 1, 'those': 2, 'stars,': 1, 'As': 4, 'daylight': 1, 'doth': 2, 'lamp;': 1, 'heaven': 2, 'Would': 2, 'airy': 2, 'region': 1, 'stream': 1, 'so': 5, 'bright': 2, 'birds': 1, 'sing': 1, 'think': 2, 'night.': 1, 'See,': 1, 'how': 3, 'leans': 1, 'upon': 5, 'hand!': 1, 'glove': 1, 'hand,': 3, 'might': 1, 'touch': 1, 'cheek!': 1, 'Ay': 1, 'me!': 1, 'speak': 4, 'again,': 2, 'angel!': 1, 'for': 10, 'glorious': 1, 'this': 6, 'night,': 5, 'being': 1, \"o'er\": 1, 'head': 1, 'winged': 1, 'messenger': 1, 'Unto': 1, 'white-upturned': 1, 'wondering': 1, 'Of': 2, 'mortals': 1, 'fall': 1, 'back': 3, 'gaze': 1, 'on': 4, 'him': 2, 'When': 1, 'he': 3, 'bestrides': 1, 'lazy-pacing': 1, 'clouds': 1, 'sails': 1, 'bosom': 1, 'air.': 1, 'O': 3, 'Romeo,': 5, 'Romeo!': 2, 'wherefore': 1, 'Romeo?': 1, 'Deny': 1, 'thy': 19, 'father': 1, 'refuse': 1, 'name;': 1, 'Or,': 2, 'wilt': 5, 'not,': 1, 'be': 13, 'sworn': 1, 'love,': 9, \"I'll\": 8, 'no': 6, 'longer': 1, 'Capulet.': 1, '[Aside]': 1, 'Shall': 2, 'hear': 2, 'more,': 1, 'or': 1, 'shall': 4, 'this?': 1, \"'Tis\": 2, 'name': 4, 'enemy;': 1, 'Thou': 3, 'thyself,': 1, 'though': 1, 'Montague.': 1, \"What's\": 2, 'Montague?': 2, 'nor': 4, 'foot,': 1, 'Nor': 1, 'arm,': 1, 'face,': 2, 'any': 4, 'other': 4, 'part': 2, 'Belonging': 1, 'man.': 1, 'name!': 1, 'name?': 1, 'which': 5, 'we': 2, 'call': 2, 'rose': 1, 'By': 6, 'smell': 1, 'as': 8, 'sweet;': 1, 'So': 5, 'would,': 1, \"call'd,\": 1, 'Retain': 1, 'dear': 6, 'perfection': 1, 'owes': 1, 'Without': 1, 'title.': 1, 'doff': 1, 'name,': 2, 'thee': 15, 'Take': 1, 'myself.': 1, 'take': 2, 'word:': 2, 'Call': 1, 'new': 1, 'baptized;': 1, 'Henceforth': 1, 'Romeo.': 1, 'man': 1, 'thus': 1, \"bescreen'd\": 1, 'night': 5, 'stumblest': 1, 'counsel?': 1, 'know': 3, 'tell': 2, 'who': 3, 'am:': 1, 'My': 7, 'saint,': 2, 'hateful': 1, 'myself,': 1, 'Because': 1, 'an': 2, 'enemy': 1, 'thee;': 1, 'Had': 1, 'written,': 1, 'tear': 2, 'word.': 1, 'ears': 1, 'have': 11, 'drunk': 1, 'hundred': 1, 'words': 1, \"tongue's\": 1, 'utterance,': 1, 'sound:': 1, 'Art': 1, 'Neither,': 1, 'either': 1, 'dislike.': 1, 'How': 2, 'camest': 1, 'hither,': 1, 'me,': 4, 'wherefore?': 1, 'orchard': 1, 'walls': 1, 'are': 3, 'high': 1, 'hard': 1, 'climb,': 1, 'place': 1, 'death,': 1, 'considering': 1, 'art,': 1, 'If': 5, 'kinsmen': 2, 'find': 2, 'here.': 2, 'With': 2, \"love's\": 3, 'wings': 1, 'did': 3, \"o'er-perch\": 1, 'these': 2, 'walls;': 1, 'For': 2, 'stony': 1, 'limits': 1, 'cannot': 1, 'hold': 1, 'love': 10, 'out,': 1, 'can': 2, 'dares': 1, 'attempt;': 1, 'Therefore': 1, 'let': 2, 'me.': 1, 'see': 1, 'thee,': 4, 'murder': 1, 'thee.': 2, 'Alack,': 1, 'there': 1, 'lies': 1, 'peril': 1, 'thine': 2, 'Than': 3, 'twenty': 2, 'swords:': 1, 'look': 1, 'sweet,': 1, 'proof': 1, 'against': 1, 'enmity.': 1, 'world': 1, 'saw': 1, \"night's\": 1, 'cloak': 1, 'hide': 1, 'from': 4, 'sight;': 1, 'them': 1, 'here:': 1, 'life': 1, 'better': 1, 'ended': 1, 'by': 6, 'hate,': 1, 'death': 1, 'prorogued,': 1, 'wanting': 1, 'love.': 1, 'whose': 1, 'direction': 1, \"found'st\": 1, 'out': 1, 'place?': 1, 'first': 1, 'prompt': 1, 'inquire;': 1, 'lent': 2, 'counsel': 1, 'eyes.': 1, 'pilot;': 1, 'yet,': 1, 'wert': 1, 'vast': 1, 'shore': 1, \"wash'd\": 1, 'farthest': 1, 'sea,': 2, 'adventure': 1, 'such': 2, 'merchandise.': 1, \"know'st\": 1, 'mask': 1, 'Else': 2, 'maiden': 1, 'blush': 1, 'bepaint': 1, 'hast': 1, 'heard': 1, 'to-night': 1, 'Fain': 1, 'dwell': 2, 'form,': 1, 'fain,': 1, 'fain': 1, 'deny': 1, 'spoke:': 1, 'farewell': 1, 'compliment!': 1, 'Dost': 1, 'me?': 1, 'say': 4, \"'Ay,'\": 1, \"swear'st,\": 1, 'mayst': 2, 'prove': 4, 'false;': 1, \"lovers'\": 2, 'perjuries': 1, 'Then': 1, 'say,': 1, 'Jove': 1, 'laughs.': 1, 'gentle': 1, 'dost': 1, 'pronounce': 1, 'faithfully:': 1, 'Or': 1, \"think'st\": 1, 'quickly': 1, 'won,': 1, 'frown': 1, 'perverse': 1, 'nay,': 1, 'woo;': 1, 'else,': 1, 'world.': 2, 'In': 1, 'truth,': 1, 'Montague,': 2, 'fond,': 1, 'therefore': 2, \"'havior\": 1, 'light:': 1, 'But': 4, 'trust': 1, 'gentleman,': 1, 'true': 2, 'cunning': 1, 'strange.': 1, 'should': 2, 'been': 1, 'strange,': 1, 'must': 1, 'confess,': 1, \"overheard'st,\": 1, 'ere': 1, 'was': 1, 'ware,': 1, 'passion:': 1, 'pardon': 1, 'impute': 1, 'yielding': 1, 'Which': 2, 'dark': 1, 'hath': 1, 'discovered.': 1, 'Lady,': 1, 'blessed': 2, 'moon': 1, 'swear': 5, 'tips': 1, 'silver': 1, 'fruit-tree': 1, 'tops--': 1, 'inconstant': 1, 'monthly': 1, 'changes': 1, 'circled': 1, 'orb,': 1, 'Lest': 1, 'likewise': 1, 'variable.': 1, 'by?': 1, 'Do': 1, 'all;': 1, 'wilt,': 1, 'gracious': 1, 'self,': 1, 'god': 1, 'idolatry,': 1, 'believe': 1, \"heart's\": 1, 'love--': 1, 'Well,': 1, 'swear:': 1, 'although': 1, 'joy': 2, 'contract': 1, 'to-night:': 1, 'rash,': 1, 'unadvised,': 1, 'sudden;': 1, 'Too': 2, 'like': 1, 'lightning,': 1, 'cease': 2, 'Ere': 1, 'one': 2, \"'It\": 1, \"lightens.'\": 1, 'Sweet,': 2, 'good': 7, 'night!': 5, 'This': 1, 'bud': 1, \"summer's\": 1, 'ripening': 1, 'breath,': 1, 'May': 1, 'beauteous': 1, 'flower': 1, 'when': 1, 'next': 1, 'meet.': 1, 'Good': 2, 'sweet': 3, 'repose': 1, 'rest': 1, 'Come': 1, 'heart': 1, 'within': 2, 'breast!': 2, 'leave': 2, 'unsatisfied?': 1, 'satisfaction': 1, 'canst': 1, 'to-night?': 1, 'exchange': 1, 'faithful': 1, 'vow': 1, 'mine.': 1, 'gave': 1, 'mine': 1, 'before': 1, 'didst': 1, 'request': 1, 'it:': 1, 'give': 3, 'again.': 3, 'Wouldst': 1, 'withdraw': 1, 'it?': 1, 'purpose,': 1, 'love?': 1, 'frank,': 1, 'wish': 1, 'thing': 1, 'have:': 1, 'bounty': 1, 'boundless': 1, 'deep;': 1, 'have,': 1, 'both': 1, 'infinite.': 1, 'Nurse': 3, 'calls': 2, 'noise': 1, 'within;': 1, 'adieu!': 1, 'Anon,': 1, 'nurse!': 1, 'Sweet': 1, 'true.': 1, 'Stay': 1, 'little,': 1, 'come': 2, 'Exit,': 2, 'blessed,': 1, 'afeard.': 1, 'Being': 1, 'dream,': 1, 'flattering-sweet': 1, 'substantial.': 1, 'Re-enter': 2, 'JULIET,': 2, 'Three': 1, 'words,': 1, 'indeed.': 1, 'bent': 1, 'honourable,': 1, 'Thy': 1, 'purpose': 1, 'marriage,': 1, 'send': 2, 'word': 1, 'to-morrow,': 1, 'procure': 1, 'Where': 1, 'time': 1, 'perform': 1, 'rite;': 1, 'fortunes': 1, 'foot': 1, 'lay': 1, 'follow': 1, 'lord': 1, 'throughout': 1, '[Within]': 2, 'Madam!': 2, 'come,': 1, 'anon.--But': 1, \"mean'st\": 1, 'well,': 1, 'beseech': 1, 'thee--': 1, 'by,': 1, 'come:--': 1, 'suit,': 1, 'grief:': 1, 'To-morrow': 1, 'send.': 1, 'thrive': 1, 'soul--': 1, 'A': 2, 'thousand': 2, 'times': 2, 'worse,': 1, 'want': 1, 'light.': 1, 'Love': 1, 'goes': 1, 'toward': 2, 'schoolboys': 1, 'books,': 1, 'school': 1, 'heavy': 1, 'looks.': 1, 'Retiring': 1, 'Hist!': 1, 'hist!': 1, \"falconer's\": 1, 'voice,': 1, 'lure': 1, 'tassel-gentle': 1, 'again!': 1, 'Bondage': 1, 'hoarse,': 1, 'may': 1, 'aloud;': 1, 'cave': 1, 'where': 1, 'Echo': 1, 'lies,': 1, 'make': 1, 'tongue': 1, 'hoarse': 1, 'mine,': 1, 'repetition': 1, \"Romeo's\": 1, 'name.': 1, 'soul': 1, 'name:': 1, 'silver-sweet': 1, 'sound': 1, 'tongues': 1, 'Like': 2, 'softest': 1, 'music': 1, 'attending': 1, 'ears!': 1, 'dear?': 1, 'At': 2, \"o'clock\": 1, 'to-morrow': 1, 'thee?': 1, 'hour': 1, 'nine.': 1, 'fail:': 1, 'years': 1, 'then.': 1, 'forgot': 1, 'why': 1, 'back.': 1, 'Let': 1, 'stand': 2, 'here': 1, 'remember': 1, 'forget,': 2, 'still': 3, 'Remembering': 1, 'company.': 1, 'stay,': 1, 'Forgetting': 1, 'home': 1, 'this.': 1, 'almost': 1, 'morning;': 1, 'gone:': 1, 'further': 1, \"wanton's\": 1, 'bird;': 1, 'lets': 1, 'hop': 1, 'little': 1, 'poor': 1, 'prisoner': 1, 'his': 2, 'twisted': 1, 'gyves,': 1, 'silk': 1, 'thread': 1, 'plucks': 1, 'loving-jealous': 1, 'liberty.': 1, 'bird.': 1, 'I:': 1, 'Yet': 1, 'much': 1, 'cherishing.': 1, 'parting': 1, 'sorrow,': 1, 'morrow.': 1, 'Exit': 2, 'Sleep': 1, 'eyes,': 1, 'peace': 1, 'sleep': 1, 'peace,': 1, 'rest!': 1, 'Hence': 1, 'ghostly': 1, \"father's\": 1, 'cell,': 1, 'His': 1, 'help': 1, 'crave,': 1, 'hap': 1, 'tell.': 1}\n"
     ]
    }
   ],
   "source": [
    "fname = input('Ingresa el nombre de archivo: ')\n",
    "try:\n",
    "    fhand=open(fname)\n",
    "\n",
    "    \n",
    "    counts=dict()\n",
    "    for line in fhand:\n",
    "        words=line.split()\n",
    "        for word in words:\n",
    "            if word not in counts:\n",
    "                counts[word]=1\n",
    "            else:\n",
    "                counts[word]+=1\n",
    "    print(counts)\n",
    "except:\n",
    "    print(\"el archivo puede ser abierto \",fname)\n",
    "    "
   ]
  },
  {
   "cell_type": "code",
   "execution_count": 12,
   "id": "03dc77ac",
   "metadata": {},
   "outputs": [],
   "source": [
    "contadores = { 'chuck' : 1 , 'annie' : 42, 'jan': 100}"
   ]
  },
  {
   "cell_type": "code",
   "execution_count": 22,
   "id": "31886af7",
   "metadata": {},
   "outputs": [
    {
     "name": "stdout",
     "output_type": "stream",
     "text": [
      "['chuck', 'annie', 'jan']\n",
      "annie 42\n",
      "chuck 1\n",
      "jan 100\n"
     ]
    }
   ],
   "source": [
    "lst= contadores.keys() # el metodo keys  mete una lista dentro de uotra lista es por eso necesesario \n",
    "                       #  utilizar List para hacerlo una sola lista \n",
    "lst = list(contadores.keys())\n",
    "print(lst)\n",
    "lst.sort()\n",
    "for clave in lst:\n",
    "    print(clave,contadores[clave])"
   ]
  },
  {
   "cell_type": "code",
   "execution_count": 12,
   "id": "c0e7447a",
   "metadata": {},
   "outputs": [
    {
     "name": "stdout",
     "output_type": "stream",
     "text": [
      "ingresa el nombre del archivo: romeo-full.txt\n",
      "{'romeo': 40, 'and': 42, 'juliet': 32, 'act': 1, '2': 2, 'scene': 2, 'ii': 1, 'capulets': 1, 'orchard': 2, 'enter': 1, 'he': 5, 'jests': 1, 'at': 9, 'scars': 1, 'that': 30, 'never': 2, 'felt': 1, 'a': 24, 'wound': 1, 'appears': 1, 'above': 6, 'window': 2, 'but': 18, 'soft': 1, 'what': 11, 'light': 5, 'through': 2, 'yonder': 2, 'breaks': 1, 'it': 22, 'is': 21, 'the': 34, 'east': 1, 'sun': 2, 'arise': 1, 'fair': 4, 'kill': 2, 'envious': 2, 'moon': 4, 'who': 5, 'already': 1, 'sick': 2, 'pale': 1, 'with': 8, 'grief': 2, 'thou': 32, 'her': 14, 'maid': 2, 'art': 7, 'far': 2, 'more': 9, 'than': 6, 'she': 9, 'be': 14, 'not': 18, 'since': 1, 'vestal': 1, 'livery': 1, 'green': 1, 'none': 1, 'fools': 1, 'do': 7, 'wear': 1, 'cast': 1, 'off': 1, 'my': 29, 'lady': 2, 'o': 11, 'love': 24, 'knew': 1, 'were': 9, 'speaks': 3, 'yet': 9, 'says': 1, 'nothing': 1, 'of': 20, 'eye': 2, 'discourses': 1, 'i': 61, 'will': 8, 'answer': 1, 'am': 7, 'too': 8, 'bold': 1, 'tis': 4, 'to': 34, 'me': 18, 'two': 1, 'fairest': 1, 'stars': 2, 'in': 13, 'all': 6, 'heaven': 3, 'having': 1, 'some': 3, 'business': 1, 'entreat': 1, 'eyes': 6, 'twinkle': 1, 'their': 6, 'spheres': 1, 'till': 4, 'they': 5, 'return': 1, 'if': 12, 'there': 3, 'head': 2, 'brightness': 1, 'cheek': 4, 'would': 16, 'shame': 1, 'those': 2, 'as': 12, 'daylight': 1, 'doth': 2, 'lamp': 1, 'airy': 2, 'region': 1, 'stream': 1, 'so': 10, 'bright': 2, 'birds': 1, 'sing': 1, 'think': 2, 'night': 16, 'see': 2, 'how': 5, 'leans': 1, 'upon': 5, 'hand': 4, 'glove': 1, 'might': 1, 'touch': 1, 'ay': 2, 'speak': 4, 'again': 6, 'angel': 1, 'for': 12, 'glorious': 1, 'this': 9, 'being': 2, 'oer': 1, 'winged': 1, 'messenger': 1, 'unto': 1, 'whiteupturned': 1, 'wondering': 1, 'mortals': 1, 'fall': 1, 'back': 4, 'gaze': 1, 'on': 4, 'him': 2, 'when': 2, 'bestrides': 1, 'lazypacing': 1, 'clouds': 1, 'sails': 1, 'bosom': 1, 'air': 1, 'wherefore': 2, 'deny': 2, 'thy': 20, 'father': 1, 'refuse': 1, 'name': 11, 'or': 4, 'wilt': 6, 'sworn': 1, 'ill': 8, 'no': 6, 'longer': 1, 'capulet': 1, 'aside': 1, 'shall': 6, 'hear': 2, 'enemy': 2, 'thyself': 1, 'though': 1, 'montague': 5, 'whats': 2, 'nor': 5, 'foot': 2, 'arm': 1, 'face': 2, 'any': 4, 'other': 4, 'part': 2, 'belonging': 1, 'man': 2, 'which': 7, 'we': 2, 'call': 3, 'rose': 1, 'by': 14, 'smell': 1, 'sweet': 8, 'calld': 1, 'retain': 1, 'dear': 7, 'perfection': 1, 'owes': 1, 'without': 1, 'title': 1, 'doff': 1, 'thee': 24, 'take': 3, 'myself': 2, 'word': 4, 'new': 1, 'baptized': 1, 'henceforth': 1, 'thus': 1, 'bescreend': 1, 'stumblest': 1, 'counsel': 2, 'know': 3, 'tell': 3, 'saint': 2, 'hateful': 1, 'because': 1, 'an': 2, 'had': 1, 'written': 1, 'tear': 2, 'ears': 2, 'have': 13, 'drunk': 1, 'hundred': 1, 'words': 2, 'tongues': 2, 'utterance': 1, 'sound': 2, 'neither': 1, 'either': 1, 'dislike': 1, 'camest': 1, 'hither': 1, 'walls': 2, 'are': 3, 'high': 1, 'hard': 1, 'climb': 1, 'place': 2, 'death': 2, 'considering': 1, 'kinsmen': 2, 'find': 2, 'here': 4, 'loves': 3, 'wings': 1, 'did': 3, 'oerperch': 1, 'these': 2, 'stony': 1, 'limits': 1, 'cannot': 1, 'hold': 1, 'out': 2, 'can': 2, 'dares': 1, 'attempt': 1, 'therefore': 3, 'let': 3, 'murder': 1, 'alack': 1, 'lies': 2, 'peril': 1, 'thine': 2, 'twenty': 2, 'swords': 1, 'look': 1, 'proof': 1, 'against': 1, 'enmity': 1, 'world': 3, 'saw': 1, 'nights': 1, 'cloak': 1, 'hide': 1, 'from': 4, 'sight': 1, 'them': 1, 'life': 1, 'better': 1, 'ended': 1, 'hate': 1, 'prorogued': 1, 'wanting': 1, 'whose': 1, 'direction': 1, 'foundst': 1, 'first': 1, 'prompt': 1, 'inquire': 1, 'lent': 2, 'pilot': 1, 'wert': 1, 'vast': 1, 'shore': 1, 'washd': 1, 'farthest': 1, 'sea': 2, 'adventure': 1, 'such': 2, 'merchandise': 1, 'knowst': 1, 'mask': 1, 'else': 3, 'maiden': 1, 'blush': 1, 'bepaint': 1, 'hast': 1, 'heard': 1, 'tonight': 3, 'fain': 3, 'dwell': 2, 'form': 1, 'spoke': 1, 'farewell': 1, 'compliment': 1, 'dost': 2, 'say': 5, 'swearst': 1, 'mayst': 2, 'prove': 4, 'false': 1, 'lovers': 2, 'perjuries': 1, 'then': 2, 'jove': 1, 'laughs': 1, 'gentle': 1, 'pronounce': 1, 'faithfully': 1, 'thinkst': 1, 'quickly': 1, 'won': 1, 'frown': 1, 'perverse': 1, 'nay': 1, 'woo': 1, 'truth': 1, 'fond': 1, 'havior': 1, 'trust': 1, 'gentleman': 1, 'true': 3, 'cunning': 1, 'strange': 2, 'should': 2, 'been': 1, 'must': 1, 'confess': 1, 'overheardst': 1, 'ere': 2, 'was': 1, 'ware': 1, 'passion': 1, 'pardon': 1, 'impute': 1, 'yielding': 1, 'dark': 1, 'hath': 1, 'discovered': 1, 'blessed': 3, 'swear': 6, 'tips': 1, 'silver': 1, 'fruittree': 1, 'tops': 1, 'inconstant': 1, 'monthly': 1, 'changes': 1, 'circled': 1, 'orb': 1, 'lest': 1, 'likewise': 1, 'variable': 1, 'gracious': 1, 'self': 1, 'god': 1, 'idolatry': 1, 'believe': 1, 'hearts': 1, 'well': 2, 'although': 1, 'joy': 2, 'contract': 1, 'rash': 1, 'unadvised': 1, 'sudden': 1, 'like': 3, 'lightning': 1, 'cease': 2, 'one': 2, 'lightens': 1, 'good': 9, 'bud': 1, 'summers': 1, 'ripening': 1, 'breath': 1, 'may': 2, 'beauteous': 1, 'flower': 1, 'next': 1, 'meet': 1, 'repose': 1, 'rest': 2, 'come': 5, 'heart': 1, 'within': 5, 'breast': 2, 'leave': 2, 'unsatisfied': 1, 'satisfaction': 1, 'canst': 1, 'exchange': 1, 'faithful': 1, 'vow': 1, 'mine': 3, 'gave': 1, 'before': 1, 'didst': 1, 'request': 1, 'give': 3, 'wouldst': 1, 'withdraw': 1, 'purpose': 2, 'frank': 1, 'wish': 1, 'thing': 1, 'bounty': 1, 'boundless': 1, 'deep': 1, 'both': 1, 'infinite': 1, 'nurse': 4, 'calls': 2, 'noise': 1, 'adieu': 1, 'anon': 1, 'stay': 2, 'little': 2, 'exit': 4, 'afeard': 1, 'dream': 1, 'flatteringsweet': 1, 'substantial': 1, 'reenter': 2, 'three': 1, 'indeed': 1, 'bent': 1, 'honourable': 1, 'marriage': 1, 'send': 3, 'tomorrow': 3, 'procure': 1, 'where': 2, 'time': 1, 'perform': 1, 'rite': 1, 'fortunes': 1, 'lay': 1, 'follow': 1, 'lord': 1, 'throughout': 1, 'madam': 2, 'anonbut': 1, 'meanst': 1, 'beseech': 1, 'suit': 1, 'thrive': 1, 'soul': 2, 'thousand': 2, 'times': 2, 'worse': 1, 'want': 1, 'goes': 1, 'toward': 2, 'schoolboys': 1, 'books': 1, 'school': 1, 'heavy': 1, 'looks': 1, 'retiring': 1, 'hist': 2, 'falconers': 1, 'voice': 1, 'lure': 1, 'tasselgentle': 1, 'bondage': 1, 'hoarse': 2, 'aloud': 1, 'cave': 1, 'echo': 1, 'make': 1, 'tongue': 1, 'repetition': 1, 'romeos': 1, 'silversweet': 1, 'softest': 1, 'music': 1, 'attending': 1, 'oclock': 1, 'hour': 1, 'nine': 1, 'fail': 1, 'years': 1, 'forgot': 1, 'why': 1, 'stand': 2, 'remember': 1, 'forget': 2, 'still': 3, 'remembering': 1, 'company': 1, 'forgetting': 1, 'home': 1, 'almost': 1, 'morning': 1, 'gone': 1, 'further': 1, 'wantons': 1, 'bird': 2, 'lets': 1, 'hop': 1, 'poor': 1, 'prisoner': 1, 'his': 3, 'twisted': 1, 'gyves': 1, 'silk': 1, 'thread': 1, 'plucks': 1, 'lovingjealous': 1, 'liberty': 1, 'much': 1, 'cherishing': 1, 'parting': 1, 'sorrow': 1, 'morrow': 1, 'sleep': 2, 'peace': 2, 'hence': 1, 'ghostly': 1, 'fathers': 1, 'cell': 1, 'help': 1, 'crave': 1, 'hap': 1}\n"
     ]
    }
   ],
   "source": [
    "import string \n",
    "\n",
    "fname=input(\"ingresa el nombre del archivo: \")\n",
    "try:\n",
    "    fhand=open(fname)\n",
    "    counts=dict()\n",
    "    \n",
    "    for line in fhand:\n",
    "        line = line.rstrip()\n",
    "        \n",
    "        line = line.translate(line.maketrans('', '', string.punctuation))\n",
    "        \n",
    "        line = line.lower()\n",
    "       \n",
    "        words = line.split()\n",
    "        \n",
    "       \n",
    "        \n",
    "        for word in words:\n",
    "            if word not in counts:\n",
    "                counts[word]=1\n",
    "            else:\n",
    "                counts[word]+=1\n",
    "    print(counts)\n",
    "            \n",
    "except:\n",
    "    print(\"el archivo no pudo ser abierto\")"
   ]
  },
  {
   "cell_type": "markdown",
   "id": "6edf2fa2",
   "metadata": {},
   "source": [
    "# capitulo 10 Tuplas \n"
   ]
  },
  {
   "cell_type": "code",
   "execution_count": 8,
   "id": "040fadbf",
   "metadata": {},
   "outputs": [],
   "source": [
    "t=(\"a\",\"b\",\"c\",\"d\",\"e\")"
   ]
  },
  {
   "cell_type": "code",
   "execution_count": 9,
   "id": "d35c8dec",
   "metadata": {},
   "outputs": [
    {
     "data": {
      "text/plain": [
       "tuple"
      ]
     },
     "execution_count": 9,
     "metadata": {},
     "output_type": "execute_result"
    }
   ],
   "source": [
    "type(t)"
   ]
  },
  {
   "cell_type": "code",
   "execution_count": 11,
   "id": "f0af9d3a",
   "metadata": {},
   "outputs": [
    {
     "data": {
      "text/plain": [
       "('A', 'b', 'c', 'd', 'e')"
      ]
     },
     "execution_count": 11,
     "metadata": {},
     "output_type": "execute_result"
    }
   ],
   "source": [
    "t=(\"A\",)+t[1:]\n",
    "t"
   ]
  },
  {
   "cell_type": "code",
   "execution_count": 24,
   "id": "145d0e46",
   "metadata": {},
   "outputs": [
    {
     "name": "stdout",
     "output_type": "stream",
     "text": [
      "['Pero', 'qué', 'luz', 'se', 'deja', 'ver', 'allí']\n",
      "[(4, 'Pero'), (3, 'qué'), (3, 'luz'), (2, 'se'), (4, 'deja'), (3, 'ver'), (4, 'allí')]\n",
      "[(4, 'deja'), (4, 'allí'), (4, 'Pero'), (3, 'ver'), (3, 'qué'), (3, 'luz'), (2, 'se')]\n",
      "['deja', 'allí', 'Pero', 'ver', 'qué', 'luz', 'se']\n"
     ]
    }
   ],
   "source": [
    "txt = 'Pero qué luz se deja ver allí'\n",
    "palabras = txt.split()\n",
    "print(palabras)\n",
    "t = list()\n",
    "for palabra in palabras:\n",
    "    t.append((len(palabra),palabra))\n",
    "print(t)\n",
    "t.sort(reverse=True)\n",
    "print(t)\n",
    "\n",
    "res=list()\n",
    "for longitud,palabra in t:\n",
    "    res.append(palabra)\n",
    "print(res)"
   ]
  },
  {
   "cell_type": "code",
   "execution_count": 20,
   "id": "d1d37b08",
   "metadata": {},
   "outputs": [
    {
     "name": "stdout",
     "output_type": "stream",
     "text": [
      "['deja', 'allí', 'Pero', 'ver', 'qué', 'luz', 'se']\n"
     ]
    }
   ],
   "source": [
    "txt = 'Pero qué luz se deja ver allí'\n",
    "palabras = txt.split()\n",
    "t = list()\n",
    "for palabra in palabras:\n",
    "    t.append((len(palabra),palabra))\n",
    "t.sort(reverse=True)\n",
    "res = list()\n",
    "for longitud, palabra in t:\n",
    "    res.append(palabra)\n",
    "print(res)"
   ]
  },
  {
   "cell_type": "code",
   "execution_count": 12,
   "id": "6a7ccfb2",
   "metadata": {},
   "outputs": [
    {
     "data": {
      "text/plain": [
       "[('a', 10), ('b', 1), ('c', 22)]"
      ]
     },
     "execution_count": 12,
     "metadata": {},
     "output_type": "execute_result"
    }
   ],
   "source": [
    "d = {'a':10, 'b':1, 'c':22}\n",
    "t=list(d.items())\n",
    "t"
   ]
  },
  {
   "cell_type": "code",
   "execution_count": 27,
   "id": "3a692461",
   "metadata": {},
   "outputs": [
    {
     "name": "stdout",
     "output_type": "stream",
     "text": [
      "[('b', 1), ('c', 22), ('a', 10), ('d', 34)]\n",
      "[('a', 10), ('b', 1), ('c', 22), ('d', 34)]\n",
      "1 b\n",
      "22 c\n",
      "10 a\n",
      "34 d\n"
     ]
    }
   ],
   "source": [
    "a={'b':1, 'c':22,'a':10, \"d\":34}\n",
    "e=list(a.items())\n",
    "print(e)\n",
    "e.sort()\n",
    "print(e)\n",
    "for clave,valor in list(a.items()):\n",
    "    print(valor,clave)"
   ]
  },
  {
   "cell_type": "code",
   "execution_count": 31,
   "id": "854bbf09",
   "metadata": {},
   "outputs": [
    {
     "name": "stdout",
     "output_type": "stream",
     "text": [
      "i 61\n",
      "and 42\n",
      "romeo 40\n",
      "to 34\n",
      "the 34\n",
      "thou 32\n",
      "juliet 32\n",
      "that 30\n",
      "my 29\n",
      "thee 24\n"
     ]
    }
   ],
   "source": [
    "import string\n",
    "manejador = open('romeo-full.txt')\n",
    "contadores = dict()\n",
    "for linea in manejador:\n",
    "    linea = linea.translate(str.maketrans('', '', string.punctuation))\n",
    "    linea = linea.lower()\n",
    "    palabras = linea.split()\n",
    "    for palabra in palabras:\n",
    "        if palabra not in contadores:\n",
    "            contadores[palabra] = 1\n",
    "        else:\n",
    "            contadores[palabra] += 1\n",
    "# Ordenar el diccionario por valor\n",
    "lst = list()\n",
    "for clave, valor in list(contadores.items()):\n",
    "    lst.append((valor, clave))\n",
    "lst.sort(reverse=True)\n",
    "for clave, valor in lst[:10]:\n",
    "    print( valor,clave)"
   ]
  },
  {
   "cell_type": "code",
   "execution_count": null,
   "id": "9b104284",
   "metadata": {},
   "outputs": [],
   "source": []
  },
  {
   "cell_type": "code",
   "execution_count": 11,
   "id": "7743877c",
   "metadata": {},
   "outputs": [
    {
     "data": {
      "text/plain": [
       "True"
      ]
     },
     "execution_count": 11,
     "metadata": {},
     "output_type": "execute_result"
    }
   ],
   "source": []
  },
  {
   "cell_type": "code",
   "execution_count": null,
   "id": "859731da",
   "metadata": {},
   "outputs": [],
   "source": []
  }
 ],
 "metadata": {
  "kernelspec": {
   "display_name": "Python 3 (ipykernel)",
   "language": "python",
   "name": "python3"
  },
  "language_info": {
   "codemirror_mode": {
    "name": "ipython",
    "version": 3
   },
   "file_extension": ".py",
   "mimetype": "text/x-python",
   "name": "python",
   "nbconvert_exporter": "python",
   "pygments_lexer": "ipython3",
   "version": "3.10.7"
  }
 },
 "nbformat": 4,
 "nbformat_minor": 5
}
