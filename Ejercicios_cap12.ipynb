{
 "cells": [
  {
   "cell_type": "markdown",
   "metadata": {},
   "source": [
    "Ejercicio 1: Cambia el programa del socket socket1.py para que le pida al\n",
    "usuario la URL, de modo que pueda leer cualquier página web. Puedes\n",
    "usar split('/') para dividir la URL en las partes que la componen, de\n",
    "modo que puedas extraer el nombre del host para la llamada a connect\n",
    "del socket. Añade comprobación de errores utilizando try y except para\n",
    "contemplar la posibilidad de que el usuario introduzca una URL mal\n",
    "formada o inexistente."
   ]
  },
  {
   "cell_type": "code",
   "execution_count": null,
   "metadata": {},
   "outputs": [],
   "source": [
    "import socket\n",
    "\n",
    "try:\n",
    "    # Solicitar al usuario la URL\n",
    "    url = input(\"Introduzca la URL: \")\n",
    "\n",
    "    # Dividir la URL en partes para extraer el nombre del host\n",
    "    partes_url = url.split('/')\n",
    "    host = partes_url[2]\n",
    "\n",
    "    # Crear y conectar el socket al host\n",
    "    misock = socket.socket(socket.AF_INET, socket.SOCK_STREAM)\n",
    "    misock.connect((host, 80))\n",
    "\n",
    "    # Preparar la solicitud HTTP\n",
    "    cmd = f'GET {url} HTTP/1.0\\r\\n\\r\\n'.encode()\n",
    "    misock.send(cmd)\n",
    "\n",
    "    while True:\n",
    "        # Recibir y mostrar los datos del servidor\n",
    "        datos = misock.recv(512)\n",
    "        if len(datos) < 1:\n",
    "            break\n",
    "        print(datos.decode(), end='')\n",
    "\n",
    "except Exception as e:\n",
    "    print(f\"Error: {e}\")\n",
    "\n",
    "finally:\n",
    "    # Cerrar el socket\n",
    "    if 'misock' in locals():\n",
    "        misock.close()\n"
   ]
  },
  {
   "cell_type": "markdown",
   "metadata": {},
   "source": [
    "Ejercicio 2: Cambia el programa del socket para que cuente el número\n",
    "de caracteres que ha recibido y se detenga, con un texto en pantalla,\n",
    "después de que se hayan mostrado 3000 caracteres. El programa debe\n",
    "recuperar el documento completo y contar el número total de caracteres,\n",
    "mostrando ese total al final del documento."
   ]
  },
  {
   "cell_type": "code",
   "execution_count": null,
   "metadata": {},
   "outputs": [],
   "source": [
    "import socket\n",
    "\n",
    "misock = socket.socket(socket.AF_INET, socket.SOCK_STREAM)\n",
    "misock.connect(('data.pr4e.org', 80))\n",
    "cmd = 'GET http://data.pr4e.org/romeo.txt HTTP/1.0\\r\\n\\r\\n'.encode()\n",
    "misock.send(cmd)\n",
    "\n",
    "total_caracteres = 0\n",
    "limite_caracteres = 3000\n",
    "\n",
    "while True:\n",
    "    datos = misock.recv(512)\n",
    "    if len(datos) < 1:\n",
    "        break\n",
    "\n",
    "    print(datos.decode(), end='')\n",
    "    total_caracteres += len(datos)\n",
    "\n",
    "    if total_caracteres >= limite_caracteres:\n",
    "        print(f'\\nSe han mostrado {limite_caracteres} caracteres. Deteniendo la ejecución.')\n",
    "        break\n",
    "\n",
    "misock.close()\n",
    "\n",
    "print(f'\\nTotal de caracteres en el documento: {total_caracteres}')"
   ]
  },
  {
   "cell_type": "markdown",
   "metadata": {},
   "source": [
    "Ejercicio 3: Utiliza urllib para rehacer el ejercicio anterior de modo que\n",
    "(1) reciba el documento de una URL, (2) muestre hasta 3000 caracteres,\n",
    "y (3) cuente la cantidad total de caracteres en el documento. No te\n",
    "preocupes de las cabeceras en este ejercicio, simplemente muesta los\n",
    "primeros 3000 caracteres del contenido del documento.\n"
   ]
  },
  {
   "cell_type": "code",
   "execution_count": null,
   "metadata": {},
   "outputs": [],
   "source": [
    "import urllib.request\n",
    "\n",
    "url = 'http://data.pr4e.org/romeo.txt'\n",
    "respuesta = urllib.request.urlopen(url)\n",
    "\n",
    "total_caracteres = 0\n",
    "limite_caracteres = 3000\n",
    "\n",
    "while True:\n",
    "    datos = respuesta.read(512)\n",
    "    if len(datos) < 1:\n",
    "        break\n",
    "\n",
    "    print(datos.decode(), end='')\n",
    "    total_caracteres += len(datos)\n",
    "\n",
    "    if total_caracteres >= limite_caracteres:\n",
    "        print(f'\\nSe han mostrado {limite_caracteres} caracteres. Deteniendo la ejecución.')\n",
    "        break\n",
    "\n",
    "print(f'\\nTotal de caracteres en el documento: {total_caracteres}')\n"
   ]
  },
  {
   "cell_type": "markdown",
   "metadata": {},
   "source": [
    "Ejercicio 4: Cambia el programa urllinks.py para extraer y contar las\n",
    "etiquetas de párrafo (p) del documento HTML recuperado y mostrar\n",
    "el total de párrafos como salida del programa. No muestres el texto de\n",
    "los párrafos, sólo cuéntalos. Prueba el programa en varias páginas web\n",
    "pequeñas, y también en otras más grandes.\n"
   ]
  },
  {
   "cell_type": "code",
   "execution_count": 50,
   "metadata": {},
   "outputs": [
    {
     "name": "stdout",
     "output_type": "stream",
     "text": [
      "Total de etiquetas de párrafo (p): 28\n"
     ]
    }
   ],
   "source": [
    "import urllib.request\n",
    "from bs4 import BeautifulSoup\n",
    "import ssl\n",
    "\n",
    "# Ignorar errores de certificado SSL\n",
    "ctx = ssl.create_default_context()\n",
    "ctx.check_hostname = False\n",
    "ctx.verify_mode = ssl.CERT_NONE\n",
    "\n",
    "url = input('Introduzca - ')\n",
    "html = urllib.request.urlopen(url, context=ctx).read()\n",
    "soup = BeautifulSoup(html, 'html.parser')\n",
    "\n",
    "# Recuperar todas las etiquetas de párrafo\n",
    "parrafos = soup('p')\n",
    "\n",
    "# Contar y mostrar el total de párrafos\n",
    "total_parrafos = len(parrafos)\n",
    "print(f'Total de etiquetas de párrafo (p): {total_parrafos}')\n"
   ]
  },
  {
   "cell_type": "markdown",
   "metadata": {},
   "source": [
    "Ejercicio 5: (Avanzado) Cambia el programa del socket de modo que\n",
    "solamente muestra datos después de que se haya recibido la cabecera y\n",
    "la línea en blanco. Recuerda que recv recibe caracteres (saltos de línea\n",
    "incluidos), no líneas."
   ]
  },
  {
   "cell_type": "code",
   "execution_count": 51,
   "metadata": {},
   "outputs": [
    {
     "name": "stdout",
     "output_type": "stream",
     "text": [
      "But soft what light through yonder window breaks\n",
      "It is the east and Juliet is the sun\n",
      "Arise fair sun and kill the envious moon\n",
      "Who is already s"
     ]
    }
   ],
   "source": [
    "import socket\n",
    "\n",
    "misock = socket.socket(socket.AF_INET, socket.SOCK_STREAM)\n",
    "misock.connect(('data.pr4e.org', 80))\n",
    "cmd = 'GET http://data.pr4e.org/romeo.txt HTTP/1.0\\r\\n\\r\\n'.encode()\n",
    "misock.send(cmd)\n",
    "\n",
    "cabecera_completa = False\n",
    "datos_recibidos = b''\n",
    "\n",
    "while True:\n",
    "    datos = misock.recv(512)\n",
    "    if len(datos) < 1:\n",
    "        break\n",
    "    \n",
    "    datos_recibidos += datos\n",
    "    \n",
    "    # Buscar la línea en blanco que indica el final de la cabecera\n",
    "    if b'\\r\\n\\r\\n' in datos_recibidos and not cabecera_completa:\n",
    "        cabecera_completa = True\n",
    "        # Imprimir los datos después de la cabecera y la línea en blanco\n",
    "        print(datos_recibidos.decode().split('\\r\\n\\r\\n', 1)[1], end='')\n",
    "\n",
    "misock.close()\n"
   ]
  }
 ],
 "metadata": {
  "kernelspec": {
   "display_name": "Python 3",
   "language": "python",
   "name": "python3"
  },
  "language_info": {
   "codemirror_mode": {
    "name": "ipython",
    "version": 3
   },
   "file_extension": ".py",
   "mimetype": "text/x-python",
   "name": "python",
   "nbconvert_exporter": "python",
   "pygments_lexer": "ipython3",
   "version": "3.10.7"
  }
 },
 "nbformat": 4,
 "nbformat_minor": 2
}
