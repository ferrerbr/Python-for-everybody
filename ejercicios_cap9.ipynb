{
 "cells": [
  {
   "cell_type": "markdown",
   "id": "7a8b9227",
   "metadata": {},
   "source": [
    "# Ejercicios capitulo 9"
   ]
  },
  {
   "cell_type": "markdown",
   "id": "30bb11e5",
   "metadata": {},
   "source": [
    "## Ejercicio 1:\n",
    "  Descargar una copia del archivo www.py4e.com/code3/words.txt\n",
    "Escribe un programa que lee las palabras en words.txt y las almacena\n",
    "como claves en un diccionario. No importa qué valores tenga. Luego\n",
    "puedes utilizar el operador in como una forma rápida de revisar si una\n",
    "cadena está en el diccionario"
   ]
  },
  {
   "cell_type": "code",
   "execution_count": 26,
   "id": "7b6fe2a6",
   "metadata": {},
   "outputs": [
    {
     "name": "stdout",
     "output_type": "stream",
     "text": [
      "escribe el nombre del archivo \n",
      "\n",
      "no es posible abrir el archivo\n",
      "escribe el nombre del archivo \n",
      "words.txt\n",
      "el archivo fue abieto con exito \n",
      "\n",
      "{'Writing': 0, 'programs': 14, 'or': 2, 'programming': 3, 'is': 114, 'a': 38, 'very': 144, 'creative': 7, 'and': 208, 'rewarding': 9, 'activity': 10, 'You': 11, 'can': 194, 'write': 13, 'for': 15, 'many': 103, 'reasons': 17, 'ranging': 82, 'from': 83, 'making': 20, 'your': 70, 'living': 22, 'to': 179, 'solving': 24, 'difficult': 26, 'data': 27, 'analysis': 28, 'problem': 39, 'having': 31, 'fun': 32, 'helping': 34, 'someone': 35, 'else': 36, 'solve': 37, 'This': 40, 'book': 41, 'assumes': 42, 'that': 203, '{\\\\em': 44, 'everyone}': 45, 'needs': 46, 'know': 56, 'how': 57, 'program': 51, 'once': 54, 'you': 125, 'program,': 59, 'will': 61, 'figure': 62, 'out': 63, 'what': 161, 'want': 66, 'do': 195, 'with': 80, 'newfound': 71, 'skills': 72, 'We': 88, 'are': 197, 'surrounded': 75, 'in': 110, 'our': 183, 'daily': 78, 'lives': 79, 'computers': 193, 'laptops': 84, 'cell': 86, 'phones': 87, 'think': 90, 'of': 201, 'these': 92, 'as': 94, 'personal': 96, 'assistants': 97, 'who': 98, 'take': 100, 'care': 101, 'things': 202, 'on': 182, 'behalf': 184, 'The': 108, 'hardware': 109, 'current-day': 112, 'essentially': 115, 'built': 116, 'continuously': 118, 'ask': 119, 'us': 147, 'the': 199, 'question': 122, 'What': 123, 'would': 163, 'like': 164, 'me': 127, 'next': 168, 'Our': 131, 'fast': 134, 'have': 136, 'vasts': 137, 'amounts': 138, 'memory': 140, 'could': 175, 'be': 143, 'helpful': 145, 'if': 148, 'we': 204, 'only': 150, 'knew': 171, 'language': 173, 'speak': 155, 'explain': 157, 'computer': 178, 'it': 165, 'If': 169, 'this': 172, 'tell': 176, 'tasks': 181, 'were': 186, 'reptitive': 187, 'Interestingly,': 188, 'kinds': 200, 'best': 196, 'often': 198, 'humans': 205, 'find': 206, 'boring': 207, 'mind-numbing': 209}\n"
     ]
    }
   ],
   "source": [
    "contador=0\n",
    "words=dict()\n",
    "conjunto=[]\n",
    "while True:\n",
    "    narchivo=input(\"escribe el nombre del archivo \\n\")\n",
    "\n",
    "    try:\n",
    "        if narchivo == \"fin\":\n",
    "            break\n",
    "        archivo=open(narchivo)\n",
    "        print(\"el archivo fue abieto con exito \\n\")\n",
    "        for linea in archivo:\n",
    "            linea=linea.rstrip()\n",
    "            if len(linea)>0 :\n",
    "                #print(linea)\n",
    "                palabras=linea.split()\n",
    "                #print(palabras)\n",
    "                conjunto =conjunto+palabras\n",
    "                #print(conjunto)\n",
    "        \n",
    "        for elemento in conjunto:\n",
    "            words[elemento]=contador\n",
    "            contador =contador+1\n",
    "          \n",
    "        break \n",
    "    except:\n",
    "        print(\"no es posible abrir el archivo\")\n",
    "        \n",
    "print(words )    "
   ]
  },
  {
   "cell_type": "code",
   "execution_count": 3,
   "id": "76fff58f",
   "metadata": {},
   "outputs": [
    {
     "name": "stdout",
     "output_type": "stream",
     "text": [
      "el archivo fue abierto con exito\n",
      "{'Writing': 0, 'programs': 14, 'or': 2, 'programming': 3, 'is': 114, 'a': 38, 'very': 144, 'creative': 7, 'and': 208, 'rewarding': 9, 'activity': 10, 'You': 11, 'can': 194, 'write': 13, 'for': 15, 'many': 103, 'reasons': 17, 'ranging': 82, 'from': 83, 'making': 20, 'your': 70, 'living': 22, 'to': 179, 'solving': 24, 'difficult': 26, 'data': 27, 'analysis': 28, 'problem': 39, 'having': 31, 'fun': 32, 'helping': 34, 'someone': 35, 'else': 36, 'solve': 37, 'This': 40, 'book': 41, 'assumes': 42, 'that': 203, '{\\\\em': 44, 'everyone}': 45, 'needs': 46, 'know': 56, 'how': 57, 'program': 51, 'once': 54, 'you': 125, 'program,': 59, 'will': 61, 'figure': 62, 'out': 63, 'what': 161, 'want': 66, 'do': 195, 'with': 80, 'newfound': 71, 'skills': 72, 'We': 88, 'are': 197, 'surrounded': 75, 'in': 110, 'our': 183, 'daily': 78, 'lives': 79, 'computers': 193, 'laptops': 84, 'cell': 86, 'phones': 87, 'think': 90, 'of': 201, 'these': 92, 'as': 94, 'personal': 96, 'assistants': 97, 'who': 98, 'take': 100, 'care': 101, 'things': 202, 'on': 182, 'behalf': 184, 'The': 108, 'hardware': 109, 'current-day': 112, 'essentially': 115, 'built': 116, 'continuously': 118, 'ask': 119, 'us': 147, 'the': 199, 'question': 122, 'What': 123, 'would': 163, 'like': 164, 'me': 127, 'next': 168, 'Our': 131, 'fast': 134, 'have': 136, 'vasts': 137, 'amounts': 138, 'memory': 140, 'could': 175, 'be': 143, 'helpful': 145, 'if': 148, 'we': 204, 'only': 150, 'knew': 171, 'language': 173, 'speak': 155, 'explain': 157, 'computer': 178, 'it': 165, 'If': 169, 'this': 172, 'tell': 176, 'tasks': 181, 'were': 186, 'reptitive': 187, 'Interestingly,': 188, 'kinds': 200, 'best': 196, 'often': 198, 'humans': 205, 'find': 206, 'boring': 207, 'mind-numbing': 209}\n",
      "True\n"
     ]
    }
   ],
   "source": [
    "valor=0\n",
    "banco=dict()\n",
    "while True:\n",
    "    arch=input(\"Ingresa el nombre del archivo: \")\n",
    "    try:\n",
    "        if arch == \"fin\":\n",
    "            break\n",
    "        texto = open(arch)\n",
    "        print(\"el archivo fue abierto con exito\")\n",
    "        for linea in texto:\n",
    "            palabras=linea.split()\n",
    "            #print(palabras)\n",
    "            longitud=len(palabras)-1\n",
    "            for palabra in palabras:\n",
    "                banco[palabra]=valor\n",
    "                valor=valor+1\n",
    "       \n",
    "        \n",
    "        break\n",
    "    except:\n",
    "        print(\"Por favor ingresa el nombre de un archivo existente\")\n",
    "print(banco)\n",
    "\n",
    "print(\"memory\" in banco)"
   ]
  },
  {
   "cell_type": "code",
   "execution_count": 28,
   "id": "79271cb7",
   "metadata": {},
   "outputs": [
    {
     "name": "stdout",
     "output_type": "stream",
     "text": [
      "175\n"
     ]
    }
   ],
   "source": [
    "print(words[\"could\"])"
   ]
  },
  {
   "cell_type": "code",
   "execution_count": 29,
   "id": "b1edd8aa",
   "metadata": {},
   "outputs": [
    {
     "data": {
      "text/plain": [
       "True"
      ]
     },
     "execution_count": 29,
     "metadata": {},
     "output_type": "execute_result"
    }
   ],
   "source": [
    "\"explain\" in words"
   ]
  },
  {
   "cell_type": "code",
   "execution_count": null,
   "id": "aecf29ab",
   "metadata": {},
   "outputs": [],
   "source": [
    "banco=dict()\n",
    "while True:\n",
    "    arch=input(\"Ingresa el nombre del archivo: \")\n",
    "    try:\n",
    "        if arch == \"fin\":\n",
    "            break\n",
    "        texto = open(arch)\n",
    "        print(\"el archivo fue abierto con exito\")\n",
    "        for linea in texto:\n",
    "            palabras=linea.split()\n",
    "            #print(palabras)\n",
    "            longitud=len(palabras)-1\n",
    "            for palabra in palabras:\n",
    "                if palabra not in banco:\n",
    "                    banco[palabra]=1\n",
    "                else:\n",
    "                    banco[palabra]+=1\n",
    "                \n",
    "       \n",
    "        \n",
    "        break\n",
    "    except:\n",
    "        print(\"Por favor ingresa el nombre de un archivo existente\")\n",
    "print(banco)"
   ]
  },
  {
   "cell_type": "markdown",
   "id": "2c893a51",
   "metadata": {},
   "source": [
    "## ejercicio 2\n",
    "Ejercicio 2: Escribir un programa que clasifica cada mensaje de correo\n",
    "dependiendo del día de la semana en que se recibió. Para hacer esto\n",
    "busca las líneas que comienzan con “From”, después busca por la tercer\n",
    "palabra y mantén un contador para cada uno de los días de la semana.\n",
    "Al final del programa imprime los contenidos de tu diccionario (el orden\n",
    "no importa)."
   ]
  },
  {
   "cell_type": "code",
   "execution_count": 18,
   "id": "507d41f2",
   "metadata": {},
   "outputs": [
    {
     "name": "stdout",
     "output_type": "stream",
     "text": [
      "escribe el nombre del archivo mbox-short.txt\n",
      "el archivo fue abieto con exito \n",
      "{'Sat': 1, 'Fri': 20, 'Thu': 6}\n"
     ]
    }
   ],
   "source": [
    "\n",
    "dias=dict()\n",
    "\n",
    "while True:\n",
    "    narchivo = input(\"escribe el nombre del archivo \")\n",
    "\n",
    "    try:\n",
    "        if narchivo == \"fin\":\n",
    "            break\n",
    "        archivo = open(narchivo)\n",
    "        print(\"el archivo fue abieto con exito \")\n",
    "        for linea in archivo:\n",
    "            linea = linea.rstrip() \n",
    "            \n",
    "            if linea.startswith(\"From \"):\n",
    "                \n",
    "              \n",
    "                words = linea.split()\n",
    "                \n",
    "                if words[2]not in dias:\n",
    "                    dias[words[2]]=1\n",
    "                else:\n",
    "                    dias[words[2]]+=1\n",
    "            \n",
    "            \n",
    "            \n",
    "            \n",
    "    \n",
    "            \n",
    "            \n",
    "        print(dias) \n",
    "        break \n",
    "    except:\n",
    "        print(\"no es posible abrir el archivo\")\n",
    "        \n",
    " "
   ]
  },
  {
   "cell_type": "code",
   "execution_count": null,
   "id": "e4dc3078",
   "metadata": {},
   "outputs": [],
   "source": [
    "name=input(\"Ingresa el nombre del archivo\")\n",
    "banco=dict()\n",
    "try:\n",
    "    manej=open(name)\n",
    "    print(\"El archivo fue abierto con exito\")\n",
    "except:\n",
    "    print(\"Error \\n El archivo no pudo ser abierto\",)\n",
    "    exit()\n",
    "for linea in manej:\n",
    "    palabras=linea.split()\n",
    "    #print(palabras)\n",
    "    if len(palabras) == 0 : continue\n",
    "    if palabras[0] != \"From\" :\n",
    "        continue\n",
    "    #print(palabras[2])\n",
    "    \n",
    "    if palabras[2] not in banco:\n",
    "        banco[palabras[2]]=1\n",
    "    else:\n",
    "        banco[palabras[2]]+=1\n",
    "print(banco)"
   ]
  },
  {
   "cell_type": "markdown",
   "id": "441007e0",
   "metadata": {},
   "source": [
    "## ejercicios 3 \n",
    "Ejercicio 3: Escribe un programa para leer a través de un historial de\n",
    "correos, construye un histograma utilizando un diccionario para contar\n",
    "cuántos mensajes han llegado de cada dirección de correo electrónico, e\n",
    "imprime el diccionario."
   ]
  },
  {
   "cell_type": "code",
   "execution_count": 19,
   "id": "8b1d4b4c",
   "metadata": {},
   "outputs": [
    {
     "name": "stdout",
     "output_type": "stream",
     "text": [
      "escribe el nombre del archivo mbox-short.txt\n",
      "el archivo fue abieto con exito \n",
      "{'stephen.marquard@uct.ac.za': 2, 'louis@media.berkeley.edu': 3, 'zqian@umich.edu': 4, 'rjlowe@iupui.edu': 2, 'cwen@iupui.edu': 5, 'gsilver@umich.edu': 3, 'wagnermr@iupui.edu': 1, 'antranig@caret.cam.ac.uk': 1, 'gopal.ramasammycook@gmail.com': 1, 'david.horwitz@uct.ac.za': 4, 'ray@media.berkeley.edu': 1}\n"
     ]
    }
   ],
   "source": [
    "\n",
    "dias=dict()\n",
    "\n",
    "while True:\n",
    "    narchivo = input(\"escribe el nombre del archivo \")\n",
    "\n",
    "    try:\n",
    "        if narchivo == \"fin\":\n",
    "            break\n",
    "        archivo = open(narchivo)\n",
    "        print(\"el archivo fue abieto con exito \")\n",
    "        for linea in archivo:\n",
    "            linea = linea.rstrip() \n",
    "            \n",
    "            if linea.startswith(\"From \"):\n",
    "                \n",
    "              \n",
    "                words = linea.split()\n",
    "                \n",
    "                if words[1]not in dias:\n",
    "                    dias[words[1]]=1\n",
    "                else:\n",
    "                    dias[words[1]]+=1\n",
    "            \n",
    "            \n",
    "            \n",
    "            \n",
    "    \n",
    "            \n",
    "            \n",
    "        print(dias) \n",
    "        break \n",
    "    except:\n",
    "        print(\"no es posible abrir el archivo\")\n",
    "        \n",
    " "
   ]
  },
  {
   "cell_type": "code",
   "execution_count": null,
   "id": "237e2e11",
   "metadata": {},
   "outputs": [],
   "source": [
    "name=input(\"Ingresa el nombre del archivo\")\n",
    "banco=dict()\n",
    "try:\n",
    "    manej=open(name)\n",
    "    print(\"El archivo fue abierto con exito\")\n",
    "except:\n",
    "    print(\"Error \\n El archivo no pudo ser abierto\",)\n",
    "    exit()\n",
    "for linea in manej:\n",
    "    palabras=linea.split()\n",
    "    #print(palabras)\n",
    "    if len(palabras) == 0 : continue\n",
    "    if palabras[0] != \"From\" :\n",
    "        continue\n",
    "    #print(palabras[2])\n",
    "    \n",
    "    if palabras[1] not in banco:\n",
    "        banco[palabras[1]]=1\n",
    "    else:\n",
    "        banco[palabras[1]]+=1\n",
    "print(banco)"
   ]
  },
  {
   "cell_type": "markdown",
   "id": "939b1f83",
   "metadata": {},
   "source": [
    "## ejercicio 4\n",
    "Ejercicio 4: Agrega código al programa anterior para determinar quién\n",
    "tiene la mayoría de mensajes en el archivo. Después de que todos los\n",
    "datos hayan sido leídos y el diccionario haya sido creado, mira a través\n",
    "del diccionario utilizando un bucle máximo (ve Capítulo 5: Bucles máx-\n",
    "imos y mínimos) para encontrar quién tiene la mayoría de mensajes e\n",
    "imprimir cuántos mensajes tiene esa persona."
   ]
  },
  {
   "cell_type": "code",
   "execution_count": 6,
   "id": "63a157b2",
   "metadata": {},
   "outputs": [
    {
     "name": "stdout",
     "output_type": "stream",
     "text": [
      "el archivo fue abieto con exito\n",
      " \n",
      "zqian@umich.edu 195\n"
     ]
    }
   ],
   "source": [
    "dias=dict()\n",
    "\n",
    "while True:\n",
    "    narchivo = input(\"escribe el nombre del archivo \")\n",
    "\n",
    "    try:\n",
    "        if narchivo == \"fin\":\n",
    "            break\n",
    "        archivo = open(narchivo)\n",
    "        print(\"el archivo fue abieto con exito\\n \")\n",
    "        for linea in archivo:\n",
    "            linea = linea.rstrip() \n",
    "            \n",
    "            if linea.startswith(\"From \"):\n",
    "                \n",
    "              \n",
    "                words = linea.split()\n",
    "                \n",
    "                if words[1]not in dias:\n",
    "                    dias[words[1]]=1\n",
    "                else:\n",
    "                    dias[words[1]]+=1\n",
    "            \n",
    "        #print(dias) \n",
    "        mayor=None\n",
    "        for numero in dias:\n",
    "            if mayor is None or dias[numero] > mayor:\n",
    "                mayor = dias[numero]\n",
    "                almacen=numero\n",
    "        print(almacen,mayor )\n",
    "        \n",
    "        \n",
    "        \n",
    "        \n",
    "        \n",
    "        \n",
    "        break \n",
    "    except:\n",
    "        print(\"no es posible abrir el archivo\")\n",
    "        \n",
    " "
   ]
  },
  {
   "cell_type": "code",
   "execution_count": null,
   "id": "a8834824",
   "metadata": {},
   "outputs": [],
   "source": [
    "name=input(\"Ingresa el nombre del archivo\")\n",
    "banco=dict()\n",
    "try:\n",
    "    manej=open(name)\n",
    "    print(\"El archivo fue abierto con exito\")\n",
    "except:\n",
    "    print(\"Error \\n El archivo no pudo ser abierto\",)\n",
    "    exit()\n",
    "for linea in manej:\n",
    "    palabras=linea.split()\n",
    "    #print(palabras)\n",
    "    if len(palabras) == 0 : continue\n",
    "    if palabras[0] != \"From\" :\n",
    "        continue\n",
    "    #print(palabras[2])\n",
    "    \n",
    "    if palabras[1] not in banco:\n",
    "        banco[palabras[1]]=1\n",
    "    else:\n",
    "        banco[palabras[1]]+=1\n",
    "    mayor=None\n",
    "    for valor in banco:\n",
    "        if mayor is None or banco[valor] > mayor:\n",
    "            mayor=banco[valor]\n",
    "            red=valor\n",
    "print(\"El correo con mas registros es \",red,banco[red])"
   ]
  },
  {
   "cell_type": "markdown",
   "id": "9ad93ad5",
   "metadata": {},
   "source": [
    "## Ejercicio 5:\n",
    "Este programa almacena el nombre del dominio (en vez de\n",
    "la dirección) desde donde fue enviado el mensaje en vez de quién envió\n",
    "el mensaje (es decir, la dirección de correo electrónica completa). Al\n",
    "final del programa, imprime el contenido de tu diccionario."
   ]
  },
  {
   "cell_type": "code",
   "execution_count": 36,
   "id": "43674763",
   "metadata": {},
   "outputs": [
    {
     "name": "stdout",
     "output_type": "stream",
     "text": [
      "escribe el nombre del archivo mbox-short.txt\n",
      "el archivo fue abieto con exito \n",
      "{'uct.ac.za': 6, 'media.berkeley.edu': 4, 'umich.edu': 7, 'iupui.edu': 8, 'caret.cam.ac.uk': 1, 'gmail.com': 1}\n"
     ]
    }
   ],
   "source": [
    "\n",
    "dom=dict()\n",
    "\n",
    "while True:\n",
    "    narchivo = input(\"escribe el nombre del archivo \")\n",
    "\n",
    "    try:\n",
    "        if narchivo == \"fin\":\n",
    "            break\n",
    "        archivo = open(narchivo)\n",
    "        print(\"el archivo fue abieto con exito \")\n",
    "        for linea in archivo:\n",
    "            linea = linea.rstrip() \n",
    "            \n",
    "            if linea.startswith(\"From \"):\n",
    "                \n",
    "              \n",
    "                words = linea.split()\n",
    "                dato=words[1]\n",
    "                arroba=dato.find(\"@\")\n",
    "                \n",
    "                direccion= dato[arroba+1:]\n",
    "                \n",
    "                if direccion not in dom:\n",
    "                    dom[direccion]=1\n",
    "                else:\n",
    "                    dom[direccion]+=1\n",
    "            \n",
    "            \n",
    "            \n",
    "            \n",
    "    \n",
    "            \n",
    "            \n",
    "        print(dom) \n",
    "        break \n",
    "    except:\n",
    "        print(\"no es posible abrir el archivo\")\n",
    "        \n",
    " "
   ]
  },
  {
   "cell_type": "code",
   "execution_count": 14,
   "id": "94894cbc",
   "metadata": {},
   "outputs": [
    {
     "name": "stdout",
     "output_type": "stream",
     "text": [
      "El archivo fue abierto con exito\n",
      "El correo con mas registros es  iupui.edu 8\n",
      "{'uct.ac.za': 6, 'media.berkeley.edu': 4, 'umich.edu': 7, 'iupui.edu': 8, 'caret.cam.ac.uk': 1, 'gmail.com': 1}\n"
     ]
    }
   ],
   "source": [
    "name=input(\"Ingresa el nombre del archivo\")\n",
    "banco=dict()\n",
    "try:\n",
    "    manej=open(name)\n",
    "    print(\"El archivo fue abierto con exito\")\n",
    "except:\n",
    "    print(\"Error \\n El archivo no pudo ser abierto\",)\n",
    "    exit()\n",
    "for linea in manej:\n",
    "    palabras=linea.split()\n",
    "    #print(palabras)\n",
    "    if len(palabras) == 0 : continue\n",
    "    if palabras[0] != \"From\" :\n",
    "        continue\n",
    "    #print(palabras[2])\n",
    "    correo=palabras[1]\n",
    "    #print(type(correo))\n",
    "    arrobapos=correo.find(\"@\")\n",
    "    #print(arrobapos)\n",
    "    direccion=correo[arrobapos+1:]\n",
    "    \n",
    "    if direccion not in banco:\n",
    "        banco[direccion]=1\n",
    "    else:\n",
    "        banco[direccion]+=1\n",
    "    mayor=None\n",
    "    for valor in banco:\n",
    "        if mayor is None or banco[valor] > mayor:\n",
    "            mayor=banco[valor]\n",
    "            red=valor\n",
    "print(\"El correo con mas registros es \",red,banco[red])\n",
    "\n",
    "print(banco)"
   ]
  }
 ],
 "metadata": {
  "kernelspec": {
   "display_name": "Python 3 (ipykernel)",
   "language": "python",
   "name": "python3"
  },
  "language_info": {
   "codemirror_mode": {
    "name": "ipython",
    "version": 3
   },
   "file_extension": ".py",
   "mimetype": "text/x-python",
   "name": "python",
   "nbconvert_exporter": "python",
   "pygments_lexer": "ipython3",
   "version": "3.10.7"
  }
 },
 "nbformat": 4,
 "nbformat_minor": 5
}
