{
 "cells": [
  {
   "cell_type": "code",
   "execution_count": 1,
   "metadata": {},
   "outputs": [],
   "source": [
    "import sqlite3\n",
    "\n",
    "conn = sqlite3.connect(\"musica.sqlite\") # hace un coceecion con el archio si este no esiste  crea uno con ese nombre\n",
    "cur=conn.cursor()  #funnciona con un manejador de archivos pára enviar y recibir informacion \n",
    "\n",
    "cur.execute(\"DROP TABLE IF EXISTS Canciones\") #elimina la tabla si es que ya existe \n",
    "cur.execute(\"CREATE TABLE Canciones(titulo TEXT, reproducciones INTEGER)\")\n",
    "\n",
    "conn.close()"
   ]
  },
  {
   "cell_type": "code",
   "execution_count": 10,
   "metadata": {},
   "outputs": [
    {
     "name": "stdout",
     "output_type": "stream",
     "text": [
      "canciones:\n",
      "('Thunderstruck', 20)\n",
      "('My way', 15)\n"
     ]
    },
    {
     "data": {
      "text/plain": [
       "<function Cursor.close()>"
      ]
     },
     "execution_count": 10,
     "metadata": {},
     "output_type": "execute_result"
    }
   ],
   "source": [
    "import sqlite3\n",
    "conn = sqlite3.connect(\"musica.sqlite\")\n",
    "cur=conn.cursor()\n",
    "\n",
    "cur.execute(\"INSERT INTO Canciones(titulo,reproducciones)VALUES(?,?)\",(\"Thunderstruck\",20))\n",
    "cur.execute(\"INSERT INTO Canciones(titulo,reproducciones)Values(?,?)\",(\"My way\",15))\n",
    "conn.commit()\n",
    "\n",
    "print(\"canciones:\")\n",
    "cur.execute(\"SELECT titulo, reproducciones FROM Canciones\")\n",
    "for fila in cur: #para cada fila en caciones imprime esa tupla\n",
    "    print(fila)\n",
    "\n",
    "cur.execute(\"DELETE FROM Canciones WHERE reproducciones <100\")\n",
    "conn.commit()\n",
    "cur.close"
   ]
  },
  {
   "cell_type": "markdown",
   "metadata": {},
   "source": [
    "En esta sección, crearemos un programa araña sencillo que se moverá a través de\n",
    "cuentas de Twitter y construirá una base de datos de ellas."
   ]
  },
  {
   "cell_type": "code",
   "execution_count": 12,
   "metadata": {},
   "outputs": [],
   "source": [
    "import urllib.request, urllib.parse, urllib.error\n",
    "import oauth\n",
    "import hidden\n",
    "\n",
    "# https://apps.twitter.com/\n",
    "# Create App and get the four strings, put them in hidden.py\n",
    "\n",
    "def aumentar(url, parameters): \n",
    "    secrets = hidden.oauth()\n",
    "    consumer = oauth.OAuthConsumer(secrets['consumer_key'],\n",
    "                                   secrets['consumer_secret'])\n",
    "    token = oauth.OAuthToken(secrets['token_key'], secrets['token_secret'])\n",
    "\n",
    "    oauth_request = oauth.OAuthRequest.from_consumer_and_token(consumer,\n",
    "                    token=token, http_method='GET', http_url=url,\n",
    "                    parameters=parameters)\n",
    "    oauth_request.sign_request(oauth.OAuthSignatureMethod_HMAC_SHA1(),\n",
    "                               consumer, token)\n",
    "    return oauth_request.to_url()\n",
    "\n",
    "\n",
    "def test_me():\n",
    "    print('* Calling Twitter...')\n",
    "    url = aumentar('https://api.twitter.com/1.1/statuses/user_timeline.json',\n",
    "                  {'screen_name': 'drchuck', 'count': '2'})\n",
    "    print(url)\n",
    "    connection = urllib.request.urlopen(url)\n",
    "    data = connection.read()\n",
    "    print(data)\n",
    "    headers = dict(connection.getheaders())\n",
    "    print(headers)"
   ]
  },
  {
   "cell_type": "code",
   "execution_count": 17,
   "metadata": {},
   "outputs": [
    {
     "ename": "AttributeError",
     "evalue": "module 'oauth' has no attribute 'OAuthConsumer'",
     "output_type": "error",
     "traceback": [
      "\u001b[1;31m---------------------------------------------------------------------------\u001b[0m",
      "\u001b[1;31mAttributeError\u001b[0m                            Traceback (most recent call last)",
      "Cell \u001b[1;32mIn [17], line 34\u001b[0m\n\u001b[0;32m     31\u001b[0m         \u001b[38;5;28mprint\u001b[39m(\u001b[38;5;124m'\u001b[39m\u001b[38;5;124mNo se han encontrado cuentas de Twitter por recuperar\u001b[39m\u001b[38;5;124m'\u001b[39m)\n\u001b[0;32m     32\u001b[0m         \u001b[38;5;28;01mcontinue\u001b[39;00m\n\u001b[1;32m---> 34\u001b[0m url \u001b[38;5;241m=\u001b[39m twurl\u001b[38;5;241m.\u001b[39maugment(TWITTER_URL, {\u001b[38;5;124m'\u001b[39m\u001b[38;5;124mscreen_name\u001b[39m\u001b[38;5;124m'\u001b[39m: cuenta, \u001b[38;5;124m'\u001b[39m\u001b[38;5;124mcount\u001b[39m\u001b[38;5;124m'\u001b[39m: \u001b[38;5;124m'\u001b[39m\u001b[38;5;124m5\u001b[39m\u001b[38;5;124m'\u001b[39m})\n\u001b[0;32m     35\u001b[0m \u001b[38;5;28mprint\u001b[39m(\u001b[38;5;124m'\u001b[39m\u001b[38;5;124mRecuperando\u001b[39m\u001b[38;5;124m'\u001b[39m, url)\n\u001b[0;32m     36\u001b[0m conexion \u001b[38;5;241m=\u001b[39m urlopen(url, context\u001b[38;5;241m=\u001b[39mctx)\n",
      "File \u001b[1;32mc:\\Users\\ferrer\\Documents\\Cursos\\python_para_todos_Coursera\\notebook\\twurl.py:10\u001b[0m, in \u001b[0;36maugment\u001b[1;34m(url, parameters)\u001b[0m\n\u001b[0;32m      8\u001b[0m \u001b[38;5;28;01mdef\u001b[39;00m \u001b[38;5;21maugment\u001b[39m(url, parameters):\n\u001b[0;32m      9\u001b[0m     secrets \u001b[38;5;241m=\u001b[39m hidden\u001b[38;5;241m.\u001b[39moauth()\n\u001b[1;32m---> 10\u001b[0m     consumer \u001b[38;5;241m=\u001b[39m \u001b[43moauth\u001b[49m\u001b[38;5;241;43m.\u001b[39;49m\u001b[43mOAuthConsumer\u001b[49m(secrets[\u001b[38;5;124m'\u001b[39m\u001b[38;5;124mconsumer_key\u001b[39m\u001b[38;5;124m'\u001b[39m],\n\u001b[0;32m     11\u001b[0m                                    secrets[\u001b[38;5;124m'\u001b[39m\u001b[38;5;124mconsumer_secret\u001b[39m\u001b[38;5;124m'\u001b[39m])\n\u001b[0;32m     12\u001b[0m     token \u001b[38;5;241m=\u001b[39m oauth\u001b[38;5;241m.\u001b[39mOAuthToken(secrets[\u001b[38;5;124m'\u001b[39m\u001b[38;5;124mtoken_key\u001b[39m\u001b[38;5;124m'\u001b[39m], secrets[\u001b[38;5;124m'\u001b[39m\u001b[38;5;124mtoken_secret\u001b[39m\u001b[38;5;124m'\u001b[39m])\n\u001b[0;32m     14\u001b[0m     oauth_request \u001b[38;5;241m=\u001b[39m oauth\u001b[38;5;241m.\u001b[39mOAuthRequest\u001b[38;5;241m.\u001b[39mfrom_consumer_and_token(consumer,\n\u001b[0;32m     15\u001b[0m                     token\u001b[38;5;241m=\u001b[39mtoken, http_method\u001b[38;5;241m=\u001b[39m\u001b[38;5;124m'\u001b[39m\u001b[38;5;124mGET\u001b[39m\u001b[38;5;124m'\u001b[39m, http_url\u001b[38;5;241m=\u001b[39murl,\n\u001b[0;32m     16\u001b[0m                     parameters\u001b[38;5;241m=\u001b[39mparameters)\n",
      "\u001b[1;31mAttributeError\u001b[0m: module 'oauth' has no attribute 'OAuthConsumer'"
     ]
    }
   ],
   "source": [
    "from urllib.request import urlopen\n",
    "import urllib.error\n",
    "import twurl\n",
    "import json\n",
    "import sqlite3\n",
    "import ssl\n",
    "\n",
    "TWITTER_URL = 'https://api.twitter.com/1.1/friends/list.json'\n",
    "\n",
    "conn = sqlite3.connect('arana.sqlite')\n",
    "cur = conn.cursor()\n",
    "\n",
    "cur.execute('''\n",
    "            CREATE TABLE IF NOT EXISTS Twitter\n",
    "            (nombre TEXT, recuperado INTEGER, amigos INTEGER)''')\n",
    "\n",
    "# Ignorar errores de certificado SSL\n",
    "ctx = ssl.create_default_context()\n",
    "ctx.check_hostname = False\n",
    "ctx.verify_mode = ssl.CERT_NONE\n",
    "\n",
    "while True:\n",
    "    cuenta = input('Ingresa una cuenta de Twitter, o salir: ')\n",
    "    if (cuenta == 'salir'): break\n",
    "    if (len(cuenta) < 1):\n",
    "        cur.execute('''SELECT nombre FROM Twitter \n",
    "            WHERE recuperado = 0 LIMIT 1''')\n",
    "        try:\n",
    "            cuenta = cur.fetchone()[0]\n",
    "        except:\n",
    "            print('No se han encontrado cuentas de Twitter por recuperar')\n",
    "            continue\n",
    "\n",
    "    url = twurl.augment(TWITTER_URL, {'screen_name': cuenta, 'count': '5'})\n",
    "    print('Recuperando', url)\n",
    "    conexion = urlopen(url, context=ctx)\n",
    "    datos = conexion.read().decode()\n",
    "    cabeceras = dict(conexion.getheaders())\n",
    "\n",
    "    print('Restante', cabeceras['x-rate-limit-remaining'])\n",
    "    js = json.loads(datos)\n",
    "    # DepuraciÃ³n\n",
    "    # print json.dumps(js, indent=4)\n",
    "\n",
    "    cur.execute('''UPDATE Twitter \n",
    "            SET recuperado=1 WHERE nombre = ?''', (cuenta, ))\n",
    "\n",
    "    contnuevas = 0\n",
    "    contantiguas = 0\n",
    "    for u in js['users']:\n",
    "        amigo = u['screen_name']\n",
    "        print(amigo)\n",
    "        cur.execute('SELECT amigos FROM Twitter WHERE nombre = ? LIMIT 1',\n",
    "                    (amigo, ))\n",
    "        try:\n",
    "            contador = cur.fetchone()[0]\n",
    "            cur.execute('UPDATE Twitter SET amigos = ? WHERE nombre = ?',\n",
    "                        (contador+1, amigo))\n",
    "            contantiguas = contantiguas + 1\n",
    "        except:\n",
    "            cur.execute('''INSERT INTO Twitter (nombre, recuperado, amigos)\n",
    "                        VALUES (?, 0, 1)''', (amigo, ))\n",
    "            contnuevas = contnuevas + 1\n",
    "    print('Cuentas nuevas=', contnuevas, ' ya visitadas=', contantiguas)\n",
    "    conn.commit()\n",
    "\n",
    "cur.close()"
   ]
  },
  {
   "cell_type": "code",
   "execution_count": 15,
   "metadata": {},
   "outputs": [
    {
     "name": "stderr",
     "output_type": "stream",
     "text": [
      "ERROR: Could not find a version that satisfies the requirement twurl (from versions: none)\n",
      "ERROR: No matching distribution found for twurl\n"
     ]
    }
   ],
   "source": [
    "!pip install twurl\n"
   ]
  }
 ],
 "metadata": {
  "kernelspec": {
   "display_name": "Python 3",
   "language": "python",
   "name": "python3"
  },
  "language_info": {
   "codemirror_mode": {
    "name": "ipython",
    "version": 3
   },
   "file_extension": ".py",
   "mimetype": "text/x-python",
   "name": "python",
   "nbconvert_exporter": "python",
   "pygments_lexer": "ipython3",
   "version": "3.10.7"
  }
 },
 "nbformat": 4,
 "nbformat_minor": 2
}
