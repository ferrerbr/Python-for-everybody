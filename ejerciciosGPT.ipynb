{
 "cells": [
  {
   "cell_type": "markdown",
   "metadata": {},
   "source": [
    "Ejercicio: Calculadora de Área\n",
    "\n",
    "Crea un programa en Python que le pregunte al usuario qué forma geométrica quiere calcular el área: un cuadrado, un rectángulo, un triángulo o un círculo. Luego, según la opción elegida, pide los datos necesarios (base, altura, radio, etc.) y calcula el área correspondiente. Finalmente, muestra el resultado al usuario."
   ]
  },
  {
   "cell_type": "code",
   "execution_count": 6,
   "metadata": {},
   "outputs": [
    {
     "name": "stdout",
     "output_type": "stream",
     "text": [
      "Area= 78.53981633974483\n"
     ]
    }
   ],
   "source": [
    "import math\n",
    "\n",
    "while True:\n",
    "    geo = input(\"que forma geometrica quieres calcular? (cuadrado, rectangulo, triangulo, circulo)\")\n",
    "    \n",
    "    if geo == \"cuadrado\":\n",
    "        lado = input(\"introduce el valor del lado: \")\n",
    "        lado = float(lado)\n",
    "        area = lado * lado\n",
    "        print(\"Area=\",area)\n",
    "        break\n",
    "\n",
    "    if geo == \"rectangulo\":\n",
    "        altura = input(\"introduce la altura: \")\n",
    "        altura = float(altura)\n",
    "        base = input(\"introduce la base: \")\n",
    "        base = float(base)\n",
    "        area = base * altura\n",
    "        print(\"Area=\",area)\n",
    "        break\n",
    "\n",
    "    if geo == \"triangulo\":\n",
    "        altura = input(\"introduce la altura: \")\n",
    "        altura = float(altura)\n",
    "        base = input(\"introduce la base: \")\n",
    "        base = float(base)\n",
    "        area=(base*altura)/2\n",
    "        print(\"Area=\",area)\n",
    "        break\n",
    "\n",
    "    if geo == \"circulo\":\n",
    "        radio = input(\"introduce el radio: \")\n",
    "        radio = float(radio)\n",
    "        area = math.pi*radio**2\n",
    "        print(\"Area=\",area)\n",
    "        break\n",
    "\n",
    "    if  geo == \"fin\":\n",
    "        break\n",
    "    else:\n",
    "        print(\"por favor introduce una figura geometrica\")\n",
    "\n"
   ]
  },
  {
   "cell_type": "markdown",
   "metadata": {},
   "source": [
    "solucion propuesta por chat GPT\n"
   ]
  },
  {
   "cell_type": "code",
   "execution_count": 5,
   "metadata": {},
   "outputs": [
    {
     "name": "stdout",
     "output_type": "stream",
     "text": [
      "Calculadora de Área\n",
      "1. Cuadrado\n",
      "2. Rectángulo\n",
      "3. Triángulo\n",
      "4. Círculo\n"
     ]
    },
    {
     "name": "stdout",
     "output_type": "stream",
     "text": [
      "El área del círculo es: 78.53981633974483\n"
     ]
    }
   ],
   "source": [
    "import math\n",
    "\n",
    "def calcular_area_cuadrado(lado):\n",
    "    return lado * lado\n",
    "\n",
    "def calcular_area_rectangulo(base, altura):\n",
    "    return base * altura\n",
    "\n",
    "def calcular_area_triangulo(base, altura):\n",
    "    return (base * altura) / 2\n",
    "\n",
    "def calcular_area_circulo(radio):\n",
    "    return math.pi * (radio ** 2)\n",
    "\n",
    "def main():\n",
    "    print(\"Calculadora de Área\")\n",
    "    print(\"1. Cuadrado\")\n",
    "    print(\"2. Rectángulo\")\n",
    "    print(\"3. Triángulo\")\n",
    "    print(\"4. Círculo\")\n",
    "    \n",
    "    opcion = int(input(\"Selecciona una opción (1/2/3/4): \"))\n",
    "    \n",
    "    if opcion == 1:\n",
    "        lado = float(input(\"Introduce el lado del cuadrado: \"))\n",
    "        area = calcular_area_cuadrado(lado)\n",
    "        print(\"El área del cuadrado es:\", area)\n",
    "    elif opcion == 2:\n",
    "        base = float(input(\"Introduce la base del rectángulo: \"))\n",
    "        altura = float(input(\"Introduce la altura del rectángulo: \"))\n",
    "        area = calcular_area_rectangulo(base, altura)\n",
    "        print(\"El área del rectángulo es:\", area)\n",
    "    elif opcion == 3:\n",
    "        base = float(input(\"Introduce la base del triángulo: \"))\n",
    "        altura = float(input(\"Introduce la altura del triángulo: \"))\n",
    "        area = calcular_area_triangulo(base, altura)\n",
    "        print(\"El área del triángulo es:\", area)\n",
    "    elif opcion == 4:\n",
    "        radio = float(input(\"Introduce el radio del círculo: \"))\n",
    "        area = calcular_area_circulo(radio)\n",
    "        print(\"El área del círculo es:\", area)\n",
    "    else:\n",
    "        print(\"Opción no válida. Por favor, selecciona una opción válida.\")\n",
    "\n",
    "if __name__ == \"__main__\":\n",
    "    main()\n"
   ]
  },
  {
   "cell_type": "markdown",
   "metadata": {},
   "source": [
    "Ejercicio: Convertidor de Temperatura\n",
    "\n",
    "Crea un programa en Python que convierta temperaturas de grados Celsius a Fahrenheit y viceversa. El programa debe preguntar al usuario por la temperatura y la unidad de medida de entrada (Celsius o Fahrenheit), y luego realizar la conversión correspondiente.\n",
    "\n",
    "Puedes usar las fórmulas de conversión:\n",
    "\n",
    "De Celsius a Fahrenheit: \n",
    "\n",
    "F=(C×9/5)+32\n",
    "\n",
    "De Fahrenheit a Celsius: \n",
    "\n",
    "C=(F−32)×5/9"
   ]
  },
  {
   "cell_type": "code",
   "execution_count": 1,
   "metadata": {},
   "outputs": [
    {
     "name": "stdout",
     "output_type": "stream",
     "text": [
      "La temperatura en Celsius es :  12.222222222222223\n"
     ]
    }
   ],
   "source": [
    "def cel_to_fah(cel):\n",
    "    return (cel*(9/5))+32\n",
    "def fah_to_cel(fah):\n",
    "    return (fah-32)*(5/9)\n",
    "\n",
    "while True:\n",
    "    try:\n",
    "        tem = float(input(\"ingresa la temperatura: \"))\n",
    "\n",
    "\n",
    "        \n",
    "        unidad = input(\"¿qué unidad de medida es?(celsius o fahrenheit)\")\n",
    "        if unidad == \"celsius\":\n",
    "            temp=cel_to_fah(tem)\n",
    "            print(\"La temperatura en Fahrenheit es : \", temp)\n",
    "            break\n",
    "        if unidad == \"fahrenheit\":\n",
    "            temp=fah_to_cel(tem)\n",
    "            print(\"La temperatura en Celsius es : \", temp)\n",
    "            break\n",
    "        if unidad == \"fin\":\n",
    "            break\n",
    "        \n",
    "    except:\n",
    "        print(\"introduce un valor numerico\")\n"
   ]
  },
  {
   "cell_type": "markdown",
   "metadata": {},
   "source": [
    "Propuesta de chat GPT"
   ]
  },
  {
   "cell_type": "code",
   "execution_count": null,
   "metadata": {},
   "outputs": [],
   "source": [
    "def celsius_a_fahrenheit(celsius):\n",
    "    return (celsius * 9/5) + 32\n",
    "\n",
    "def fahrenheit_a_celsius(fahrenheit):\n",
    "    return (fahrenheit - 32) * 5/9\n",
    "\n",
    "def main():\n",
    "    print(\"Convertidor de Temperatura\")\n",
    "    temp = float(input(\"Introduce la temperatura: \"))\n",
    "    unidad = input(\"¿En qué unidad está la temperatura (Celsius/C/Fahrenheit/F)? \").upper()\n",
    "\n",
    "    if unidad == \"C\" or unidad == \"CELSIUS\":\n",
    "        fahrenheit = celsius_a_fahrenheit(temp)\n",
    "        print(f\"{temp} grados Celsius equivalen a {fahrenheit} grados Fahrenheit.\")\n",
    "    elif unidad == \"F\" or unidad == \"FAHRENHEIT\":\n",
    "        celsius = fahrenheit_a_celsius(temp)\n",
    "        print(f\"{temp} grados Fahrenheit equivalen a {celsius} grados Celsius.\")\n",
    "    else:\n",
    "        print(\"Unidad no válida. Por favor, introduce Celsius o Fahrenheit.\")\n",
    "\n",
    "if __name__ == \"__main__\":\n",
    "    main()\n"
   ]
  },
  {
   "cell_type": "markdown",
   "metadata": {},
   "source": [
    "Ejercicio: Juego de Adivinanzas\n",
    "\n",
    "Crea un programa en Python que simule un juego de adivinanzas. El programa debería generar un número aleatorio entre 1 y 100 y pedir al usuario que lo adivine. Después de cada intento, el programa debería decirle al usuario si el número que ingresó es mayor, menor o igual al número generado. El juego debería continuar hasta que el usuario adivine correctamente el número.\n",
    "\n",
    "Aquí tienes un ejemplo de cómo podría ser el código:"
   ]
  },
  {
   "cell_type": "code",
   "execution_count": null,
   "metadata": {},
   "outputs": [],
   "source": [
    "import random\n",
    "\n",
    "\n",
    "try:\n",
    "    def main():\n",
    "        print(\"Adivina un numero del 1 al 100   \")\n",
    "        x=random.randint(1,100)\n",
    "        num=int(input(\"ingresa el numero: \"))\n",
    "\n",
    "        while x is not num:\n",
    "            try:\n",
    "                if num > x:\n",
    "                    print(f\"el numero {num} es mayor \")\n",
    "                if num < x:\n",
    "                    print(f\"el numero {num} es menor \")\n",
    "\n",
    "                num=int(input(\"ingresa un numero \"))\n",
    "            except:\n",
    "                print(\"ingresa solo valores numericos enteros\")\n",
    "\n",
    "            \n",
    "\n",
    "        print(f\"Felicidades e numero {num} es correcto\")\n",
    "\n",
    "    if __name__ == \"__main__\":\n",
    "        main()\n",
    "\n",
    "\n",
    "\n",
    "except:\n",
    "    print(\"solo ingresa numero enteros\")"
   ]
  },
  {
   "cell_type": "markdown",
   "metadata": {},
   "source": [
    "propuesta de chat GPT"
   ]
  },
  {
   "cell_type": "code",
   "execution_count": 14,
   "metadata": {},
   "outputs": [
    {
     "name": "stdout",
     "output_type": "stream",
     "text": [
      "Bienvenido al juego de adivinanzas. ¡Adivina el número secreto entre 1 y 100!\n"
     ]
    },
    {
     "ename": "ValueError",
     "evalue": "invalid literal for int() with base 10: 'fi'",
     "output_type": "error",
     "traceback": [
      "\u001b[1;31m---------------------------------------------------------------------------\u001b[0m",
      "\u001b[1;31mValueError\u001b[0m                                Traceback (most recent call last)",
      "Cell \u001b[1;32mIn [14], line 22\u001b[0m\n\u001b[0;32m     19\u001b[0m             \u001b[38;5;28;01mbreak\u001b[39;00m\n\u001b[0;32m     21\u001b[0m \u001b[38;5;28;01mif\u001b[39;00m \u001b[38;5;18m__name__\u001b[39m \u001b[38;5;241m==\u001b[39m \u001b[38;5;124m\"\u001b[39m\u001b[38;5;124m__main__\u001b[39m\u001b[38;5;124m\"\u001b[39m:\n\u001b[1;32m---> 22\u001b[0m     jugar_adivinanza()\n",
      "Cell \u001b[1;32mIn [14], line 10\u001b[0m, in \u001b[0;36mjugar_adivinanza\u001b[1;34m()\u001b[0m\n\u001b[0;32m      7\u001b[0m \u001b[38;5;28mprint\u001b[39m(\u001b[38;5;124m\"\u001b[39m\u001b[38;5;124mBienvenido al juego de adivinanzas. ¡Adivina el número secreto entre 1 y 100!\u001b[39m\u001b[38;5;124m\"\u001b[39m)\n\u001b[0;32m      9\u001b[0m \u001b[38;5;28;01mwhile\u001b[39;00m \u001b[38;5;28;01mTrue\u001b[39;00m:\n\u001b[1;32m---> 10\u001b[0m     intento \u001b[38;5;241m=\u001b[39m \u001b[38;5;28;43mint\u001b[39;49m\u001b[43m(\u001b[49m\u001b[38;5;28;43minput\u001b[39;49m\u001b[43m(\u001b[49m\u001b[38;5;124;43m\"\u001b[39;49m\u001b[38;5;124;43mIntroduce tu intento: \u001b[39;49m\u001b[38;5;124;43m\"\u001b[39;49m\u001b[43m)\u001b[49m\u001b[43m)\u001b[49m\n\u001b[0;32m     11\u001b[0m     intentos \u001b[38;5;241m+\u001b[39m\u001b[38;5;241m=\u001b[39m \u001b[38;5;241m1\u001b[39m\n\u001b[0;32m     13\u001b[0m     \u001b[38;5;28;01mif\u001b[39;00m intento \u001b[38;5;241m<\u001b[39m numero_secreto:\n",
      "\u001b[1;31mValueError\u001b[0m: invalid literal for int() with base 10: 'fi'"
     ]
    }
   ],
   "source": [
    "import random\n",
    "\n",
    "def jugar_adivinanza():\n",
    "    numero_secreto = random.randint(1, 100)\n",
    "    intentos = 0\n",
    "    \n",
    "    print(\"Bienvenido al juego de adivinanzas. ¡Adivina el número secreto entre 1 y 100!\")\n",
    "    \n",
    "    while True:\n",
    "        intento = int(input(\"Introduce tu intento: \"))\n",
    "        intentos += 1\n",
    "        \n",
    "        if intento < numero_secreto:\n",
    "            print(\"El número secreto es mayor.\")\n",
    "        elif intento > numero_secreto:\n",
    "            print(\"El número secreto es menor.\")\n",
    "        else:\n",
    "            print(f\"¡Felicidades! ¡Adivinaste el número secreto {numero_secreto} en {intentos} intentos!\")\n",
    "            break\n",
    "\n",
    "if __name__ == \"__main__\":\n",
    "    jugar_adivinanza()\n"
   ]
  },
  {
   "cell_type": "markdown",
   "metadata": {},
   "source": [
    "un propuesta de chat GPT y modificada por mi , con 0 errores de fallar "
   ]
  },
  {
   "cell_type": "code",
   "execution_count": 18,
   "metadata": {},
   "outputs": [
    {
     "name": "stdout",
     "output_type": "stream",
     "text": [
      "Bienvenido al juego de adivinanzas. ¡Adivina el número secreto entre 1 y 100!\n"
     ]
    },
    {
     "name": "stdout",
     "output_type": "stream",
     "text": [
      "ingresa un valor entre 1 y 100\n",
      "El número secreto es mayor.\n",
      "ingresa un valor entre 1 y 100\n",
      "El número secreto es menor.\n",
      "El número secreto es menor.\n",
      "El número secreto es menor.\n",
      "El número secreto es menor.\n",
      "¡Felicidades! ¡Adivinaste el número secreto 51 en 8 intentos!\n"
     ]
    }
   ],
   "source": [
    "import random\n",
    "\n",
    "def jugar_adivinanza():\n",
    "    numero_secreto = random.randint(1, 100)\n",
    "    intentos = 0\n",
    "    \n",
    "    print(\"Bienvenido al juego de adivinanzas. ¡Adivina el número secreto entre 1 y 100!\")\n",
    "    \n",
    "    while True:\n",
    "        intento = input(\"Introduce tu intento: \")\n",
    "        \n",
    "        # Verificar si el intento es un valor numérico\n",
    "        if not intento.isdigit():\n",
    "            print(\"Por favor, ingresa solo valores numéricos.\")\n",
    "            continue\n",
    "        \n",
    "        \n",
    "        intento = int(intento)\n",
    "        intentos += 1\n",
    "        if intento > 100:\n",
    "            print(\"ingresa un valor entre 1 y 100\")\n",
    "            continue\n",
    "        \n",
    "        if intento < numero_secreto:\n",
    "            print(\"El número secreto es mayor.\")\n",
    "        elif intento > numero_secreto:\n",
    "            print(\"El número secreto es menor.\")\n",
    "        else:\n",
    "            print(f\"¡Felicidades! ¡Adivinaste el número secreto {numero_secreto} en {intentos} intentos!\")\n",
    "            break\n",
    "\n",
    "if __name__ == \"__main__\":\n",
    "    jugar_adivinanza()\n"
   ]
  },
  {
   "cell_type": "markdown",
   "metadata": {},
   "source": [
    "Ejercicio: Calculadora de Gastos Mensuales\n",
    "\n",
    "Crea un programa en Python que ayude a un usuario a llevar un registro de sus gastos mensuales. El programa debería permitir al usuario ingresar una lista de gastos junto con sus montos correspondientes, y luego calcular y mostrar el total de gastos mensuales.\n",
    "\n"
   ]
  },
  {
   "cell_type": "code",
   "execution_count": 29,
   "metadata": {},
   "outputs": [
    {
     "name": "stdout",
     "output_type": "stream",
     "text": [
      "Calaculadora de gastos mensuales\n",
      "\n",
      "ingresa FIN para finalizar la lista y calcular el resultado \n",
      "despensa $ 500.0\n",
      "transporte $ 2.548\n",
      "gogo $ 548.0\n",
      "arequiipe $ 50.0\n",
      "los gastos mensuales son de $1100.548\n"
     ]
    }
   ],
   "source": [
    "def gastos_mensuales():\n",
    "    acumulado=0\n",
    "    print(\"Calaculadora de gastos mensuales\\n\")\n",
    "    print(\"ingresa FIN para finalizar la lista y calcular el resultado \")\n",
    "\n",
    "    while True:\n",
    "        \n",
    "        try:\n",
    "            d=input(\"ingresa el nombre del gasto \")\n",
    "            if d.upper()==\"FIN\":\n",
    "                break\n",
    "            monto=input(\"ingresa el monto del gasto\")\n",
    "\n",
    "            monto= float(monto)\n",
    "            acumulado=acumulado+monto\n",
    "            print(d,\"$\",monto)\n",
    "\n",
    "\n",
    "        except:\n",
    "            continue \n",
    "    print(f\"los gastos mensuales son de ${acumulado}\")\n",
    "\n",
    "\n",
    "if __name__==\"__main__\":\n",
    "    gastos_mensuales()\n",
    "    "
   ]
  },
  {
   "cell_type": "code",
   "execution_count": null,
   "metadata": {},
   "outputs": [],
   "source": [
    "def gastos_mensuales():\n",
    "    acumulado = 0\n",
    "    print(\"Calculadora de gastos mensuales\\n\")\n",
    "    print(\"Ingresa 'FIN' para finalizar la lista y calcular el resultado.\\n\")\n",
    "\n",
    "    while True:\n",
    "        nombre_gasto = input(\"Ingresa el nombre del gasto: \")\n",
    "        if nombre_gasto.upper() == \"FIN\":\n",
    "            break\n",
    "        \n",
    "        try:\n",
    "            monto = float(input(\"Ingresa el monto del gasto: $\"))\n",
    "            acumulado += monto\n",
    "            print(f\"{nombre_gasto}: ${monto}\")\n",
    "        except ValueError:\n",
    "            print(\"Error: Por favor, ingresa un monto válido.\")\n",
    "\n",
    "    print(f\"\\nLos gastos mensuales son de ${acumulado}.\")\n",
    "\n",
    "if __name__ == \"__main__\":\n",
    "    gastos_mensuales()\n"
   ]
  },
  {
   "cell_type": "markdown",
   "metadata": {},
   "source": [
    "Ejercicio: Calculadora de Índice de Masa Corporal (IMC)\n",
    "\n",
    "Crea un programa en Python que calcule el Índice de Masa Corporal (IMC) de una persona. El IMC se calcula dividiendo el peso de una persona en kilogramos por el cuadrado de su altura en metros. El programa debe solicitar al usuario que ingrese su peso en kilogramos y su altura en metros, y luego calcular y mostrar su IMC junto con una categoría que indique si la persona está bajo peso, peso normal, sobrepeso u obesidad."
   ]
  },
  {
   "cell_type": "code",
   "execution_count": 6,
   "metadata": {},
   "outputs": [
    {
     "name": "stdout",
     "output_type": "stream",
     "text": [
      "Calculadora de IMC(indice de masa corporal)\n",
      "porfavor solo ingresa datos numericos \n",
      "porfavor solo ingresa datos numericos \n",
      "porfavor solo ingresa datos numericos \n",
      "Tu IMC es de 26.234567901234566lo cual indica que tienes sobrepeso  \n"
     ]
    }
   ],
   "source": [
    "print(\"Calculadora de IMC(indice de masa corporal)\")\n",
    "while True:\n",
    "    try:\n",
    "        \n",
    "        peso = float(input(\"ingresa tu peso en kilogramos\"))\n",
    "        altura = float(input(\"ingresa tu altura en metros\"))\n",
    "\n",
    "        imc =peso/(altura**2)\n",
    "        if imc < 18.5:\n",
    "            print(f\"Tu IMC es de {imc}lo cual indica que tienes un peso bajo \")\n",
    "            break\n",
    "\n",
    "        if imc <= 24.9:\n",
    "            print(f\"Tu IMC es de {imc}lo cual indica que tienes un peso adecuado \")\n",
    "            break\n",
    "\n",
    "        else:\n",
    "            print(f\"Tu IMC es de {imc}lo cual indica que tienes sobrepeso  \")\n",
    "            break\n",
    "\n",
    "    except:\n",
    "        print(\"porfavor solo ingresa datos numericos \")"
   ]
  },
  {
   "cell_type": "markdown",
   "metadata": {},
   "source": [
    "propuesta de chat GPT "
   ]
  },
  {
   "cell_type": "code",
   "execution_count": 7,
   "metadata": {},
   "outputs": [
    {
     "name": "stdout",
     "output_type": "stream",
     "text": [
      "Calculadora de Índice de Masa Corporal (IMC)\n"
     ]
    },
    {
     "ename": "ValueError",
     "evalue": "could not convert string to float: 'AS'",
     "output_type": "error",
     "traceback": [
      "\u001b[1;31m---------------------------------------------------------------------------\u001b[0m",
      "\u001b[1;31mValueError\u001b[0m                                Traceback (most recent call last)",
      "Cell \u001b[1;32mIn [7], line 26\u001b[0m\n\u001b[0;32m     23\u001b[0m     \u001b[38;5;28mprint\u001b[39m(\u001b[38;5;124m\"\u001b[39m\u001b[38;5;124mTu categoría de IMC es:\u001b[39m\u001b[38;5;124m\"\u001b[39m, categoria)\n\u001b[0;32m     25\u001b[0m \u001b[38;5;28;01mif\u001b[39;00m \u001b[38;5;18m__name__\u001b[39m \u001b[38;5;241m==\u001b[39m \u001b[38;5;124m\"\u001b[39m\u001b[38;5;124m__main__\u001b[39m\u001b[38;5;124m\"\u001b[39m:\n\u001b[1;32m---> 26\u001b[0m     main()\n",
      "Cell \u001b[1;32mIn [7], line 16\u001b[0m, in \u001b[0;36mmain\u001b[1;34m()\u001b[0m\n\u001b[0;32m     14\u001b[0m \u001b[38;5;28;01mdef\u001b[39;00m \u001b[38;5;21mmain\u001b[39m():\n\u001b[0;32m     15\u001b[0m     \u001b[38;5;28mprint\u001b[39m(\u001b[38;5;124m\"\u001b[39m\u001b[38;5;124mCalculadora de Índice de Masa Corporal (IMC)\u001b[39m\u001b[38;5;124m\"\u001b[39m)\n\u001b[1;32m---> 16\u001b[0m     peso \u001b[38;5;241m=\u001b[39m \u001b[38;5;28;43mfloat\u001b[39;49m\u001b[43m(\u001b[49m\u001b[38;5;28;43minput\u001b[39;49m\u001b[43m(\u001b[49m\u001b[38;5;124;43m\"\u001b[39;49m\u001b[38;5;124;43mIngresa tu peso en kilogramos: \u001b[39;49m\u001b[38;5;124;43m\"\u001b[39;49m\u001b[43m)\u001b[49m\u001b[43m)\u001b[49m\n\u001b[0;32m     17\u001b[0m     altura \u001b[38;5;241m=\u001b[39m \u001b[38;5;28mfloat\u001b[39m(\u001b[38;5;28minput\u001b[39m(\u001b[38;5;124m\"\u001b[39m\u001b[38;5;124mIngresa tu altura en metros: \u001b[39m\u001b[38;5;124m\"\u001b[39m))\n\u001b[0;32m     19\u001b[0m     imc \u001b[38;5;241m=\u001b[39m calcular_imc(peso, altura)\n",
      "\u001b[1;31mValueError\u001b[0m: could not convert string to float: 'AS'"
     ]
    }
   ],
   "source": [
    "def calcular_imc(peso, altura):\n",
    "    return peso / (altura ** 2)\n",
    "\n",
    "def categorizar_imc(imc):\n",
    "    if imc < 18.5:\n",
    "        return \"Bajo peso\"\n",
    "    elif 18.5 <= imc < 25:\n",
    "        return \"Peso normal\"\n",
    "    elif 25 <= imc < 30:\n",
    "        return \"Sobrepeso\"\n",
    "    else:\n",
    "        return \"Obesidad\"\n",
    "\n",
    "def main():\n",
    "    print(\"Calculadora de Índice de Masa Corporal (IMC)\")\n",
    "    peso = float(input(\"Ingresa tu peso en kilogramos: \"))\n",
    "    altura = float(input(\"Ingresa tu altura en metros: \"))\n",
    "    \n",
    "    imc = calcular_imc(peso, altura)\n",
    "    categoria = categorizar_imc(imc)\n",
    "    \n",
    "    print(f\"Tu IMC es: {imc:.2f}\")\n",
    "    print(\"Tu categoría de IMC es:\", categoria)\n",
    "\n",
    "if __name__ == \"__main__\":\n",
    "    main()\n"
   ]
  },
  {
   "cell_type": "markdown",
   "metadata": {},
   "source": [
    "Ejercicio: Calculadora de Interés Compuesto\n",
    "\n",
    "Crea un programa en Python que calcule el monto final de una inversión después de cierto número de años utilizando la fórmula del interés compuesto. El programa debe solicitar al usuario que ingrese el monto inicial de la inversión, la tasa de interés anual (en porcentaje) y el número de años que durará la inversión. Luego, calculará y mostrará el monto final después del período especificado.\n",
    "\n",
    "La fórmula del interés compuesto es:\n",
    "\n",
    "\n",
    "A=P×(1+ (r/100) )**t\n",
    " \n",
    "\n",
    "Donde:\n",
    "\n",
    "A es el monto final de la inversión.\n",
    "\n",
    "P es el monto inicial de la inversión.\n",
    "\n",
    "r es la tasa de interés anual (en porcentaje).\n",
    "\n",
    "t es el número de años que durará la inversión."
   ]
  },
  {
   "cell_type": "code",
   "execution_count": 10,
   "metadata": {},
   "outputs": [
    {
     "name": "stdout",
     "output_type": "stream",
     "text": [
      "Calculadora de interes compuesto\n",
      "el monto final de la inversion seria 2868.807501562499\n"
     ]
    }
   ],
   "source": [
    "print(\"Calculadora de interes compuesto\")\n",
    "while True:\n",
    "    try:\n",
    "        \n",
    "        p = float(input(\"ingresa monto inicial de la inversion en pesos \"))\n",
    "        r = float(input(\"ingresa la tasa de interes anual\"))\n",
    "        t = float(input(\"ingresa los años que durara la inversion\"))\n",
    "\n",
    "        A =p*(1+(r/100))**t\n",
    "        print(f\"el monto final de la inversion seria $ {A}\")\n",
    "        break\n",
    "\n",
    "\n",
    "    except:\n",
    "        print(\"porfavor solo ingresa datos numericos \")"
   ]
  },
  {
   "cell_type": "markdown",
   "metadata": {},
   "source": [
    "propuesta de chat GPT"
   ]
  },
  {
   "cell_type": "code",
   "execution_count": 11,
   "metadata": {},
   "outputs": [
    {
     "name": "stdout",
     "output_type": "stream",
     "text": [
      "Calculadora de Interés Compuesto\n",
      "El monto final de la inversión después de 4 años es: $2868.81\n"
     ]
    }
   ],
   "source": [
    "def calcular_interes_compuesto(monto_inicial, tasa_interes, tiempo):\n",
    "    monto_final = monto_inicial * (1 + tasa_interes / 100) ** tiempo\n",
    "    return monto_final\n",
    "\n",
    "def main():\n",
    "    print(\"Calculadora de Interés Compuesto\")\n",
    "    monto_inicial = float(input(\"Ingrese el monto inicial de la inversión: \"))\n",
    "    tasa_interes = float(input(\"Ingrese la tasa de interés anual (en porcentaje): \"))\n",
    "    tiempo = int(input(\"Ingrese el número de años que durará la inversión: \"))\n",
    "    \n",
    "    monto_final = calcular_interes_compuesto(monto_inicial, tasa_interes, tiempo)\n",
    "    print(f\"El monto final de la inversión después de {tiempo} años es: ${monto_final:.2f}\")\n",
    "\n",
    "if __name__ == \"__main__\":\n",
    "    main()\n"
   ]
  },
  {
   "cell_type": "markdown",
   "metadata": {},
   "source": [
    "Ejercicio: Convertidor de Monedas\n",
    "\n",
    "Crea un programa en Python que convierta una cantidad de dinero de una moneda a otra. El programa debe solicitar al usuario que ingrese la cantidad de dinero en la moneda de origen y luego solicitar al usuario que elija la moneda de destino. Deberías proporcionar opciones para convertir entre diferentes monedas, como dólares estadounidenses (USD), euros (EUR), libras esterlinas (GBP) y yen japonés (JPY). El programa debería utilizar tasas de conversión actualizadas para realizar la conversión y mostrar el resultado al usuario."
   ]
  },
  {
   "cell_type": "code",
   "execution_count": 4,
   "metadata": {},
   "outputs": [
    {
     "name": "stdout",
     "output_type": "stream",
     "text": [
      "CONVERSOR DE MONEDAS   \n"
     ]
    },
    {
     "name": "stdout",
     "output_type": "stream",
     "text": [
      "50.0 libras esterlinas es igual a 9565.0 yenes \n"
     ]
    }
   ],
   "source": [
    "\n",
    "usd_to_eur = 0.92\n",
    "usd_to_gbp = 0.79\n",
    "usd_to_jpy = 151.3\n",
    "\n",
    "eur_to_usd = 1.8\n",
    "eur_to_gbp = 0.86\n",
    "eur_to_jpy = 164\n",
    "\n",
    "gbp_to_usd = 1.26\n",
    "gbp_to_eur = 1.17\n",
    "gbp_to_jpy = 191.3\n",
    "\n",
    "jpy_to_usd = 0.006609\n",
    "jpy_to_eur = 0.006096\n",
    "jpy_to_gbp = 0.005227\n",
    "    \n",
    "print(\"CONVERSOR DE MONEDAS   \" )\n",
    "try:\n",
    "    while True:\n",
    "        moneda_origen = input(\"Ingresa la moneda origen (USD, EUR, GBP,JPY)\")\n",
    "        if moneda_origen.upper()  not in [\"USD\",\"EUR\",\"GBP\",\"JPY\"]:\n",
    "            print(\"ingresa solo texto como se indica \")\n",
    "            continue\n",
    "\n",
    "        while True:\n",
    "            try:\n",
    "                dato = float(input(\"Ingresa el valor(SOLO NUMEROS): \"))\n",
    "                break\n",
    "            except:\n",
    "                print(\"ingresa solo datos numericos\")\n",
    "                continue\n",
    "            \n",
    "        while True:\n",
    "            moneda_destino = input(\"Ingresa la moneda destino (USD, EUR, GBP,JPY)\")\n",
    "            if moneda_destino.upper()  not in [\"USD\",\"EUR\",\"GBP\",\"JPY\"]:\n",
    "                print(\"ingresa solo texto como se indica\")\n",
    "            else:\n",
    "                break\n",
    "\n",
    "\n",
    "        if moneda_origen.upper() == \"USD\":\n",
    "            if moneda_destino.upper() == \"EUR\":\n",
    "                eur =dato*usd_to_eur\n",
    "                print(f\"{dato} dolares es igual a {eur} euros\")\n",
    "                break\n",
    "\n",
    "            elif moneda_destino.upper()== \"GBP\":\n",
    "                gbp = dato * usd_to_gbp\n",
    "                print(f\"{dato} dolares es igual a {gbp} libras\")\n",
    "                break\n",
    "\n",
    "            elif moneda_destino.upper()== \"JPY\":\n",
    "                jpy = dato * usd_to_jpy \n",
    "\n",
    "                print(f\"{dato} dolares es igual a {jpy} yenes \")\n",
    "                break\n",
    "            else:\n",
    "                print(\"No se puede realizar la conversion por que usaste la misma moneda\")\n",
    "\n",
    "\n",
    "        if moneda_origen.upper() == \"EUR\":\n",
    "            if moneda_destino.upper()== \"USD\":\n",
    "                usd = dato * eur_to_usd\n",
    "                print(f\"{dato} euros es igual a {usd} dolares \")\n",
    "                break\n",
    "\n",
    "\n",
    "            elif moneda_destino.upper()== \"GBP\":\n",
    "                gbp=dato * eur_to_gbp\n",
    "                print(f\"{dato} euros es igual a {gbp} libras esterlinas  \")\n",
    "                break\n",
    "\n",
    "\n",
    "            elif moneda_destino.upper()== \"JPY\":\n",
    "                jpy = dato+ eur_to_jpy \n",
    "                print(f\"{dato} euros es igual a {jpy} yenes \")\n",
    "                break\n",
    "            else:\n",
    "                print(\"No se puede realizar la conversion por que usaste la misma moneda\")\n",
    "            \n",
    "\n",
    "\n",
    "        if moneda_origen.upper() == \"GBP\":\n",
    "            if moneda_destino.upper()== \"EUR\":\n",
    "                eur = dato * gbp_to_eur\n",
    "                print(f\"{dato} libras esterlinas es igual a {eur} euros \")\n",
    "                break\n",
    "\n",
    "\n",
    "            elif moneda_destino.upper()== \"USD\":\n",
    "                usd = dato * gbp_to_usd\n",
    "                print(f\"{dato} libras esterlinas es igual a {usd} dolares \")\n",
    "                break\n",
    "\n",
    "\n",
    "            elif moneda_destino.upper()== \"JPY\":\n",
    "                jpy = dato * gbp_to_jpy\n",
    "                print(f\"{dato} libras esterlinas es igual a {jpy} yenes \")\n",
    "                break\n",
    "            else:\n",
    "                print(\"No se puede realizar la conversion por que usaste la misma moneda\")\n",
    "\n",
    "\n",
    "        if moneda_origen.upper() == \"JPY\":\n",
    "            if moneda_destino.upper()== \"EUR\":\n",
    "                eur = jpy_to_eur\n",
    "                print(f\"{dato} yenes es igual a {eur} euros \")\n",
    "                break\n",
    "\n",
    "\n",
    "            elif moneda_destino.upper()== \"GBP\":\n",
    "                gbp = dato * jpy_to_gbp\n",
    "                print(f\"{dato} yenes  es igual a {gbp} libras esterlinas \")\n",
    "                break\n",
    "\n",
    "\n",
    "            elif moneda_destino.upper()== \"USD\":\n",
    "                usd = dato * jpy_to_usd\n",
    "                print(f\"{dato} yenes esterlinas es igual a {usd} dolares\")\n",
    "                break\n",
    "            else:\n",
    "                print(\"No se puede realizar la conversion por que usaste la misma moneda\")\n",
    "\n",
    "except:\n",
    "    print(\"Ingresa solo datos numéricos\")\n",
    "    \n"
   ]
  },
  {
   "cell_type": "markdown",
   "metadata": {},
   "source": [
    "propuesta de chat gpt\n"
   ]
  },
  {
   "cell_type": "code",
   "execution_count": 30,
   "metadata": {},
   "outputs": [
    {
     "name": "stdout",
     "output_type": "stream",
     "text": [
      "Convertidor de Monedas\n",
      "50.0 USD equivale a 5492.0 JPY\n"
     ]
    }
   ],
   "source": [
    "def convertir_moneda(cantidad, moneda_origen, moneda_destino):\n",
    "    # Aquí deberías incluir las tasas de conversión actualizadas\n",
    "    tasas_conversion = {\"USD_EUR\": 0.82, \"USD_GBP\": 0.74, \"USD_JPY\": 109.84,\n",
    "                        \"EUR_USD\": 1.22, \"EUR_GBP\": 0.90, \"EUR_JPY\": 133.87,\n",
    "                        \"GBP_USD\": 1.35, \"GBP_EUR\": 1.11, \"GBP_JPY\": 148.91,\n",
    "                        \"JPY_USD\": 0.0091, \"JPY_EUR\": 0.0075, \"JPY_GBP\": 0.0067}\n",
    "    \n",
    "    tasa_conversion = tasas_conversion.get(f\"{moneda_origen}_{moneda_destino}\")\n",
    "    if tasa_conversion:\n",
    "        cantidad_convertida = cantidad * tasa_conversion\n",
    "        return cantidad_convertida\n",
    "    else:\n",
    "        return None\n",
    "\n",
    "def main():\n",
    "    print(\"Convertidor de Monedas\")\n",
    "    cantidad = float(input(\"Ingrese la cantidad de dinero: \"))\n",
    "    moneda_origen = input(\"Ingrese la moneda de origen (USD/EUR/GBP/JPY): \").upper()\n",
    "    moneda_destino = input(\"Ingrese la moneda de destino (USD/EUR/GBP/JPY): \").upper()\n",
    "    \n",
    "    cantidad_convertida = convertir_moneda(cantidad, moneda_origen, moneda_destino)\n",
    "    if cantidad_convertida:\n",
    "        print(f\"{cantidad} {moneda_origen} equivale a {cantidad_convertida} {moneda_destino}\")\n",
    "    else:\n",
    "        print(\"Lo siento, no se puede realizar la conversión.\")\n",
    "\n",
    "if __name__ == \"__main__\":\n",
    "    main()\n"
   ]
  },
  {
   "cell_type": "markdown",
   "metadata": {},
   "source": [
    "intenetaremos mejorar el codido pesonal propuesto"
   ]
  },
  {
   "cell_type": "code",
   "execution_count": 3,
   "metadata": {},
   "outputs": [
    {
     "name": "stdout",
     "output_type": "stream",
     "text": [
      "CONVERSOR DE MONEDAS   \n"
     ]
    },
    {
     "name": "stdout",
     "output_type": "stream",
     "text": [
      "ingresa la moneda de origen como se indica \n",
      "80.0 USD es igual a 12104.0 JPY \n"
     ]
    }
   ],
   "source": [
    "def convertidor(moneda_org,cantidad,moneda_dest):\n",
    "\n",
    "    conversiones={\"USD_to_EUR\":0.92,      \"USD_to_GBP\":0.79,      \"USD_to_JPY\":151.3,\n",
    "              \"EUR_to_USD\":1.8,       \"EUR_to_GBP\":0.86,      \"EUR_to_JPY\":164,\n",
    "              \"GBP_to_USD\":1.26,      \"GBP_to_EUR\":1.17,      \"GBP_to_JPY\":191.3,\n",
    "              \"JPY_to_USD\":0.006609,  \"JPY_to_GBP\":0.005227,  \"JPY_to_EUR\":0.006096}\n",
    "    tasa_de_cambio = conversiones.get(f\"{moneda_org}_to_{moneda_dest}\")\n",
    "    cambio=cantidad *tasa_de_cambio\n",
    "    return cambio\n",
    "\n",
    "\n",
    "    \n",
    "print(\"CONVERSOR DE MONEDAS   \" )\n",
    "while True:\n",
    "    \n",
    "    moneda_origen = input(\"Ingresa la moneda origen (USD, EUR, GBP,JPY)\")\n",
    "    moneda_origen=moneda_origen.upper()\n",
    "\n",
    "    if moneda_origen  not in [\"USD\",\"EUR\",\"GBP\",\"JPY\"]:\n",
    "        print(\"ingresa la moneda de origen como se indica \")\n",
    "        continue\n",
    "    \n",
    "\n",
    "    while True:\n",
    "        try:\n",
    "            dato = float(input(\"Ingresa el valor(SOLO NUMEROS): \"))\n",
    "            break\n",
    "        except:\n",
    "            print(\"ingresa solo datos numericos\")\n",
    "            continue\n",
    "            \n",
    "    while True:\n",
    "        moneda_destino = input(\"Ingresa la moneda destino (USD, EUR, GBP,JPY)\")\n",
    "        moneda_destino = moneda_destino.upper()\n",
    "        if moneda_destino  not in [\"USD\",\"EUR\",\"GBP\",\"JPY\"]:\n",
    "            print(\"ingresa la moneda destino  como se indica\")\n",
    "        else:\n",
    "            break\n",
    "    break\n",
    "\n",
    "\n",
    "moneda_cambio=convertidor(moneda_origen,dato,moneda_destino)\n",
    "print(f\"{dato} {moneda_origen} es igual a {moneda_cambio} {moneda_destino} \")\n",
    "\n",
    "\n",
    "        \n",
    "\n"
   ]
  },
  {
   "cell_type": "markdown",
   "metadata": {},
   "source": [
    "Ejercicio: Calculadora de Calorías\n",
    "\n",
    "Crea un programa en Python que ayude a un usuario a calcular la cantidad de calorías quemadas durante un ejercicio específico. El programa debe solicitar al usuario que ingrese el tipo de ejercicio que realizó (por ejemplo, correr, caminar, nadar, etc.), la duración del ejercicio en minutos y su peso en kilogramos. Luego, el programa calculará y mostrará la cantidad aproximada de calorías quemadas durante ese ejercicio"
   ]
  },
  {
   "cell_type": "code",
   "execution_count": 11,
   "metadata": {},
   "outputs": [
    {
     "name": "stdout",
     "output_type": "stream",
     "text": [
      "Calculado de ejercicios\n"
     ]
    },
    {
     "name": "stdout",
     "output_type": "stream",
     "text": [
      "el total de calorias quemadas es esta actividad fisica es de 3750.0\n"
     ]
    }
   ],
   "source": [
    "def calorias_quemadas(peso,ejercicio,tiempo):\n",
    "    actividades = {\"CAMINAR\":5,\"CORRER\":10,\"TROTAR\":7,\"NADAR\":8,\"CICLISMO\":7}\n",
    "    calorias_minuto=actividades.get(ejercicio.upper())\n",
    "    calorias=peso*calorias_minuto*tiempo\n",
    "    return calorias\n",
    "\n",
    "print(\"Calculado de ejercicios\")\n",
    "switch=0\n",
    "\n",
    "while True:\n",
    "        \n",
    "    try:\n",
    "        peso1 = float(input(\"Ingresa tu peso en kilogramos\"))\n",
    "\n",
    "        while True:\n",
    "        \n",
    "            ejercicio1 = input(\"Ingresa el ejercico que realizaste (correr/caminar/nadar/trotar/ciclismo)\")\n",
    "            if ejercicio1.upper() in [\"CORRER\",\"CAMINAR\",\"NADAR\",\"TROTAR\",\"CICLISMO\"]:\n",
    "                while True:\n",
    "                    try:\n",
    "                        tiempo1 = float(input(\"Ingresa el tiempo que realizaste el ejercicio en minutos\"))\n",
    "                        break\n",
    "                    except:\n",
    "                        print(\"ingresa el valor en minutos , solo ingresa valores numericos\" )\n",
    "\n",
    "                break    \n",
    "\n",
    "            else:\n",
    "                print(\"Ingresa una actividad valida\")\n",
    "                      \n",
    "\n",
    "    except:\n",
    "        print(\"Ingresa solo valores numericos\" )\n",
    "        continue\n",
    "\n",
    "    break\n",
    "\n",
    "\n",
    "\n",
    "calorias_gastadas = calorias_quemadas(peso1,ejercicio1,tiempo1)\n",
    "print(f\"el total de calorias quemadas es esta actividad fisica es de {calorias_gastadas}\")"
   ]
  },
  {
   "cell_type": "markdown",
   "metadata": {},
   "source": [
    "propuesta de chatGPT\n"
   ]
  },
  {
   "cell_type": "code",
   "execution_count": 10,
   "metadata": {},
   "outputs": [
    {
     "name": "stdout",
     "output_type": "stream",
     "text": [
      "Calculadora de Calorías\n",
      "Durante el ejercicio de caminar, usted quemó aproximadamente 3750.00 calorías.\n"
     ]
    }
   ],
   "source": [
    "def calcular_calorias(ejercicio, duracion, peso):\n",
    "    # Aquí deberías incluir un diccionario con las calorías quemadas por minuto para cada tipo de ejercicio\n",
    "    calorias_por_minuto = {\"correr\": 10, \"caminar\": 5, \"nadar\": 8, \"bicicleta\": 7}\n",
    "    \n",
    "    calorias_por_minuto_ejercicio = calorias_por_minuto.get(ejercicio.lower())\n",
    "    if calorias_por_minuto_ejercicio:\n",
    "        calorias_quemadas = calorias_por_minuto_ejercicio * duracion\n",
    "        return calorias_quemadas * peso\n",
    "    else:\n",
    "        return None\n",
    "\n",
    "def main():\n",
    "    print(\"Calculadora de Calorías\")\n",
    "    ejercicio = input(\"Ingrese el tipo de ejercicio realizado: \")\n",
    "    duracion = float(input(\"Ingrese la duración del ejercicio en minutos: \"))\n",
    "    peso = float(input(\"Ingrese su peso en kilogramos: \"))\n",
    "    \n",
    "    calorias_quemadas = calcular_calorias(ejercicio, duracion, peso)\n",
    "    if calorias_quemadas:\n",
    "        print(f\"Durante el ejercicio de {ejercicio}, usted quemó aproximadamente {calorias_quemadas:.2f} calorías.\")\n",
    "    else:\n",
    "        print(\"Lo siento, no se puede calcular las calorías para ese tipo de ejercicio.\")\n",
    "\n",
    "if __name__ == \"__main__\":\n",
    "    main()\n"
   ]
  },
  {
   "cell_type": "markdown",
   "metadata": {},
   "source": [
    "Ejercicio 9 : Verificador de Palíndromos\n",
    "\n",
    "Escribe un programa en Python que verifique si una cadena es un palíndromo o no. Un palíndromo es una palabra, frase, número o cualquier otra secuencia de caracteres que se lee igual hacia adelante que hacia atrás, ignorando los espacios, signos de puntuación y diferencia entre mayúsculas y minúsculas.\n",
    "\n",
    "El programa debe solicitar al usuario que ingrese una cadena y luego verificar si es un palíndromo o no. Debe mostrar un mensaje indicando si la cadena es un palíndromo o no."
   ]
  },
  {
   "cell_type": "code",
   "execution_count": 20,
   "metadata": {},
   "outputs": [
    {
     "name": "stdout",
     "output_type": "stream",
     "text": [
      "Este es un verificador de palíndromos\n",
      "['1', '2', '3', '4', '5', '6', '7', '8', '9', '9', '8', '7', '6', '5', '4', '3', '2', '1']\n",
      "['1', '2', '3', '4', '5', '6', '7', '8', '9', '9', '8', '7', '6', '5', '4', '3', '2', '1']\n",
      "la secuencia de caracteres >> 123456789987654321 << es un palíndromo\n"
     ]
    }
   ],
   "source": [
    "print(\"Este es un verificador de palíndromos\")\n",
    "secuencia=input(\"Por avor ingresa la secuencia de caracteres que deseas comprobar\")\n",
    "a=secuencia\n",
    "secuencia=secuencia.lower()\n",
    "secuencia=secuencia.replace(\" \",\"\")\n",
    "\n",
    "list_cadena=list(secuencia)\n",
    "invertida=list_cadena[::-1]\n",
    "print(list_cadena)\n",
    "print(invertida)\n",
    "if list_cadena == invertida:\n",
    "    print(f\"la secuencia de caracteres >> {a} << es un palíndromo\")\n",
    "else:\n",
    "    print(f\"La secuencia de caracteres ingresada no es un palíndromo\")\n"
   ]
  },
  {
   "cell_type": "markdown",
   "metadata": {},
   "source": [
    "Ejercicio 10 : Generador de Contraseñas Seguras\n",
    "\n",
    "Escribe un programa en Python que genere contraseñas seguras. Las contraseñas deben tener una longitud específica y estar compuestas por una combinación de letras mayúsculas, minúsculas, dígitos y caracteres especiales.\n",
    "\n",
    "El programa debe solicitar al usuario que ingrese la longitud deseada para la contraseña y luego generar una contraseña aleatoria que cumpla con los criterios de seguridad. Finalmente, debe mostrar la contraseña generada al usuario."
   ]
  },
  {
   "cell_type": "code",
   "execution_count": 28,
   "metadata": {},
   "outputs": [
    {
     "name": "stdout",
     "output_type": "stream",
     "text": [
      "esta es tu contraseña:  P¡%/3&eEh%\n"
     ]
    }
   ],
   "source": [
    "import random\n",
    "\n",
    "def caracter_aleatorio(numero):\n",
    "    banco_letras={1:\"A\",   2:\"B\",  3:\"C\",  4:\"D\",   5:\"E\",   6:\"F\",   7:\"G\",   8:\"H\",   9:\"I\",   10:\"J\",\n",
    "           11:\"K\",  12:\"L\", 13:\"M\", 14:\"N\",  15:\"O\",  16:\"P\",  17:\"Q\",  18:\"R\",  19:\"S\",  20:\"T\",\n",
    "           21:\"U\",  22:\"V\", 23:\"W\", 24:\"X\",  25:\"Y\",  26:\"Z\"}\n",
    "    banco_caracteres_especiales = {1:\"@\", 2:\"#\", 3:\"$\", 4:\"%\", 5:\"&\", 6:\"/\", 7:\"?\", 8:\"¿\", 9:\"!\", 10:\"¡\"}\n",
    "\n",
    "    if numero == 1:\n",
    "        acceso_letra=random.randint(1,26)\n",
    "        caracter=banco_letras.get(acceso_letra)\n",
    "        mayuscula_o_minuscula=random.randint(1,2)\n",
    "        if mayuscula_o_minuscula == 1:\n",
    "            caracter = caracter.upper()\n",
    "        else:\n",
    "            caracter=caracter.lower()\n",
    "    elif numero == 2:\n",
    "        caracter_especial= random.randint(1,10)\n",
    "        caracter=banco_caracteres_especiales.get(caracter_especial)\n",
    "    elif numero == 3:\n",
    "        caracter=str( random.randint(0,9))\n",
    "    return caracter\n",
    "\n",
    "\n",
    "\n",
    "\n",
    "\n",
    "contador = 0\n",
    "cadena=\"\"\n",
    "\n",
    "while True:\n",
    "\n",
    "    longitud = input(\"Ingresa la logitud de tu contraseña debe ser entre 5 y 10 caracteres\")\n",
    "    try:\n",
    "        longitud=int(longitud)\n",
    "        if longitud < 5 or longitud > 10:\n",
    "            continue\n",
    "    except:\n",
    "        print(\"Por favor solo ingresa numeros enteros\")\n",
    "        continue\n",
    "\n",
    "    while contador < longitud:\n",
    "\n",
    "        def_caracter=random.randint(1,3)\n",
    "        generador_caracteres=caracter_aleatorio(def_caracter)\n",
    "        cadena=cadena+generador_caracteres\n",
    "        contador+=1\n",
    "    break\n",
    "print(\"esta es tu contraseña: \",cadena)\n",
    "\n",
    "\n"
   ]
  },
  {
   "cell_type": "markdown",
   "metadata": {},
   "source": [
    "propuesta de chatGPT\n"
   ]
  },
  {
   "cell_type": "code",
   "execution_count": null,
   "metadata": {},
   "outputs": [],
   "source": [
    "import random\n",
    "import string\n",
    "\n",
    "def generar_contraseña(longitud):\n",
    "    caracteres = string.ascii_letters + string.digits + string.punctuation\n",
    "    contraseña = ''.join(random.choice(caracteres) for _ in range(longitud))\n",
    "    return contraseña\n",
    "\n",
    "def main():\n",
    "    print(\"Generador de Contraseñas Seguras\")\n",
    "    longitud = int(input(\"Ingrese la longitud deseada para la contraseña: \"))\n",
    "    contraseña_generada = generar_contraseña(longitud)\n",
    "    print(f\"La contraseña generada es: {contraseña_generada}\")\n",
    "\n",
    "if __name__ == \"__main__\":\n",
    "    main()\n"
   ]
  }
 ],
 "metadata": {
  "kernelspec": {
   "display_name": "Python 3",
   "language": "python",
   "name": "python3"
  },
  "language_info": {
   "codemirror_mode": {
    "name": "ipython",
    "version": 3
   },
   "file_extension": ".py",
   "mimetype": "text/x-python",
   "name": "python",
   "nbconvert_exporter": "python",
   "pygments_lexer": "ipython3",
   "version": "3.10.7"
  }
 },
 "nbformat": 4,
 "nbformat_minor": 2
}
