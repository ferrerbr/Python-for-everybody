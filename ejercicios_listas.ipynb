{
 "cells": [
  {
   "cell_type": "markdown",
   "metadata": {},
   "source": [
    "Ejercicio: Promedio de una lista de números\n",
    "\n",
    "Escribe un programa en Python que tome una lista de números como entrada y calcule el promedio de esos números. Luego, muestra el resultado por pantalla."
   ]
  },
  {
   "cell_type": "code",
   "execution_count": 7,
   "metadata": {},
   "outputs": [
    {
     "name": "stdout",
     "output_type": "stream",
     "text": [
      "[0]\n",
      "0.0\n"
     ]
    }
   ],
   "source": [
    "import math\n",
    "def promedio(lista):\n",
    "    \n",
    "    return  sum(lista)/len(lista)\n",
    " \n",
    "\n",
    "\n",
    "lista_prom=list()\n",
    "while True:\n",
    "\n",
    "    numero=input(\"ingresa los numero que desear sacr el promedio, para finalizar la lista escribe Fin\")\n",
    "    if numero.upper() == \"FIN\":\n",
    "        break\n",
    "    \n",
    "\n",
    "    try:\n",
    "        numero=int(numero)\n",
    "        lista_prom.append(numero)\n",
    "    except:\n",
    "        continue\n",
    "\n",
    "if lista_prom != []:\n",
    "    D=promedio(lista_prom)\n",
    "    print(lista_prom)\n",
    "    print(D)\n",
    "else:\n",
    "    print(\"No ingresaste ningun numero\")"
   ]
  },
  {
   "cell_type": "markdown",
   "metadata": {},
   "source": [
    "Ejercicio: Ordenar una lista de números\n",
    "\n",
    "Escribe un programa en Python que tome una lista de números como entrada y ordene esos números de menor a mayor. Luego, muestra la lista ordenada por pantalla.\n",
    "\n",
    "Puedes implementar este ejercicio utilizando el método de ordenamiento de tu elección, como el algoritmo de ordenamiento burbuja, el algoritmo de ordenamiento de selección, el algoritmo de ordenamiento de inserción o incluso la función sorted() de Python."
   ]
  },
  {
   "cell_type": "code",
   "execution_count": 13,
   "metadata": {},
   "outputs": [
    {
     "name": "stdout",
     "output_type": "stream",
     "text": [
      "Numeros ingresados[5.5, 45.2, 15.0, 1.0, 84.0, 1.15]\n",
      "Numeros ordenados [1.0, 1.15, 5.5, 15.0, 45.2, 84.0]\n"
     ]
    }
   ],
   "source": [
    "\n",
    "lista_numeros=list()\n",
    "while True:\n",
    "    numero = input(\"ingresa un numero , para finalizar ingresa la palabra Fin o presion la teclaa enter\")\n",
    "    if numero.upper() == \"FIN\":\n",
    "        break\n",
    "    elif numero == \"\":\n",
    "        break\n",
    "    try:\n",
    "        numero=float(numero)\n",
    "        lista_numeros.append(numero)\n",
    "\n",
    "\n",
    "    except:\n",
    "        print(\"ingresa solo datos numericos\" ) \n",
    "print(f\"Numeros ingresados{ lista_numeros}\")   \n",
    "\n",
    "lista_numeros.sort()\n",
    "print(\"Numeros ordenados\", lista_numeros)"
   ]
  },
  {
   "cell_type": "markdown",
   "metadata": {},
   "source": [
    "\n",
    "Ejercicio 3: Combinar dos listas ordenadas\n",
    "\n",
    "Escribe un programa en Python que tome dos listas de números ordenadas de menor a mayor como entrada y combine estas dos listas en una sola lista ordenada. Luego, muestra la lista combinada y ordenada por pantalla.\n",
    "\n",
    "Puedes implementar este ejercicio utilizando un enfoque de fusión (merge) o simplemente concatenando las dos listas y luego ordenándolas nuevamente."
   ]
  },
  {
   "cell_type": "code",
   "execution_count": 27,
   "metadata": {},
   "outputs": [
    {
     "name": "stdout",
     "output_type": "stream",
     "text": [
      "Ordena dos listas\n",
      "['4', '5', '6', '4.4', '5.5', '6.6']\n",
      "['4', '4.4', '5', '5.5', '6', '6.6']\n"
     ]
    }
   ],
   "source": [
    "print(\"Ordena dos listas\")\n",
    "lista1 = input(\"Ingresa una lista de numero separados por espacio(PRESIONA ENTER AL FINALIZAR)\").split()\n",
    "lista2 = input(\"Ingresa una lista de numero separados por espacio(PRESIONA ENTER AL FINALIZAR)\").split()\n",
    "\n",
    "lista_order = lista1+lista2\n",
    "#print(lista_order)\n",
    "lista_order.sort()\n",
    "print(\"lista ordenada\",lista_order)"
   ]
  },
  {
   "cell_type": "markdown",
   "metadata": {},
   "source": [
    "Ejercicio 4: Eliminar duplicados de una lista\n",
    "\n",
    "Escribe un programa en Python que tome una lista de elementos y elimine los elementos duplicados, dejando solo una ocurrencia de cada elemento único en la lista. Luego, muestra la lista resultante sin duplicados por pantalla.\n",
    "\n",
    "Puedes implementar este ejercicio utilizando un bucle y una estructura de datos auxiliar para rastrear los elementos únicos, como un conjunto (set).\n"
   ]
  },
  {
   "cell_type": "code",
   "execution_count": 38,
   "metadata": {},
   "outputs": [
    {
     "name": "stdout",
     "output_type": "stream",
     "text": [
      "Estos son los elementos unicoas que esxiten en el texto ['4', '55', '45', '5', 'GOD']\n"
     ]
    }
   ],
   "source": [
    "while True:\n",
    "    lista_carac = input(\"Ingresa el texto que deseas procesar\").lower().split()\n",
    "    if len(lista_carac) == 0 :\n",
    "        print(\"ingresa almenos un caracter\")\n",
    "        continue\n",
    "\n",
    "    sin_duplicados = set(lista_carac)\n",
    "    print(f\"Estos son los elementos unicoas que esxiten en el texto {list(sin_duplicados)}\")\n",
    "    break\n"
   ]
  },
  {
   "cell_type": "markdown",
   "metadata": {},
   "source": [
    "\n",
    "Ejercicio 5: Contar la frecuencia de elementos en una lista\n",
    "\n",
    "Escribe un programa en Python que tome una lista de elementos como entrada y cuente la frecuencia de cada elemento en la lista. Luego, muestra un diccionario donde las claves son los elementos únicos de la lista y los valores son las frecuencias de esos elementos.\n",
    "\n",
    "Puedes implementar este ejercicio utilizando un bucle para iterar sobre la lista y un diccionario para almacenar las frecuencias de los elementos."
   ]
  },
  {
   "cell_type": "code",
   "execution_count": 47,
   "metadata": {},
   "outputs": [
    {
     "name": "stdout",
     "output_type": "stream",
     "text": [
      "Este es un contador de caracteres unicos\n",
      "[]\n",
      "En el texto hay 0 datos diferentes\n"
     ]
    }
   ],
   "source": [
    "def contador_carateres(texto1):\n",
    "    \n",
    "    banco=dict()\n",
    "\n",
    "    for i in texto1:\n",
    "        if i in banco:\n",
    "            banco[i]+=1\n",
    "        else:\n",
    "            banco[i]=1\n",
    "    \n",
    "        \n",
    "\n",
    "    return banco\n",
    "\n",
    "\n",
    "\n",
    "\n",
    "print(\"Este es un contador de caracteres unicos\")\n",
    "texto = input(\"ingresa el texto que deseas procesar: \").split()\n",
    "print(texto)\n",
    "contador = contador_carateres(texto)\n",
    "longitud=len(contador)\n",
    "print(f\"En el texto hay {longitud} datos diferentes\")\n",
    "for caracter,valor in contador.items():\n",
    "    print(f\"El dato >> {caracter} <<  se repite {caracter} veces en el texto\")"
   ]
  }
 ],
 "metadata": {
  "kernelspec": {
   "display_name": "Python 3",
   "language": "python",
   "name": "python3"
  },
  "language_info": {
   "codemirror_mode": {
    "name": "ipython",
    "version": 3
   },
   "file_extension": ".py",
   "mimetype": "text/x-python",
   "name": "python",
   "nbconvert_exporter": "python",
   "pygments_lexer": "ipython3",
   "version": "3.10.7"
  }
 },
 "nbformat": 4,
 "nbformat_minor": 2
}
