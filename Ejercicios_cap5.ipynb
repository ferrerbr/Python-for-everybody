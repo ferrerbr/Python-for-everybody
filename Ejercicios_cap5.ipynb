{
 "cells": [
  {
   "cell_type": "markdown",
   "id": "592db631",
   "metadata": {},
   "source": [
    "# Ejercicios capitulo 5 \n",
    "## Iteracion"
   ]
  },
  {
   "cell_type": "markdown",
   "id": "e6ab11a2",
   "metadata": {},
   "source": [
    "Ejercicio 1: Escribe un programa que lea repetidamente números hasta\n",
    "que el usuario introduzca “fin”. Una vez se haya introducido “fin”,\n",
    "muestra por pantalla el total, la cantidad de números y la media de\n",
    "esos números. Si el usuario introduce cualquier otra cosa que no sea un\n",
    "número, detecta su fallo usando try y except, muestra un mensaje de\n",
    "error y pasa al número siguiente."
   ]
  },
  {
   "cell_type": "code",
   "execution_count": 6,
   "id": "7dadcd21",
   "metadata": {},
   "outputs": [
    {
     "name": "stdout",
     "output_type": "stream",
     "text": [
      "introduce un valor:\n",
      "fin\n",
      "terminado\n"
     ]
    }
   ],
   "source": [
    "sumador=0\n",
    "cantidad=0\n",
    "\n",
    "while True:\n",
    "    a=input(\"introduce un valor:\\n\")\n",
    "    if a== \"fin\":\n",
    "        break\n",
    "    else:\n",
    "        try:\n",
    "            b=float(a)\n",
    "            sumador=sumador+b\n",
    "            #print(\"total=\",sumador)\n",
    "            cantidad=cantidad+1\n",
    "        except:\n",
    "            print(\"introduce un valor numerico\")\n",
    "try: # este try es para corto circuitar ya que pordriamos tener valores vacios\n",
    "    media=sumador/cantidad\n",
    "    print(\"total:\",sumador)         \n",
    "    print(\"cantitdad de numeros:\",cantidad)\n",
    "    print(\"Media:\",media)\n",
    "    print(\"terminado\")\n",
    "except:\n",
    "    print(\"terminado\")"
   ]
  },
  {
   "cell_type": "markdown",
   "id": "2a75b65c",
   "metadata": {},
   "source": [
    "Ejercicio 2: Escribe otro programa que pida una lista de números como\n",
    "la anterior y al final muestre por pantalla el máximo y mínimo de los\n",
    "números, en vez de la media."
   ]
  },
  {
   "cell_type": "code",
   "execution_count": 1,
   "id": "6950334b",
   "metadata": {},
   "outputs": [
    {
     "name": "stdout",
     "output_type": "stream",
     "text": [
      "terminado\n"
     ]
    }
   ],
   "source": [
    "maxim=None\n",
    "minim=None\n",
    "\n",
    "while True:\n",
    "    a=input(\"introduce un valor:\\n\")\n",
    "    if a== \"fin\":\n",
    "        break\n",
    "    else:\n",
    "        try:\n",
    "            \n",
    "            b=float(a)\n",
    "            if maxim is None or a > maxim:\n",
    "                maxim=a\n",
    "                if minim is None or a <minim:\n",
    "                    minim=a\n",
    "               \n",
    "        except:\n",
    "            print(\"introduce un valor numerico\")\n",
    "try:\n",
    "    cc=float(minim) # corto circuito para la verificacion de try \n",
    "    print(\"maximo:\",maxim)         \n",
    "    print(\"minimo:\",minim)\n",
    "except:\n",
    "    print(\"terminado\")"
   ]
  },
  {
   "cell_type": "code",
   "execution_count": null,
   "id": "618808db",
   "metadata": {},
   "outputs": [],
   "source": []
  },
  {
   "cell_type": "code",
   "execution_count": null,
   "id": "051e9d4a",
   "metadata": {},
   "outputs": [],
   "source": []
  }
 ],
 "metadata": {
  "kernelspec": {
   "display_name": "Python 3 (ipykernel)",
   "language": "python",
   "name": "python3"
  },
  "language_info": {
   "codemirror_mode": {
    "name": "ipython",
    "version": 3
   },
   "file_extension": ".py",
   "mimetype": "text/x-python",
   "name": "python",
   "nbconvert_exporter": "python",
   "pygments_lexer": "ipython3",
   "version": "3.10.7"
  }
 },
 "nbformat": 4,
 "nbformat_minor": 5
}
