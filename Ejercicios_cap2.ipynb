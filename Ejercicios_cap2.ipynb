{
 "cells": [
  {
   "cell_type": "markdown",
   "id": "d34c0169",
   "metadata": {},
   "source": [
    "# Ejercicios  capitulo 2"
   ]
  },
  {
   "cell_type": "markdown",
   "id": "c3d6bb9b",
   "metadata": {},
   "source": [
    "Ejercicio 2: Escribe un programa que use input para pedirle al usuario\n",
    "su nombre y luego darle la bienvenida\n"
   ]
  },
  {
   "cell_type": "code",
   "execution_count": 1,
   "id": "9ab60528",
   "metadata": {},
   "outputs": [
    {
     "name": "stdout",
     "output_type": "stream",
     "text": [
      "¿cual es tu nombre?\n",
      "brandon\n",
      "Bienvenido  brandon\n"
     ]
    }
   ],
   "source": [
    "x=input(\"¿cual es tu nombre?\\n\")\n",
    "print(\"Bienvenido \",x)"
   ]
  },
  {
   "cell_type": "markdown",
   "id": "a1f59d6c",
   "metadata": {},
   "source": [
    "Ejercicio 3: Escribe un programa para pedirle al usuario el número de\n",
    "horas y la tarifa por hora para calcular el salario bruto."
   ]
  },
  {
   "cell_type": "code",
   "execution_count": 11,
   "id": "276401fd",
   "metadata": {},
   "outputs": [
    {
     "name": "stdout",
     "output_type": "stream",
     "text": [
      "numero de horas:\n",
      "35\n",
      "tarifa:\n",
      "2.75\n",
      "salario bruto: 96.25\n"
     ]
    }
   ],
   "source": [
    "ht= input(\"numero de horas:\\n\")\n",
    "ht=float(ht)\n",
    "tarifa = input(\"tarifa:\\n\")\n",
    "tarifa=float(tarifa)\n",
    "d=ht*tarifa\n",
    "print(\"salario bruto:\",d)"
   ]
  },
  {
   "cell_type": "markdown",
   "id": "d3ff79d4",
   "metadata": {},
   "source": [
    "\n",
    "Ejercicio 4: Asume que ejecutamos las siguientes sentencias de asig\u0002nación:\n",
    "ancho = 17\n",
    "alto = 12.0\n",
    "Para cada una de las expresiones siguientes, escribe el valor de la expresión y el\n",
    "tipo (del valor de la expresión)\n",
    "1. ancho/2\n",
    "2. ancho/2.0\n",
    "3. alto/3\n",
    "4. 1 + 2 * 5"
   ]
  },
  {
   "cell_type": "code",
   "execution_count": 17,
   "id": "099904f9",
   "metadata": {},
   "outputs": [
    {
     "name": "stdout",
     "output_type": "stream",
     "text": [
      "a= 8.5\n",
      "<class 'float'>\n",
      "b= 8.5\n",
      "<class 'float'>\n",
      "c= 4.0\n",
      "<class 'float'>\n",
      "d= 11\n",
      "<class 'int'>\n"
     ]
    }
   ],
   "source": [
    "ancho = 17\n",
    "alto = 12.0\n",
    "a=ancho/2\n",
    "print(\"a=\", a)\n",
    "print(type(a))\n",
    "b=ancho/2.0\n",
    "print(\"b=\", b)\n",
    "print(type(b))\n",
    "c=alto/3\n",
    "print(\"c=\", c)\n",
    "print(type(c))\n",
    "d=1 + 2 * 5\n",
    "print(\"d=\", d)\n",
    "print(type(d))"
   ]
  },
  {
   "cell_type": "markdown",
   "id": "6af8dd92",
   "metadata": {},
   "source": [
    "Ejercicio 5: Escribe un programa que le pida al usuario una temper\u0002atura en grados Celsius, la convierta a grados Fahrenheit e imprima\n",
    "por pantalla la temperatura convertida."
   ]
  },
  {
   "cell_type": "code",
   "execution_count": 21,
   "id": "8eb39790",
   "metadata": {},
   "outputs": [
    {
     "name": "stdout",
     "output_type": "stream",
     "text": [
      "grados celsius:\n",
      "1\n",
      "grados fanheit: 33.8\n"
     ]
    }
   ],
   "source": [
    "gc=input(\"grados celsius:\\n\")\n",
    "gc=float(gc)\n",
    "gf=(gc*(9/5))+32\n",
    "print(\"grados fanheit:\",gf)\n"
   ]
  },
  {
   "cell_type": "code",
   "execution_count": null,
   "id": "b0187d99",
   "metadata": {},
   "outputs": [],
   "source": []
  }
 ],
 "metadata": {
  "kernelspec": {
   "display_name": "Python 3 (ipykernel)",
   "language": "python",
   "name": "python3"
  },
  "language_info": {
   "codemirror_mode": {
    "name": "ipython",
    "version": 3
   },
   "file_extension": ".py",
   "mimetype": "text/x-python",
   "name": "python",
   "nbconvert_exporter": "python",
   "pygments_lexer": "ipython3",
   "version": "3.10.7"
  }
 },
 "nbformat": 4,
 "nbformat_minor": 5
}
