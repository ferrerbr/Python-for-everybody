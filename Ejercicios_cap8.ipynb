{
 "cells": [
  {
   "cell_type": "markdown",
   "id": "062460af",
   "metadata": {},
   "source": [
    "# Ejercicios capitulo 8 "
   ]
  },
  {
   "cell_type": "markdown",
   "id": "eb523fee",
   "metadata": {},
   "source": [
    "## ejercicio1 \n",
    "\n",
    "Ejercicio 1: Escribe una función llamada recortar que toma una lista y la modifica, removiendo el primer y último elemento, y regresa None. Después escribe una\n",
    "función llamada medio que toma una lista y regresa una nueva lista que contiene\n",
    "todo excepto el primero y último elementos."
   ]
  },
  {
   "cell_type": "code",
   "execution_count": 1,
   "id": "0113d7be",
   "metadata": {},
   "outputs": [],
   "source": [
    "def recortar(t):\n",
    "    del t[0]\n",
    "    del t[-1]\n",
    "    \n"
   ]
  },
  {
   "cell_type": "code",
   "execution_count": 42,
   "id": "fdbfaced",
   "metadata": {},
   "outputs": [],
   "source": [
    "A=[\"a\",\"b\",\"c\",\"d\",\"e\",\"F\"]\n",
    "D=recortar(A)"
   ]
  },
  {
   "cell_type": "code",
   "execution_count": 43,
   "id": "1dd2c35f",
   "metadata": {},
   "outputs": [
    {
     "data": {
      "text/plain": [
       "['b', 'c', 'd', 'e']"
      ]
     },
     "execution_count": 43,
     "metadata": {},
     "output_type": "execute_result"
    }
   ],
   "source": [
    "A"
   ]
  },
  {
   "cell_type": "code",
   "execution_count": 44,
   "id": "1642152b",
   "metadata": {},
   "outputs": [
    {
     "name": "stdout",
     "output_type": "stream",
     "text": [
      "None\n"
     ]
    }
   ],
   "source": [
    "print(D)"
   ]
  },
  {
   "cell_type": "code",
   "execution_count": 45,
   "id": "d0d0a8c0",
   "metadata": {},
   "outputs": [],
   "source": [
    "def medio(t):\n",
    "    c=len(t)\n",
    "    return t[1:c-1]\n",
    "    "
   ]
  },
  {
   "cell_type": "code",
   "execution_count": 46,
   "id": "7545d38b",
   "metadata": {},
   "outputs": [],
   "source": [
    "B=[\"a\",\"b\",\"c\",\"d\",\"e\",\"F\",\"j\"]\n",
    "C=medio(B)"
   ]
  },
  {
   "cell_type": "code",
   "execution_count": 47,
   "id": "e06f6e71",
   "metadata": {},
   "outputs": [
    {
     "data": {
      "text/plain": [
       "['a', 'b', 'c', 'd', 'e', 'F', 'j']"
      ]
     },
     "execution_count": 47,
     "metadata": {},
     "output_type": "execute_result"
    }
   ],
   "source": [
    "B"
   ]
  },
  {
   "cell_type": "code",
   "execution_count": 48,
   "id": "0d617ae2",
   "metadata": {},
   "outputs": [
    {
     "data": {
      "text/plain": [
       "['b', 'c', 'd', 'e', 'F']"
      ]
     },
     "execution_count": 48,
     "metadata": {},
     "output_type": "execute_result"
    }
   ],
   "source": [
    "C"
   ]
  },
  {
   "cell_type": "markdown",
   "id": "2bd857c2",
   "metadata": {},
   "source": [
    "## Ejercicio 4:\n",
    "Descargar una copia de un archivo www.py4e.com/code3/romeo.txt.\n",
    "Escribir un programa para abrir el archivo romeo.txt y leerlo línea\n",
    "por línea. Para cada línea, dividir la línea en una lista de palabras\n",
    "utilizando la función split. Para cada palabra, revisar si la palabra ya\n",
    "se encuentra previamente en la lista. Si la palabra no está en la lista,\n",
    "agregarla a la lista. Cuando el programa termine, ordenar e imprimir\n",
    "las palabras resultantes en orden alfabético."
   ]
  },
  {
   "cell_type": "code",
   "execution_count": 19,
   "id": "d3bcc9e9",
   "metadata": {},
   "outputs": [
    {
     "name": "stdout",
     "output_type": "stream",
     "text": [
      "escribe el nombre del archivo \n",
      "romeo.txt\n",
      "el archivo fue abieto con exito \n",
      "\n",
      "['Arise', 'But', 'It', 'Juliet', 'Who', 'already', 'and', 'breaks', 'east', 'envious', 'fair', 'grief', 'is', 'kill', 'light', 'moon', 'pale', 'sick', 'soft', 'sun', 'the', 'through', 'what', 'window', 'with', 'yonder']\n"
     ]
    }
   ],
   "source": [
    "completa=[]\n",
    "A=[]\n",
    "\n",
    "while True:\n",
    "    narchivo=input(\"escribe el nombre del archivo \\n\")\n",
    "\n",
    "    try:\n",
    "        if narchivo == \"break\":\n",
    "            break\n",
    "        archivo=open(narchivo)\n",
    "        print(\"el archivo fue abieto con exito \\n\")\n",
    "        for linea in archivo:\n",
    "            palabras= linea.split()\n",
    "            #print(\"cada linea del archivo se dividio en listas \")\n",
    "            #print (palabras)\n",
    "            completa= completa+ palabras\n",
    "           # print(completa)\n",
    "        \n",
    "        \n",
    "        A.append(completa[0])\n",
    "       # print(\"\\n\",A)\n",
    "        #print(\"todo bien hast aqui \")\n",
    "        \n",
    "        \n",
    "        contador=0\n",
    "        for  i in completa:\n",
    "            try:\n",
    "                A.remove(i)\n",
    "                A.append(i)\n",
    "                contador =contador+1\n",
    "               # print(contador)\n",
    "            except:\n",
    "                A.append(i)\n",
    "                \n",
    "            \n",
    "            \n",
    "            \n",
    "        A.sort()\n",
    "        print(A)\n",
    "            \n",
    "        break \n",
    "    except:\n",
    "        print(\"no es posible abrir el archivo\")\n",
    "        \n",
    "        \n"
   ]
  },
  {
   "cell_type": "code",
   "execution_count": null,
   "id": "163b7529",
   "metadata": {},
   "outputs": [],
   "source": [
    "name_archivo= input(\"ingresa el nombre del arcivo: \")\n",
    "try :\n",
    "    texto = open(name_archivo)\n",
    "    banco=[]\n",
    "    for linea in texto:\n",
    "        #print(linea)\n",
    "        palabras=linea.split()\n",
    "        #print(palabras)\n",
    "        \n",
    "        for palabra in palabras:\n",
    "            if palabra in banco : continue\n",
    "            banco.append(palabra)\n",
    "    banco.sort()\n",
    "\n",
    "\n",
    "except:\n",
    "    print(\"ingresa el nombre de un archivo valido\")\n",
    "\n",
    "print(banco)"
   ]
  },
  {
   "cell_type": "markdown",
   "id": "2b3f0db6",
   "metadata": {},
   "source": [
    "But soft what light through yonder window breaks\n",
    "\n",
    "It is the east and Juliet is the sun\n",
    "\n",
    "\n",
    "Arise fair sun and kill the envious moon\n",
    "\n",
    "Who is already sick and pale with grief\n",
    "\n",
    "Ingresar nombre de archivo: romeo.txt\n",
    "\n",
    "['Arise', 'But', 'It', 'Juliet', 'Who', 'already',\n",
    "'and', 'breaks', 'east', 'envious', 'fair', 'grief',\n",
    "'is', 'kill', 'light', 'moon', 'pale', 'sick', 'soft',\n",
    "'sun', 'the', 'through', 'what', 'window',\n",
    "'with', 'yonder']"
   ]
  },
  {
   "cell_type": "markdown",
   "id": "eabd53ce",
   "metadata": {},
   "source": [
    "## Ejercicio 5\n",
    "\n",
    "Escribir un programa para leer a través de datos de una bandeja de entrada de correo y cuando encuentres una línea que comience\n",
    "con “From”, dividir la línea en palabras utilizando la función split.\n",
    "Estamos interesados en quién envió el mensaje, lo cual es la segunda\n",
    "palabra en las líneas que comienzan con From."
   ]
  },
  {
   "cell_type": "code",
   "execution_count": 34,
   "id": "12886a96",
   "metadata": {},
   "outputs": [
    {
     "name": "stdout",
     "output_type": "stream",
     "text": [
      "escribe el nombre del archivo \n",
      "mbox-short.txt\n",
      "el archivo fue abieto con exito \n",
      "\n",
      "stephen.marquard@uct.ac.za\n",
      "louis@media.berkeley.edu\n",
      "zqian@umich.edu\n",
      "rjlowe@iupui.edu\n",
      "zqian@umich.edu\n",
      "rjlowe@iupui.edu\n",
      "cwen@iupui.edu\n",
      "cwen@iupui.edu\n",
      "gsilver@umich.edu\n",
      "gsilver@umich.edu\n",
      "zqian@umich.edu\n",
      "gsilver@umich.edu\n",
      "wagnermr@iupui.edu\n",
      "zqian@umich.edu\n",
      "antranig@caret.cam.ac.uk\n",
      "gopal.ramasammycook@gmail.com\n",
      "david.horwitz@uct.ac.za\n",
      "david.horwitz@uct.ac.za\n",
      "david.horwitz@uct.ac.za\n",
      "david.horwitz@uct.ac.za\n",
      "stephen.marquard@uct.ac.za\n",
      "louis@media.berkeley.edu\n",
      "louis@media.berkeley.edu\n",
      "ray@media.berkeley.edu\n",
      "cwen@iupui.edu\n",
      "cwen@iupui.edu\n",
      "cwen@iupui.edu\n",
      "Hay  27 lineas en el archivo que inician con la palabra from \n"
     ]
    }
   ],
   "source": [
    "contador=0\n",
    "while True:\n",
    "    narchivo=input(\"escribe el nombre del archivo \\n\")\n",
    "\n",
    "    try:\n",
    "        if narchivo == \"break\":\n",
    "            break\n",
    "        archivo=open(narchivo)\n",
    "        print(\"el archivo fue abieto con exito \\n\")\n",
    "        for linea in archivo:\n",
    "            linea=linea.rstrip()\n",
    "            #print(\"el salto de linea fue desechado  \")\n",
    "            if linea.startswith('From '): \n",
    "                #print(linea)\n",
    "                palabras=linea.split()\n",
    "                #print(palabras)\n",
    "                print(palabras[1])\n",
    "                contador=contador+1\n",
    "                \n",
    "            \n",
    "            \n",
    "           \n",
    "        \n",
    "        \n",
    "        print(\"Hay \",contador,\"lineas en el archivo que inician con la palabra from \")\n",
    "        break \n",
    "    except:\n",
    "        print(\"no es posible abrir el archivo\")\n",
    "        \n",
    "        "
   ]
  },
  {
   "cell_type": "code",
   "execution_count": null,
   "id": "f59a0eb1",
   "metadata": {},
   "outputs": [],
   "source": []
  },
  {
   "cell_type": "markdown",
   "id": "418658ca",
   "metadata": {},
   "source": [
    "## Ejercicio 6"
   ]
  },
  {
   "cell_type": "code",
   "execution_count": null,
   "id": "794c2853",
   "metadata": {},
   "outputs": [],
   "source": [
    "num_lista=list()\n",
    "while True:\n",
    "    inp=input(\"ingresa un numero\\n\")\n",
    "    if inp== \"fin\":\n",
    "        break \n",
    "    try:\n",
    "        valor=float(inp)\n",
    "        num_lista.append(valor)\n",
    "    except:\n",
    "        print(\"por favor ingresa un valor numerico\")\n",
    "         \n",
    "print(\"Minimo:\",min(num_lista))\n",
    "print(\"Maximo:\",max(num_lista))\n"
   ]
  },
  {
   "cell_type": "code",
   "execution_count": 3,
   "id": "258608bb",
   "metadata": {},
   "outputs": [
    {
     "name": "stdout",
     "output_type": "stream",
     "text": [
      "Por favor ingresa un valor numerico\n",
      "gracias, Bye\n"
     ]
    }
   ],
   "source": [
    "lista=[]\n",
    "while True:\n",
    "    num=input(\"ingresa un numero: \")\n",
    "    try:\n",
    "        if num == \"hecho\":\n",
    "            break\n",
    "\n",
    "        num= float(num)\n",
    "        lista.append(num)\n",
    "\n",
    "\n",
    "    except:\n",
    "        print(\"Por favor ingresa un valor numerico\")\n",
    "try:\n",
    "    print(\"Maximo:\", max(lista))\n",
    "    print(\"Minimo:\", min(lista))       \n",
    "except:\n",
    "    print(\"gracias, Bye\")"
   ]
  },
  {
   "cell_type": "code",
   "execution_count": null,
   "id": "fd9ca0f9",
   "metadata": {},
   "outputs": [],
   "source": []
  },
  {
   "cell_type": "code",
   "execution_count": null,
   "id": "5754d577",
   "metadata": {},
   "outputs": [],
   "source": []
  }
 ],
 "metadata": {
  "kernelspec": {
   "display_name": "Python 3 (ipykernel)",
   "language": "python",
   "name": "python3"
  },
  "language_info": {
   "codemirror_mode": {
    "name": "ipython",
    "version": 3
   },
   "file_extension": ".py",
   "mimetype": "text/x-python",
   "name": "python",
   "nbconvert_exporter": "python",
   "pygments_lexer": "ipython3",
   "version": "3.10.7"
  }
 },
 "nbformat": 4,
 "nbformat_minor": 5
}
