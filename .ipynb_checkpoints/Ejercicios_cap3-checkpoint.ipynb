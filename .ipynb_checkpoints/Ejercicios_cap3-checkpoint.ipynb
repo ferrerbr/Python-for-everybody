{
 "cells": [
  {
   "cell_type": "markdown",
   "id": "80f0c023",
   "metadata": {},
   "source": [
    "# Ejercicios capitulo 3"
   ]
  },
  {
   "cell_type": "markdown",
   "id": "1719620e",
   "metadata": {},
   "source": [
    "Ejercicio 1: Reescribe el programa del cálculo del salario para darle al empleado\n",
    "1.5 veces la tarifa horaria para todas las horas trabajadas que excedan de 40."
   ]
  },
  {
   "cell_type": "code",
   "execution_count": null,
   "id": "1bfa5649",
   "metadata": {},
   "outputs": [],
   "source": [
    "ht= input(\"numero de horas:\\n\")\n",
    "ht=float(ht)\n",
    "tarifa = input(\"tarifa:\\n\")\n",
    "tarifa=float(tarifa)\n",
    "hdt=ht-40\n",
    "if ht>40:\n",
    "    d=(40*tarifa)+(hdt*(tarifa*1.5))\n",
    "else:\n",
    "    d=ht*tarifa\n",
    "\n",
    "\n",
    "print(\"salario bruto:\",d)"
   ]
  },
  {
   "cell_type": "markdown",
   "id": "84890828",
   "metadata": {},
   "source": [
    "Ejercicio 2: Reescribe el programa del salario usando try y except, de modo que el\n",
    "programa sea capaz de gestionar entradas no numéricas con elegancia, mostrando\n",
    "un mensaje y saliendo del programa. A continuación se muestran dos ejecuciones\n",
    "del programa:\n"
   ]
  },
  {
   "cell_type": "code",
   "execution_count": 9,
   "id": "5dcb000b",
   "metadata": {},
   "outputs": [
    {
     "name": "stdout",
     "output_type": "stream",
     "text": [
      "numero de horas:\n",
      "48\n",
      "tarifa:\n",
      "dos\n",
      "Por favor, introduzca un valor numerico\n"
     ]
    }
   ],
   "source": [
    "ht= input(\"numero de horas:\\n\")\n",
    "\n",
    "tarifa = input(\"tarifa:\\n\")\n",
    "try:\n",
    "    tarifa=float(tarifa)\n",
    "    ht=float(ht)\n",
    "\n",
    "    hdt=ht-40\n",
    "    if ht>40:\n",
    "        d=(40*tarifa)+(hdt*(tarifa*1.5))\n",
    "    else:\n",
    "        d=ht*tarifa\n",
    "    print(\"salario bruto:\",d)\n",
    "except:\n",
    "    print(\"Por favor, introduzca un valor numerico\")\n",
    "    \n"
   ]
  },
  {
   "cell_type": "markdown",
   "id": "b49f9176",
   "metadata": {},
   "source": [
    "Ejercicio 3: Escribe un programa que solicite una puntuación entre 0.0 y 1.0. Si la\n",
    "puntuación está fuera de ese rango, muestra un mensaje de error. Si la puntuación\n",
    "está entre 0.0 y 1.0, muestra la calificación usando la tabla siguiente:\n",
    "\n",
    "Puntuación Calificación\n",
    "\n",
    ".>= 0.9 Sobresaliente\n",
    "\n",
    ".>= 0.8 Notable\n",
    "\n",
    ".>= 0.7 Bien\n",
    "\n",
    ".>= 0.6 Suficiente\n",
    "\n",
    ".< 0.6 Insuficiente"
   ]
  },
  {
   "cell_type": "code",
   "execution_count": 3,
   "id": "659a5086",
   "metadata": {},
   "outputs": [
    {
     "name": "stdout",
     "output_type": "stream",
     "text": [
      "introduce tu calificacion:\n",
      ".5\n",
      "Suficiente\n"
     ]
    }
   ],
   "source": [
    "calif=input(\"introduce tu calificacion:\\n\")\n",
    "try:\n",
    "    calif=float(calif)\n",
    "    if calif>=0 and calif<=1:\n",
    "        if calif>=9:\n",
    "            print(\"sobresaliente\")\n",
    "        elif calif>=8:\n",
    "            print(\"Notable\")\n",
    "        elif calif>=7:\n",
    "            print(\"Bien\")\n",
    "        elif calif>=6:\n",
    "            print(\"Suficiente\")\n",
    "        elif calif<6:\n",
    "            print(\"Suficiente\")\n",
    "    else:\n",
    "        print(\"introduce un  valor entre 1 y 0\")\n",
    "   \n",
    "except:\n",
    "    print(\"introduce un valor numerico \")\n",
    "    \n",
    "        \n",
    "    "
   ]
  },
  {
   "cell_type": "code",
   "execution_count": null,
   "id": "b19a679a",
   "metadata": {},
   "outputs": [],
   "source": [
    "a=10\n",
    "a"
   ]
  },
  {
   "cell_type": "code",
   "execution_count": null,
   "id": "0e0cb117",
   "metadata": {},
   "outputs": [],
   "source": []
  }
 ],
 "metadata": {
  "kernelspec": {
   "display_name": "Python 3 (ipykernel)",
   "language": "python",
   "name": "python3"
  },
  "language_info": {
   "codemirror_mode": {
    "name": "ipython",
    "version": 3
   },
   "file_extension": ".py",
   "mimetype": "text/x-python",
   "name": "python",
   "nbconvert_exporter": "python",
   "pygments_lexer": "ipython3",
   "version": "3.10.7"
  }
 },
 "nbformat": 4,
 "nbformat_minor": 5
}
