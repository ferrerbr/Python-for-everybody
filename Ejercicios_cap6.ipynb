{
 "cells": [
  {
   "cell_type": "markdown",
   "id": "c68bdc00",
   "metadata": {},
   "source": [
    "# Ejercicios capitulo 6\n",
    "\n",
    "## cadenas"
   ]
  },
  {
   "cell_type": "markdown",
   "id": "b26aaecd",
   "metadata": {},
   "source": [
    "Ejercicio 1: Escribe un bucle while que comience con el último carácter\n",
    "en la cadena y haga un recorrido hacia atrás hasta el primer carácter\n",
    "en la cadena, imprimiendo cada letra en una línea independiente."
   ]
  },
  {
   "cell_type": "code",
   "execution_count": 6,
   "id": "0ea9f9ae",
   "metadata": {},
   "outputs": [
    {
     "name": "stdout",
     "output_type": "stream",
     "text": [
      "escribe un palabra:\n",
      "escarabajo\n",
      "o\n",
      "j\n",
      "a\n",
      "b\n",
      "a\n",
      "r\n",
      "a\n",
      "c\n",
      "s\n",
      "e\n"
     ]
    }
   ],
   "source": [
    "palabra=input(\"escribe un palabra:\\n\")\n",
    "tamaño=len(palabra)\n",
    "indice=-1\n",
    "\n",
    "while indice >= -tamaño:\n",
    "    letra =palabra[indice]\n",
    "    print(letra)\n",
    "    indice=indice-1"
   ]
  },
  {
   "cell_type": "markdown",
   "id": "fad38b56",
   "metadata": {},
   "source": [
    "Ejercicio 2: Dado que fruta es una cadena, ¿que significa fruta[:]?\n"
   ]
  },
  {
   "cell_type": "code",
   "execution_count": 1,
   "id": "5cd1e97a",
   "metadata": {},
   "outputs": [
    {
     "data": {
      "text/plain": [
       "'banana'"
      ]
     },
     "execution_count": 1,
     "metadata": {},
     "output_type": "execute_result"
    }
   ],
   "source": [
    "fruta=\"banana\"\n",
    "fruta[:]"
   ]
  },
  {
   "cell_type": "markdown",
   "id": "7529a62b",
   "metadata": {},
   "source": [
    "Ejercicio 3: Encapsula este código en una función llamada cuenta, y\n",
    "hazla genérica de tal modo que pueda aceptar una cadena y una letra\n",
    "como argumentos."
   ]
  },
  {
   "cell_type": "code",
   "execution_count": 11,
   "id": "2a21f852",
   "metadata": {},
   "outputs": [],
   "source": [
    "def contador_letras(palabra,letra):\n",
    "    contador=0\n",
    "    for letra2 in palabra:\n",
    "        if letra2==letra:\n",
    "                contador=contador+1\n",
    "    print(\"numero de las letras\",letra,\"es igual a=\",contador)\n"
   ]
  },
  {
   "cell_type": "code",
   "execution_count": 18,
   "id": "7e3650d8",
   "metadata": {},
   "outputs": [
    {
     "name": "stdout",
     "output_type": "stream",
     "text": [
      "numero de las letras i es igual a= 1\n"
     ]
    }
   ],
   "source": [
    "contador_letras(\"ferrocaril\",\"i\")"
   ]
  },
  {
   "cell_type": "markdown",
   "id": "3adeba43",
   "metadata": {},
   "source": [
    "Ejercicio 4: Hay un método de cadenas llamado count que es similar a\n",
    "la función del ejercicio previo. Lee la documentación de este método\n",
    "en:\n",
    "\n",
    "Escribe una invocación que cuenta el número de veces que una letra\n",
    "aparece en “banana”.\n"
   ]
  },
  {
   "cell_type": "code",
   "execution_count": 10,
   "id": "e157e2d6",
   "metadata": {},
   "outputs": [
    {
     "data": {
      "text/plain": [
       "3"
      ]
     },
     "execution_count": 10,
     "metadata": {},
     "output_type": "execute_result"
    }
   ],
   "source": [
    "linea=\"Banana\"\n",
    "linea.lower().count(\"a\")\n"
   ]
  },
  {
   "cell_type": "markdown",
   "id": "1be1d4d2",
   "metadata": {},
   "source": [
    "Ejercicio 5: Toma el siguiente código en Python que almacena una ca\u0002dena:\n",
    "str = 'X-DSPAM-Confidence:0.8475'\n",
    "Utiliza find y una parte de la cadena para extraer la porción de la cadena\n",
    "después del carácter dos puntos y después utiliza la función float para\n",
    "convertir la cadena extraída en un número de punto flotante"
   ]
  },
  {
   "cell_type": "code",
   "execution_count": 17,
   "id": "08360afe",
   "metadata": {},
   "outputs": [
    {
     "name": "stdout",
     "output_type": "stream",
     "text": [
      "0.8475\n"
     ]
    },
    {
     "data": {
      "text/plain": [
       "float"
      ]
     },
     "execution_count": 17,
     "metadata": {},
     "output_type": "execute_result"
    }
   ],
   "source": [
    "cadena = 'X-DSPAM-Confidence:0.8475'\n",
    "inicio=cadena.find(\":\")\n",
    "numero=float(cadena[inicio+1:])\n",
    "print(numero)\n",
    "type(numero)\n",
    "\n",
    "\n",
    "\n",
    "\n",
    "\n"
   ]
  },
  {
   "cell_type": "markdown",
   "id": "d9f854bd",
   "metadata": {},
   "source": [
    "Ejercicio 6: Lee la documentación de los métodos de cadenas en\n",
    "https://docs.python.org/library/stdtypes.html#string-methods Quizá\n",
    "quieras experimentar con algunos de ellos para asegurarte de entender\n",
    "como funcionan. strip y replace son particularmente útiles.\n",
    "La documentación usa una sintaxis que puede ser confusa. Por ejem\u0002plo, en find(sub[, start[, end]]), los corchetes indican argumentos op\u0002cionales. De modo que sub es requerido, pero start es opcional, y si se\n",
    "incluye start, entonces end es opcional.\n"
   ]
  },
  {
   "cell_type": "code",
   "execution_count": null,
   "id": "6067c106",
   "metadata": {},
   "outputs": [],
   "source": []
  }
 ],
 "metadata": {
  "kernelspec": {
   "display_name": "Python 3 (ipykernel)",
   "language": "python",
   "name": "python3"
  },
  "language_info": {
   "codemirror_mode": {
    "name": "ipython",
    "version": 3
   },
   "file_extension": ".py",
   "mimetype": "text/x-python",
   "name": "python",
   "nbconvert_exporter": "python",
   "pygments_lexer": "ipython3",
   "version": "3.10.7"
  }
 },
 "nbformat": 4,
 "nbformat_minor": 5
}
