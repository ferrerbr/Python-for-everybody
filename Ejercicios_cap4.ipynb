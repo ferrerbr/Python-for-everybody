{
 "cells": [
  {
   "cell_type": "markdown",
   "id": "2ec7b1fd",
   "metadata": {},
   "source": [
    "# Ejercicios capitulo 4|"
   ]
  },
  {
   "cell_type": "markdown",
   "id": "bea46553",
   "metadata": {},
   "source": [
    "Ejercicio 6: Reescribe el programa de cálculo del salario, con tarifa-y\u0002media para las horas extras, y crea una función llamada calculo_salario\n",
    "que reciba dos parámetros (horas y tarifa).\n"
   ]
  },
  {
   "cell_type": "code",
   "execution_count": 4,
   "id": "85de4ad8",
   "metadata": {},
   "outputs": [],
   "source": [
    "def calculo_salario(horas, tarifa):\n",
    "    try:\n",
    "        tarifa=float(tarifa)\n",
    "        ht=float(horas)\n",
    "        hdt=ht-40\n",
    "        if ht>40:\n",
    "            d=(40*tarifa)+(hdt*(tarifa*1.5))\n",
    "        else:\n",
    "            d=ht*tarifa\n",
    "        print(\"salario bruto:\",d)\n",
    "    except:\n",
    "        print(\"Por favor, introduzca un valor numerico\")\n",
    "    \n"
   ]
  },
  {
   "cell_type": "code",
   "execution_count": 8,
   "id": "ea9dd2c6",
   "metadata": {},
   "outputs": [
    {
     "name": "stdout",
     "output_type": "stream",
     "text": [
      "salario bruto: 490.0\n"
     ]
    }
   ],
   "source": [
    "calculo_salario(46,10)"
   ]
  },
  {
   "cell_type": "markdown",
   "id": "b722a4f9",
   "metadata": {},
   "source": [
    "Ejercicio 7: Reescribe el programa de calificaciones del capítulo ante\u0002rior usando una función llamada calcula_calificacion, que reciba una\n",
    "puntuación como parámetro y devuelva una calificación como cadena.\n",
    "Puntuación Calificación\n",
    "\n",
    ".> 0.9 Sobresaliente\n",
    "\n",
    ".> 0.8 Notable\n",
    "\n",
    ".> 0.7 Bien\n",
    "\n",
    ".> 0.6 Suficiente\n",
    "\n",
    ".<= 0.6 Insuficiente"
   ]
  },
  {
   "cell_type": "code",
   "execution_count": 26,
   "id": "f87c79dc",
   "metadata": {},
   "outputs": [],
   "source": [
    "def calcula_calificacion(calif):\n",
    "    try:\n",
    "        calif=float(calif)\n",
    "        if calif>=0 and calif<=1:\n",
    "            if calif>=0.9:\n",
    "                print(calif,\"sobresaliente\")\n",
    "            elif calif>=0.8:\n",
    "                print(calif,\"Notable\")\n",
    "            elif calif>=0.7:\n",
    "                print(calif,\"Bien\")\n",
    "            elif calif>=0.6:\n",
    "                print(calif,\"Suficiente\")\n",
    "            elif calif<0.6:\n",
    "                print(calif,\"insuficiente\")\n",
    "        else:\n",
    "            print(\"introduce un  valor entre 1 y 0\")\n",
    "    except:\n",
    "        print(\"introduce un valor numerico \")\n",
    "    \n",
    "        \n",
    "    "
   ]
  },
  {
   "cell_type": "code",
   "execution_count": 27,
   "id": "72018367",
   "metadata": {},
   "outputs": [
    {
     "name": "stdout",
     "output_type": "stream",
     "text": [
      "0.55 insuficiente\n"
     ]
    }
   ],
   "source": [
    "calcula_calificacion(.55)"
   ]
  },
  {
   "cell_type": "code",
   "execution_count": 29,
   "id": "c28c54ed",
   "metadata": {},
   "outputs": [
    {
     "name": "stdout",
     "output_type": "stream",
     "text": [
      "numero de elentos: 7\n"
     ]
    }
   ],
   "source": [
    "contador=0\n",
    "for valor in [3,41,12,9,74,15,5]:\n",
    "    contador=contador+1\n",
    "print(\"numero de elentos:\",contador)"
   ]
  },
  {
   "cell_type": "code",
   "execution_count": null,
   "id": "4f7fbea1",
   "metadata": {},
   "outputs": [],
   "source": []
  }
 ],
 "metadata": {
  "kernelspec": {
   "display_name": "Python 3 (ipykernel)",
   "language": "python",
   "name": "python3"
  },
  "language_info": {
   "codemirror_mode": {
    "name": "ipython",
    "version": 3
   },
   "file_extension": ".py",
   "mimetype": "text/x-python",
   "name": "python",
   "nbconvert_exporter": "python",
   "pygments_lexer": "ipython3",
   "version": "3.10.7"
  }
 },
 "nbformat": 4,
 "nbformat_minor": 5
}
