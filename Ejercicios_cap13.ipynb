{
 "cells": [
  {
   "cell_type": "code",
   "execution_count": 1,
   "metadata": {},
   "outputs": [
    {
     "name": "stdout",
     "output_type": "stream",
     "text": [
      "Nombre: Chuck\n",
      "Atributo: si\n"
     ]
    }
   ],
   "source": [
    "import xml.etree.ElementTree as ET\n",
    "\n",
    "datos = '''\n",
    "<persona>\n",
    "  <nombre>Chuck</nombre>\n",
    "  <telefono type=\"intl\">\n",
    "    +1 734 303 4456\n",
    "  </telefono>\n",
    "  <email oculto=\"si\" />\n",
    "</persona>'''\n",
    "\n",
    "arbol = ET.fromstring(datos)\n",
    "print('Nombre:', arbol.find('nombre').text)\n",
    "print('Atributo:', arbol.find('email').get('oculto'))"
   ]
  },
  {
   "cell_type": "code",
   "execution_count": 2,
   "metadata": {},
   "outputs": [
    {
     "name": "stdout",
     "output_type": "stream",
     "text": [
      "Total de usuarios: 2\n",
      "Nombre Chuck\n",
      "Id 001\n",
      "Atributo 2\n",
      "Nombre Brent\n",
      "Id 009\n",
      "Atributo 7\n"
     ]
    }
   ],
   "source": [
    "import xml.etree.ElementTree as ET\n",
    "\n",
    "datos = '''\n",
    "<cosa>\n",
    "  <usuarios>\n",
    "    <usuario x=\"2\">\n",
    "      <id>001</id>\n",
    "      <nombre>Chuck</nombre>\n",
    "    </usuario>\n",
    "    <usuario x=\"7\">\n",
    "      <id>009</id>\n",
    "      <nombre>Brent</nombre>\n",
    "    </usuario>\n",
    "  </usuarios>\n",
    "</cosa>'''\n",
    "\n",
    "cosa = ET.fromstring(datos)\n",
    "lst = cosa.findall('usuarios/usuario')\n",
    "print('Total de usuarios:', len(lst))\n",
    "\n",
    "for item in lst:\n",
    "    print('Nombre', item.find('nombre').text)\n",
    "    print('Id', item.find('id').text)\n",
    "    print('Atributo', item.get('x')) "
   ]
  },
  {
   "cell_type": "code",
   "execution_count": 3,
   "metadata": {},
   "outputs": [
    {
     "name": "stdout",
     "output_type": "stream",
     "text": [
      "Total de usuarios: 2\n",
      "Nombre Chuck\n",
      "Id 001\n",
      "Atributo 2\n",
      "Nombre Brent\n",
      "Id 009\n",
      "Atributo 7\n"
     ]
    }
   ],
   "source": [
    "import json\n",
    "\n",
    "datos = '''\n",
    "[\n",
    "  { \"id\" : \"001\",\n",
    "    \"x\" : \"2\",\n",
    "    \"nombre\" : \"Chuck\"\n",
    "  } ,\n",
    "  { \"id\" : \"009\",\n",
    "    \"x\" : \"7\",\n",
    "    \"nombre\" : \"Brent\"\n",
    "  }\n",
    "]'''\n",
    "\n",
    "info = json.loads(datos)\n",
    "print('Total de usuarios:', len(info))\n",
    "\n",
    "for elemento in info:\n",
    "    print('Nombre', elemento['nombre'])\n",
    "    print('Id', elemento['id'])\n",
    "    print('Atributo', elemento['x'])"
   ]
  }
 ],
 "metadata": {
  "kernelspec": {
   "display_name": "Python 3",
   "language": "python",
   "name": "python3"
  },
  "language_info": {
   "codemirror_mode": {
    "name": "ipython",
    "version": 3
   },
   "file_extension": ".py",
   "mimetype": "text/x-python",
   "name": "python",
   "nbconvert_exporter": "python",
   "pygments_lexer": "ipython3",
   "version": "3.10.7"
  }
 },
 "nbformat": 4,
 "nbformat_minor": 2
}
