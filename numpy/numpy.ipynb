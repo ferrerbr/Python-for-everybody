{
 "cells": [
  {
   "cell_type": "markdown",
   "id": "c7327e82-fd82-4234-a5ec-2c94292c198f",
   "metadata": {},
   "source": [
    "## Numpy"
   ]
  },
  {
   "cell_type": "markdown",
   "id": "a19730c2-6384-4353-80d1-4df49846f9d6",
   "metadata": {},
   "source": [
    "__Ejercicio 1:__"
   ]
  },
  {
   "cell_type": "markdown",
   "id": "d0c1cfcc-7730-4612-9a49-23f3790b543f",
   "metadata": {},
   "source": [
    "Importar numpy"
   ]
  },
  {
   "cell_type": "code",
   "execution_count": 1,
   "id": "fdc297ee-bc0d-42b8-a1cb-c01e45fae36d",
   "metadata": {},
   "outputs": [],
   "source": [
    "import numpy as np"
   ]
  },
  {
   "cell_type": "code",
   "execution_count": 33,
   "id": "a70a8238-60ef-4383-b3da-4714c1074c85",
   "metadata": {},
   "outputs": [],
   "source": [
    "import matplotlib.pyplot as plt"
   ]
  },
  {
   "cell_type": "markdown",
   "id": "6abe2412-1096-42ef-ac26-97d52d483563",
   "metadata": {},
   "source": [
    "__Ejercicio 2:__"
   ]
  },
  {
   "cell_type": "code",
   "execution_count": 3,
   "id": "d06d31a3-2aba-4262-ba57-bb8b5989bb0f",
   "metadata": {},
   "outputs": [],
   "source": [
    "lista= [31,28,29,19]\n"
   ]
  },
  {
   "cell_type": "markdown",
   "id": "a280bead-9a9a-4605-8954-e47d37cac2a6",
   "metadata": {},
   "source": [
    "Crear una ndarray utilizando la lista anterior"
   ]
  },
  {
   "cell_type": "code",
   "execution_count": 4,
   "id": "2fc49c07-0660-44da-8fd0-c5f71fbf67d7",
   "metadata": {},
   "outputs": [],
   "source": [
    "arr = np.array(lista)"
   ]
  },
  {
   "cell_type": "code",
   "execution_count": 5,
   "id": "b02943c8",
   "metadata": {},
   "outputs": [
    {
     "data": {
      "text/plain": [
       "array([31, 28, 29, 19])"
      ]
     },
     "execution_count": 5,
     "metadata": {},
     "output_type": "execute_result"
    }
   ],
   "source": [
    "arr"
   ]
  },
  {
   "cell_type": "markdown",
   "id": "a7f7692d-63e3-4688-bbda-9c5dc9340e0f",
   "metadata": {},
   "source": [
    "__Ejercicio 3:__"
   ]
  },
  {
   "cell_type": "code",
   "execution_count": 6,
   "id": "4d0aa5ca-e154-4f9b-9b25-7c7f2695e06b",
   "metadata": {},
   "outputs": [],
   "source": [
    "lista_2d=[[2,3,4],\n",
    "          [3,4,5],\n",
    "          [3,4,5],\n",
    "          [3,4,5]]"
   ]
  },
  {
   "cell_type": "code",
   "execution_count": null,
   "id": "f5e68093",
   "metadata": {},
   "outputs": [],
   "source": []
  },
  {
   "cell_type": "markdown",
   "id": "d7c21cc3-407d-44ef-82a9-82733f2bffee",
   "metadata": {},
   "source": [
    "Crear una ndarray utilizando la lista bidimensional anterior"
   ]
  },
  {
   "cell_type": "code",
   "execution_count": 7,
   "id": "3aa7c127-4943-45f2-a5a3-3e9ef4cc7589",
   "metadata": {},
   "outputs": [
    {
     "data": {
      "text/plain": [
       "array([[2, 3, 4],\n",
       "       [3, 4, 5],\n",
       "       [3, 4, 5],\n",
       "       [3, 4, 5]])"
      ]
     },
     "execution_count": 7,
     "metadata": {},
     "output_type": "execute_result"
    }
   ],
   "source": [
    "arr = np.array(lista_2d)\n",
    "arr"
   ]
  },
  {
   "cell_type": "markdown",
   "id": "ef3847b6-eda7-4fd1-b115-3c240a2413a7",
   "metadata": {},
   "source": [
    "__Ejercicio 4:__"
   ]
  },
  {
   "cell_type": "markdown",
   "id": "7ebe38ea-eef2-49d6-b15e-a9ecb2a52b2c",
   "metadata": {},
   "source": [
    "Utilizar la propiedad shape para obtener la forma del ndarray anterior"
   ]
  },
  {
   "cell_type": "code",
   "execution_count": 8,
   "id": "15be0acf-6149-4104-a361-ac862e9e6620",
   "metadata": {},
   "outputs": [
    {
     "data": {
      "text/plain": [
       "(4, 3)"
      ]
     },
     "execution_count": 8,
     "metadata": {},
     "output_type": "execute_result"
    }
   ],
   "source": [
    "arr.shape"
   ]
  },
  {
   "cell_type": "markdown",
   "id": "4824638b-96e5-4754-be79-8c823f834420",
   "metadata": {},
   "source": [
    "Utilizar la propiedad ndim para obtener las dimensiones del ndarray anterior"
   ]
  },
  {
   "cell_type": "code",
   "execution_count": 9,
   "id": "6c2fad0b-cb86-439e-b4a7-7fd3edbba2c7",
   "metadata": {},
   "outputs": [
    {
     "data": {
      "text/plain": [
       "2"
      ]
     },
     "execution_count": 9,
     "metadata": {},
     "output_type": "execute_result"
    }
   ],
   "source": [
    "arr.ndim"
   ]
  },
  {
   "cell_type": "markdown",
   "id": "1e434bf5-ec3f-4c86-8e41-09fe3eb736a0",
   "metadata": {},
   "source": [
    "Utilizar la propiedad dtype para obtener el tipo de los datos en el ndarray anterior"
   ]
  },
  {
   "cell_type": "code",
   "execution_count": 10,
   "id": "69e66663-e400-4795-9f81-84978b1cad1f",
   "metadata": {},
   "outputs": [
    {
     "data": {
      "text/plain": [
       "dtype('int32')"
      ]
     },
     "execution_count": 10,
     "metadata": {},
     "output_type": "execute_result"
    }
   ],
   "source": [
    "arr.dtype"
   ]
  },
  {
   "cell_type": "markdown",
   "id": "184283c0-3789-48fc-bac0-d7cdf275bec4",
   "metadata": {},
   "source": [
    "Utilizar la propiedad size para obtener la cantidad total de datos en el ndarray anterior"
   ]
  },
  {
   "cell_type": "code",
   "execution_count": 11,
   "id": "a22fd4c0-43b7-4bee-b34e-99d0599aee2d",
   "metadata": {},
   "outputs": [
    {
     "data": {
      "text/plain": [
       "12"
      ]
     },
     "execution_count": 11,
     "metadata": {},
     "output_type": "execute_result"
    }
   ],
   "source": [
    "arr.size"
   ]
  },
  {
   "cell_type": "markdown",
   "id": "5dd95a43-7d3d-426a-9bd1-48e1bd3b2da9",
   "metadata": {},
   "source": [
    "__Ejercicio 5:__"
   ]
  },
  {
   "cell_type": "markdown",
   "id": "761e91bc-f278-4380-ba5b-d05f9cbdec6f",
   "metadata": {},
   "source": [
    "Crear un ndarray utilizando la lista \"lista_2d\", el tipo de los datos debe ser \"int16\""
   ]
  },
  {
   "cell_type": "code",
   "execution_count": 13,
   "id": "94b41715-3d42-427e-a3fd-240487b0ea90",
   "metadata": {},
   "outputs": [
    {
     "data": {
      "text/plain": [
       "array([[2, 3, 4],\n",
       "       [3, 4, 5],\n",
       "       [3, 4, 5],\n",
       "       [3, 4, 5]], dtype=int16)"
      ]
     },
     "execution_count": 13,
     "metadata": {},
     "output_type": "execute_result"
    }
   ],
   "source": [
    "arr= np.array(lista_2d,dtype = np.int16)\n",
    "arr"
   ]
  },
  {
   "cell_type": "markdown",
   "id": "67a2d007-ddec-41df-8bb2-df4a51420fae",
   "metadata": {},
   "source": [
    "__Ejercicio 6:__"
   ]
  },
  {
   "cell_type": "markdown",
   "id": "95aebac0-6ef3-45de-a8a8-be4d7cb71d7c",
   "metadata": {},
   "source": [
    "Utilizar la función np.zeros para crear un ndarray con la forma 3x2"
   ]
  },
  {
   "cell_type": "code",
   "execution_count": 15,
   "id": "d2997bc4-ae45-4b4a-aa36-7329dc32b33e",
   "metadata": {},
   "outputs": [
    {
     "data": {
      "text/plain": [
       "array([[0., 0.],\n",
       "       [0., 0.],\n",
       "       [0., 0.]])"
      ]
     },
     "execution_count": 15,
     "metadata": {},
     "output_type": "execute_result"
    }
   ],
   "source": [
    "np.zeros((3,2))"
   ]
  },
  {
   "cell_type": "markdown",
   "id": "61a92a21-f2ee-4b7d-bea8-24f7bec015c3",
   "metadata": {},
   "source": [
    "Utilizar la función np.ones para crear un ndarray con la forma 3x3"
   ]
  },
  {
   "cell_type": "code",
   "execution_count": 16,
   "id": "87db7972-fda2-4858-a456-6670825c6479",
   "metadata": {},
   "outputs": [
    {
     "data": {
      "text/plain": [
       "array([[1., 1., 1.],\n",
       "       [1., 1., 1.],\n",
       "       [1., 1., 1.]])"
      ]
     },
     "execution_count": 16,
     "metadata": {},
     "output_type": "execute_result"
    }
   ],
   "source": [
    "np.ones((3,3))"
   ]
  },
  {
   "cell_type": "markdown",
   "id": "b3956de0-7f1c-4424-9a95-f5c38f4ff01f",
   "metadata": {},
   "source": [
    "Utilizar la función np.empty para crear un ndarray con la forma 2x4"
   ]
  },
  {
   "cell_type": "code",
   "execution_count": 17,
   "id": "ea688cdb-6eca-43ed-9415-a11289356396",
   "metadata": {},
   "outputs": [
    {
     "data": {
      "text/plain": [
       "array([[0., 0., 1., 1.],\n",
       "       [1., 1., 1., 1.],\n",
       "       [1., 0., 0., 1.]])"
      ]
     },
     "execution_count": 17,
     "metadata": {},
     "output_type": "execute_result"
    }
   ],
   "source": [
    "np.empty((3,4))"
   ]
  },
  {
   "cell_type": "markdown",
   "id": "d97f5126-5e89-4e84-bff8-8ab2922ebccb",
   "metadata": {},
   "source": [
    "__Ejercicio 7:__"
   ]
  },
  {
   "cell_type": "markdown",
   "id": "9b4f9ead-3891-4b57-b174-b601dc0683bf",
   "metadata": {},
   "source": [
    "Crear un ndarray de 1 dimensión con los valores del 0 al 9 (Ej. [1,2,3,...])"
   ]
  },
  {
   "cell_type": "code",
   "execution_count": 19,
   "id": "8cdb9077-e8b1-4c35-ad3a-4ec715e79112",
   "metadata": {},
   "outputs": [
    {
     "data": {
      "text/plain": [
       "array([0, 1, 2, 3, 4, 5, 6, 7, 8, 9])"
      ]
     },
     "execution_count": 19,
     "metadata": {},
     "output_type": "execute_result"
    }
   ],
   "source": [
    "np.arange(10)"
   ]
  },
  {
   "cell_type": "markdown",
   "id": "57be4fb9-0969-4a92-a278-387d7595c3fc",
   "metadata": {},
   "source": [
    "Crear un ndarray de 2 dimensión con la forma 2x5,los valores deben ser del 0 al 9 (Ej. [[0,1,2,3,4],[5,6,..]])"
   ]
  },
  {
   "cell_type": "code",
   "execution_count": 20,
   "id": "79a345a8-b779-415d-b22e-e87d75b1672f",
   "metadata": {},
   "outputs": [
    {
     "data": {
      "text/plain": [
       "array([[0, 1],\n",
       "       [2, 3],\n",
       "       [4, 5],\n",
       "       [6, 7],\n",
       "       [8, 9]])"
      ]
     },
     "execution_count": 20,
     "metadata": {},
     "output_type": "execute_result"
    }
   ],
   "source": [
    "np.arange(10).reshape(5,2)"
   ]
  },
  {
   "cell_type": "markdown",
   "id": "31da554b-5b01-4c72-a240-31daba880c19",
   "metadata": {},
   "source": [
    "__Ejercicio 8:__"
   ]
  },
  {
   "cell_type": "markdown",
   "id": "2f5a7f25-48d2-4171-9b5f-3dd956e57e50",
   "metadata": {},
   "source": [
    "Utilizar np.arange para crear un ndarray con los valores del 10 al 20, deben ir de 2 en 2 (Ej. [10,12,..])"
   ]
  },
  {
   "cell_type": "code",
   "execution_count": 23,
   "id": "c05f65d7-55df-4bb3-862e-7eab91a3d3d9",
   "metadata": {},
   "outputs": [
    {
     "data": {
      "text/plain": [
       "array([10, 12, 14, 16, 18])"
      ]
     },
     "execution_count": 23,
     "metadata": {},
     "output_type": "execute_result"
    }
   ],
   "source": [
    "np.arange(10,20,2)"
   ]
  },
  {
   "cell_type": "markdown",
   "id": "a42828a6-38db-46fd-8fa8-301a8838c627",
   "metadata": {},
   "source": [
    "__Ejercicio 9:__"
   ]
  },
  {
   "cell_type": "markdown",
   "id": "fd702fb3-3cd9-45d6-8032-57bbec0a51b1",
   "metadata": {},
   "source": [
    "Utilizar np.linspace para crear un ndarray con los valores enteros entre el 10 al 20"
   ]
  },
  {
   "cell_type": "code",
   "execution_count": 24,
   "id": "85cc30af-250f-4ab8-a7cf-eed247a0dea9",
   "metadata": {},
   "outputs": [
    {
     "data": {
      "text/plain": [
       "array([10., 11., 12., 13., 14., 15., 16., 17., 18., 19., 20.])"
      ]
     },
     "execution_count": 24,
     "metadata": {},
     "output_type": "execute_result"
    }
   ],
   "source": [
    "np.linspace(10,20,11)"
   ]
  },
  {
   "cell_type": "markdown",
   "id": "d04b6ccf-5d9b-4769-a3a2-d65d93e644d4",
   "metadata": {},
   "source": [
    "__Ejercicio 10:__"
   ]
  },
  {
   "cell_type": "markdown",
   "id": "a5624bd4-06c2-4959-8e10-d1b8e0227705",
   "metadata": {},
   "source": [
    "Utilizar np.linspace para crear un ndarray  con 100 números entre el 0 y 2$\\pi$"
   ]
  },
  {
   "cell_type": "code",
   "execution_count": 25,
   "id": "78913e8d",
   "metadata": {},
   "outputs": [],
   "source": [
    "from numpy   import pi "
   ]
  },
  {
   "cell_type": "code",
   "execution_count": 27,
   "id": "aa9439dc-b364-465c-b260-ca47fd9fcec4",
   "metadata": {},
   "outputs": [],
   "source": [
    "rad = np.linspace(0,2*pi,100)"
   ]
  },
  {
   "cell_type": "markdown",
   "id": "22b71ecd-a48f-47a5-8fb3-c53384a557b6",
   "metadata": {},
   "source": [
    "Utilizar np.sin y np.cos para obtener los valores de seno y coseno en los puntos del array anterior "
   ]
  },
  {
   "cell_type": "code",
   "execution_count": 30,
   "id": "691abc23-2c53-4e71-8feb-899e067166d9",
   "metadata": {},
   "outputs": [],
   "source": [
    "seno = np.sin(rad)\n",
    "coseno = np.cos(rad)"
   ]
  },
  {
   "cell_type": "markdown",
   "id": "bc933a1f-5f84-4e0e-bfa9-13d682e74779",
   "metadata": {},
   "source": [
    "Utilizar plt.plot para graficar un círculo con los datos de seno y coseno"
   ]
  },
  {
   "cell_type": "code",
   "execution_count": 34,
   "id": "67c506aa-ba33-4658-ab11-295539ffdad2",
   "metadata": {},
   "outputs": [
    {
     "data": {
      "image/png": "[encoded data removed]",
      "text/plain": [
       "<Figure size 640x480 with 1 Axes>"
      ]
     },
     "metadata": {},
     "output_type": "display_data"
    }
   ],
   "source": [
    "plt.plot(seno,coseno)\n",
    "plt.show()"
   ]
  },
  {
   "cell_type": "markdown",
   "id": "155bbcd6-88d5-4cdc-9a05-c50f26f5187f",
   "metadata": {},
   "source": [
    "__Ejercicio 11:__"
   ]
  },
  {
   "cell_type": "markdown",
   "id": "c0b81a7c-aa51-4400-9527-130a5bbcc8d5",
   "metadata": {},
   "source": [
    "Utilizar plt.plot para graficar los valores de seno y coseno por separado"
   ]
  },
  {
   "cell_type": "code",
   "execution_count": 35,
   "id": "6e91a06c-c9ec-4600-a220-1c3e75668def",
   "metadata": {},
   "outputs": [
    {
     "data": {
      "text/plain": [
       "[<matplotlib.lines.Line2D at 0x1bde1ae3040>]"
      ]
     },
     "execution_count": 35,
     "metadata": {},
     "output_type": "execute_result"
    },
    {
     "data": {
      "image/png": "[encoded data removed]",
      "text/plain": [
       "<Figure size 640x480 with 1 Axes>"
      ]
     },
     "metadata": {},
     "output_type": "display_data"
    }
   ],
   "source": [
    "plt.plot(rad,seno)\n",
    "plt.plot(rad,coseno)"
   ]
  },
  {
   "cell_type": "markdown",
   "id": "8bd317ad-9cae-4dff-a928-726ebda177bf",
   "metadata": {},
   "source": [
    "__Ejercicio 12:__"
   ]
  },
  {
   "cell_type": "code",
   "execution_count": 36,
   "id": "e3319954-862f-4bdf-998e-d5f24781a40d",
   "metadata": {},
   "outputs": [
    {
     "name": "stdout",
     "output_type": "stream",
     "text": [
      "[10. 12. 14. 16. 18. 20.] [ 5.  9. 13. 17. 21. 25.]\n"
     ]
    }
   ],
   "source": [
    "a= np.linspace(10,20,6)\n",
    "b= np.linspace(5,25,6)\n",
    "print(a,b)"
   ]
  },
  {
   "cell_type": "markdown",
   "id": "03a56414-a7b0-4dff-a351-11af200156ee",
   "metadata": {},
   "source": [
    "Sumar los valores de los ndarray \"a\" y \"b\""
   ]
  },
  {
   "cell_type": "code",
   "execution_count": 37,
   "id": "98e5e936-d60c-4d71-a750-2f9a2f8d21bf",
   "metadata": {},
   "outputs": [
    {
     "data": {
      "text/plain": [
       "array([15., 21., 27., 33., 39., 45.])"
      ]
     },
     "execution_count": 37,
     "metadata": {},
     "output_type": "execute_result"
    }
   ],
   "source": [
    "a+b"
   ]
  },
  {
   "cell_type": "markdown",
   "id": "fc20ad08-c098-4593-8b9c-dbcd87937c56",
   "metadata": {},
   "source": [
    "Unir los ndarray \"a\" y \"b\", guardarlo en la variable c"
   ]
  },
  {
   "cell_type": "code",
   "execution_count": 40,
   "id": "eac3bddb-1e5e-4357-9bc6-61637c2c6d26",
   "metadata": {},
   "outputs": [
    {
     "data": {
      "text/plain": [
       "array([10., 12., 14., 16., 18., 20.,  5.,  9., 13., 17., 21., 25.])"
      ]
     },
     "execution_count": 40,
     "metadata": {},
     "output_type": "execute_result"
    }
   ],
   "source": [
    "c = np.concatenate((a,b))\n",
    "c"
   ]
  },
  {
   "cell_type": "markdown",
   "id": "378dd0d9-1363-4dfb-ba87-674921eb979e",
   "metadata": {},
   "source": [
    "Ordenar los valores del ndarray c"
   ]
  },
  {
   "cell_type": "code",
   "execution_count": 41,
   "id": "5dc18067-228d-4596-b481-32f2bfd1c21e",
   "metadata": {},
   "outputs": [
    {
     "data": {
      "text/plain": [
       "array([ 5.,  9., 10., 12., 13., 14., 16., 17., 18., 20., 21., 25.])"
      ]
     },
     "execution_count": 41,
     "metadata": {},
     "output_type": "execute_result"
    }
   ],
   "source": [
    "c.sort()\n",
    "c"
   ]
  },
  {
   "cell_type": "markdown",
   "id": "7b311d70-aedb-42c5-a1d6-690d0a9919b3",
   "metadata": {},
   "source": [
    "__Ejercicio 13:__"
   ]
  },
  {
   "cell_type": "markdown",
   "id": "4965dab5-9b59-40b7-8246-4cf089550b74",
   "metadata": {},
   "source": [
    "Utilizar rg.random para generar un ndarray de 1000 números aleatorios entre el 0 y 1"
   ]
  },
  {
   "cell_type": "code",
   "execution_count": 42,
   "id": "336bd3a7-b45d-4a1e-bcce-74910ec6b328",
   "metadata": {},
   "outputs": [],
   "source": [
    "rg = np.random.default_rng(2)"
   ]
  },
  {
   "cell_type": "code",
   "execution_count": 43,
   "id": "b91eda2e-1ae1-44fe-845d-f38fa71da28e",
   "metadata": {},
   "outputs": [],
   "source": [
    "aleatorio = rg.random(100)"
   ]
  },
  {
   "cell_type": "code",
   "execution_count": 44,
   "id": "cfd27b82",
   "metadata": {},
   "outputs": [
    {
     "data": {
      "text/plain": [
       "array([0.26161213, 0.29849114, 0.81422574, 0.09191594, 0.60010053,\n",
       "       0.72856053, 0.18790107, 0.05514663, 0.27496937, 0.65743301,\n",
       "       0.56226566, 0.15006226, 0.43263079, 0.6692973 , 0.42278467,\n",
       "       0.6331844 , 0.96743595, 0.68306482, 0.39162483, 0.18725257,\n",
       "       0.34596067, 0.51106597, 0.89120941, 0.77556394, 0.3181466 ,\n",
       "       0.9242169 , 0.47090989, 0.69375884, 0.10720731, 0.10454356,\n",
       "       0.20190745, 0.88444967, 0.67981146, 0.84923632, 0.64443627,\n",
       "       0.4065424 , 0.51657819, 0.59344352, 0.86211798, 0.43818617,\n",
       "       0.89224011, 0.61371694, 0.82935613, 0.49805605, 0.69251813,\n",
       "       0.33902537, 0.5228285 , 0.21622339, 0.1007036 , 0.03860413,\n",
       "       0.70194948, 0.45643062, 0.89773415, 0.8351832 , 0.38509513,\n",
       "       0.97367877, 0.59206201, 0.76588331, 0.40719436, 0.19616991,\n",
       "       0.17177702, 0.18120623, 0.60380552, 0.11263286, 0.01991075,\n",
       "       0.83299696, 0.09941112, 0.45058454, 0.48849857, 0.62027241,\n",
       "       0.50401448, 0.93734314, 0.75039659, 0.5744665 , 0.61727214,\n",
       "       0.50655149, 0.96476181, 0.22662606, 0.68902714, 0.55509668,\n",
       "       0.04201179, 0.29615   , 0.92716694, 0.78456486, 0.01283109,\n",
       "       0.29662633, 0.00980535, 0.82746694, 0.11036759, 0.05745518,\n",
       "       0.98188334, 0.44586988, 0.318393  , 0.04901339, 0.38959528,\n",
       "       0.36603906, 0.52348079, 0.00678547, 0.14796288, 0.20988653])"
      ]
     },
     "execution_count": 44,
     "metadata": {},
     "output_type": "execute_result"
    }
   ],
   "source": [
    "aleatorio"
   ]
  },
  {
   "cell_type": "code",
   "execution_count": 45,
   "id": "ed54d5d8",
   "metadata": {},
   "outputs": [
    {
     "data": {
      "image/png": "[encoded data removed]",
      "text/plain": [
       "<Figure size 640x480 with 1 Axes>"
      ]
     },
     "metadata": {},
     "output_type": "display_data"
    }
   ],
   "source": [
    "plt.hist(aleatorio,bins= 100)\n",
    "plt.show()"
   ]
  },
  {
   "cell_type": "markdown",
   "id": "93474f2c-03ed-4c5e-8eaf-58503cf1476e",
   "metadata": {},
   "source": [
    "__Ejercicio 14:__"
   ]
  },
  {
   "cell_type": "markdown",
   "id": "ce6d972e-370e-4c20-aa5f-da7842f765a9",
   "metadata": {},
   "source": [
    "Utilizar rg.normal para generar 100000 valores aleatorios que sigan una distribución normal"
   ]
  },
  {
   "cell_type": "code",
   "execution_count": 47,
   "id": "f6cd3814-1cf1-47cf-98be-2dac3bcd3573",
   "metadata": {},
   "outputs": [
    {
     "data": {
      "text/plain": [
       "array([ 8.18365894e+00,  2.80629790e+00,  1.47539203e+01,  1.70424680e+01,\n",
       "        7.61495182e+00,  1.25333201e+01,  7.75921859e+00,  2.61547532e+00,\n",
       "        7.57061569e+00,  1.88706127e+00,  6.95378853e+00,  1.08513254e+01,\n",
       "        1.34231238e+01,  1.62666781e+01,  8.11969930e+00,  1.09613998e+01,\n",
       "        1.18863769e+01,  1.25562720e+01, -4.48136670e+00,  5.87975299e+00,\n",
       "        1.37485325e+01,  4.16522898e+00,  1.09973621e+01,  1.39256093e+01,\n",
       "        2.69219197e-01,  8.79542382e+00,  1.09311440e+01,  9.79592676e+00,\n",
       "        2.08675602e+00,  1.14674904e+01,  6.92387288e+00,  1.38379962e+01,\n",
       "        1.18713910e+01,  6.96407310e+00,  1.05870213e+01,  6.24813438e+00,\n",
       "        6.19245817e+00,  1.78670569e+00,  8.48540774e+00,  1.36923703e+01,\n",
       "        1.02260178e+01,  9.52939835e+00,  6.47160879e+00,  6.98137946e+00,\n",
       "        1.33130970e+01,  2.11233055e+00,  1.98898409e+01,  9.24724889e+00,\n",
       "        2.04218071e+01,  1.54242155e+01,  7.45072364e+00,  1.32037847e+01,\n",
       "        1.08044974e+01,  1.18228390e+01,  1.34712851e+01,  6.75446494e+00,\n",
       "        6.38958451e+00,  7.38030510e+00,  2.62908363e+00,  8.14413075e+00,\n",
       "        1.05963809e+01,  1.06927744e+01,  1.03993313e+01,  7.44831972e+00,\n",
       "        1.33561270e+01, -8.50645309e-01,  7.41055839e+00,  7.74117511e+00,\n",
       "        1.38562002e+01,  1.26857508e+01,  1.33560414e+01,  9.41259390e+00,\n",
       "        1.40746325e+01,  4.29884746e+00,  9.65957266e+00, -1.27219253e+00,\n",
       "        1.78469190e+01,  1.72310682e+01,  6.27239420e+00,  5.01628101e+00,\n",
       "       -1.23722015e+00,  1.59040918e+00,  9.85648117e+00,  8.45958455e+00,\n",
       "        1.86819224e+00,  6.74752786e+00,  5.92253867e+00,  1.15965384e+01,\n",
       "        1.28016323e+01,  8.15795801e+00,  9.83406818e+00,  9.23431734e+00,\n",
       "       -1.18358075e+00,  1.01618007e+01,  8.94354622e+00,  1.30203945e+01,\n",
       "        8.97201296e-02,  1.30956771e+01,  6.08124224e+00,  1.06123856e+01,\n",
       "        1.53365916e+01,  1.90216904e+00,  2.72502051e+00,  1.42592453e+01,\n",
       "        3.58329162e+00,  4.49221288e+00,  1.23029187e+01,  8.27575132e+00,\n",
       "        1.31861925e+01,  1.07966918e+01,  9.16987720e+00,  1.42259351e+01,\n",
       "        2.02471376e+01,  8.80748765e+00,  1.67074760e+01,  1.49777880e+01,\n",
       "        9.86131407e+00,  1.15977261e+01,  4.62420336e+00,  6.23042455e+00,\n",
       "        1.07020848e+01,  9.07963148e+00,  1.58233563e+01,  2.81763520e+00,\n",
       "        7.85150490e+00,  6.12984675e+00,  8.55990597e+00,  1.51433855e+01,\n",
       "        3.28905205e+00,  1.35767550e+01,  6.37602700e+00,  7.70749049e+00,\n",
       "        1.43252851e+01,  7.91640318e+00,  1.26736458e+01,  9.90929073e+00,\n",
       "        8.47540872e+00,  7.54080742e+00,  6.86411793e-01,  5.61525680e+00,\n",
       "        1.01872495e+01,  1.03692838e+01,  1.90243278e+00,  1.43808047e+01,\n",
       "        1.22385792e+01,  2.86295021e+00,  4.16116382e+00,  1.19201840e+01,\n",
       "        5.84711375e-01,  5.67472333e+00,  9.12733417e+00,  8.76476733e+00,\n",
       "        9.11955556e+00,  1.13656102e+01,  5.42098646e+00,  6.98280046e+00,\n",
       "        1.96960944e+01,  2.41201439e+00,  7.18397035e+00,  9.99151277e+00,\n",
       "        6.20503951e+00,  1.55585204e+01,  9.81391172e+00,  1.32465901e+01,\n",
       "       -3.62628504e+00,  1.54059094e+01,  1.52143396e+01,  5.68636669e+00,\n",
       "        1.60108638e+01,  1.08085242e+01,  1.41280625e+01,  1.85600415e+01,\n",
       "        1.00012478e+01,  4.43453624e+00,  9.45273608e+00,  3.12904096e+00,\n",
       "        5.50542655e+00,  5.70065087e+00,  5.96963955e+00,  1.53700447e+01,\n",
       "        1.37250556e+01,  5.05888545e+00,  1.52147421e+01,  1.15558153e+00,\n",
       "        6.28070475e+00,  8.87737857e+00,  1.55305192e+01,  1.32294410e+01,\n",
       "        1.18746379e+01,  1.61267350e+01,  1.32002895e+01,  1.64591367e+01,\n",
       "        5.69353188e+00,  1.17755365e+00,  7.55185381e+00,  1.38021758e+01,\n",
       "        1.09530476e+01,  1.41059149e+01,  1.32149326e+01,  1.22437253e+01,\n",
       "        1.37612297e+01,  6.08564396e+00,  1.51399701e+01,  4.63715928e+00,\n",
       "        9.10063728e+00,  2.59212115e+00,  1.22052091e+01,  1.90816112e+00,\n",
       "        1.67112971e+01,  2.94767839e+00,  1.09748476e+01,  8.97782730e+00,\n",
       "        5.28899585e+00,  1.59321892e+01,  7.53457345e+00,  1.70189087e+01,\n",
       "        4.54529859e+00,  5.66530618e+00, -3.28195155e-01,  1.24502450e+01,\n",
       "        1.42724720e+01,  1.08089310e+01,  8.87559310e+00,  5.07582253e+00,\n",
       "        2.14523046e+01,  1.34073703e+01,  4.57719902e-01,  8.13773415e+00,\n",
       "       -3.36948157e+00,  1.75979845e+01,  1.95945640e+01,  1.70172273e+01,\n",
       "        9.42963561e+00,  6.73496631e+00,  2.67314946e+00,  1.23685288e+01,\n",
       "        5.97028422e+00,  7.82236931e+00,  6.50337386e+00,  8.16176846e+00,\n",
       "        1.42075444e+01,  1.81751253e+01,  1.04719251e+01,  9.81589946e+00,\n",
       "        4.14121131e+00,  3.56098249e+00,  4.39348450e+00,  1.41618104e+01,\n",
       "        1.09702373e+01,  1.45875345e+01,  1.18611088e+01,  7.72183406e+00,\n",
       "        3.50548041e+00,  7.89453845e+00,  2.57621443e+00,  1.97912623e+01,\n",
       "        1.11019652e+01,  7.90750501e+00,  1.97654706e+01,  7.82684510e+00,\n",
       "        1.25534781e+01,  8.93551823e+00,  1.15563621e+01,  7.91019863e+00,\n",
       "        1.22422125e+01,  1.69359319e+01,  3.41542276e+00, -1.41411925e+00,\n",
       "        1.65690742e+01,  1.06134913e+01,  1.41694034e+01,  8.31276451e+00,\n",
       "        1.75529795e+01,  1.89543452e+01,  3.87454066e+00,  1.31596847e+01,\n",
       "        6.68947043e+00,  1.63452340e+00,  8.22968330e+00,  1.26125182e+01,\n",
       "        2.82693333e+00,  3.23808630e+00,  1.59419051e+01,  9.86831901e+00,\n",
       "        1.17275536e+01,  3.91569698e+00,  6.37108983e+00,  1.02737750e+01,\n",
       "        1.05932000e+01,  1.03646483e+01,  1.76515975e+01,  1.04374783e+01,\n",
       "        1.84431789e+00,  5.14789294e+00,  9.25637627e+00,  1.59867497e+01,\n",
       "        6.04619251e+00,  7.52598291e+00,  9.35389724e+00,  5.90153363e+00,\n",
       "        5.29401736e+00,  8.25388680e+00,  1.44526052e+01,  1.18637983e+01,\n",
       "        7.95753549e+00,  1.14364911e+01,  2.90928534e+00,  1.44317285e+01,\n",
       "        1.31249537e+01,  1.08867061e+01,  1.13135353e+00,  1.96498892e+01,\n",
       "       -5.41436879e+00,  4.32080636e+00,  4.71629236e+00,  1.28785843e+01,\n",
       "        1.78853695e+00,  1.05534107e+01,  8.59080303e+00,  7.89062757e+00,\n",
       "        1.36879426e+01,  1.65634114e+01,  1.13734188e+01,  7.97810827e+00,\n",
       "       -2.15365774e+00,  1.68071594e+01,  7.85329721e+00,  9.06732484e-03,\n",
       "        1.01867251e+01,  1.67103732e+01,  8.67315655e+00,  3.48011866e+00,\n",
       "        2.08050012e+01,  1.25117355e+01,  1.11610563e+01,  1.45653804e+01,\n",
       "       -1.54703506e+00,  9.08357423e+00,  8.60892635e+00,  2.09181654e+01,\n",
       "        6.60289889e+00,  6.66589744e+00,  2.43019596e+00,  5.31158159e+00,\n",
       "        8.43737836e+00,  1.08120142e+01,  8.48179707e+00,  1.96429273e+01,\n",
       "        1.19867243e+01,  1.27303290e+01,  1.64278406e+01,  1.27121080e+01,\n",
       "        6.86183409e+00,  1.67810907e+00,  1.13252662e+01,  5.30676107e+00,\n",
       "        1.61883445e+01,  5.62502082e+00, -1.77409497e+00,  9.72678267e+00,\n",
       "        1.49532586e+01,  8.46670709e+00,  1.04420626e+01,  1.02993982e+01,\n",
       "        1.82501946e+01,  1.10441305e+01,  9.30480551e+00,  6.38662712e+00,\n",
       "        1.17950826e+00,  1.66498656e+01,  1.53331895e+01,  4.66641757e+00,\n",
       "        1.25925645e+01,  1.11590306e+01,  7.56650844e+00,  7.90882294e+00,\n",
       "        1.33223057e+01,  3.37723407e+00,  6.85004091e+00,  9.10145182e+00,\n",
       "        9.45604784e+00,  8.42404796e+00,  1.05989681e+01,  1.21873208e+01,\n",
       "        4.95656764e+00,  9.92409260e+00,  6.81392087e+00,  1.71469814e+01,\n",
       "        2.35606523e+00,  8.30229757e+00,  1.30435084e+01,  8.05095239e+00,\n",
       "        7.80875937e+00,  6.76880396e+00,  1.10959506e+01,  3.60476732e+00,\n",
       "        9.10271396e+00,  9.00696413e+00,  2.10080157e+00,  1.09236176e+01,\n",
       "        7.18067785e+00,  1.11197774e+01,  1.39267716e+01,  1.13129500e+01,\n",
       "        3.58690889e+00,  1.12195618e+01,  1.48200813e+00,  5.71836917e+00,\n",
       "        1.80784625e+01,  9.64506849e+00,  1.75248061e+01,  8.71641085e+00,\n",
       "        9.68988179e+00,  3.99174779e+00,  1.44326789e+01,  8.65525959e+00,\n",
       "        1.28409776e+01,  1.18909122e+01,  1.24034704e+01,  1.13619141e+01,\n",
       "        9.52667203e+00,  9.72753379e+00,  6.23617276e+00, -1.01497151e+00,\n",
       "        1.22427076e+01,  2.03234203e+01,  1.52663542e+01,  2.16431048e+01,\n",
       "        1.22885085e+01,  4.97956393e+00,  4.87133071e+00,  1.36558410e+01,\n",
       "        1.16246655e+01,  9.07005807e+00,  1.36735775e+01,  5.49679612e+00,\n",
       "        1.25847856e+01,  8.52204553e+00,  1.07511618e+01,  1.59714610e+01,\n",
       "        9.26879918e+00,  1.69427447e+01,  1.67101369e+01,  6.15212456e+00,\n",
       "        2.17649076e+01,  3.73661707e+00,  9.50986616e+00,  1.37512189e+01,\n",
       "       -1.52008999e+00,  1.52603510e+01,  1.57987281e+01,  9.47117024e+00,\n",
       "        1.14236047e+01,  1.11390721e+01,  8.99270436e+00,  1.54806687e+01,\n",
       "        8.16656454e+00,  9.83185864e+00,  1.19072173e+01,  1.43630210e+01,\n",
       "        1.56428626e+01,  2.56413543e+00, -2.43860034e-01,  9.35639012e+00,\n",
       "        9.77782577e+00,  4.56584878e+00,  1.15980956e+01,  1.32391359e+01,\n",
       "        1.19853304e+01,  1.84107151e+01,  4.79471022e+00,  1.01614229e+01,\n",
       "        1.98245879e+01,  1.34859706e+01,  4.37509654e+00,  1.10641470e+01,\n",
       "        1.60186653e+01,  2.05994050e+01,  1.33961219e+01,  1.59539891e+01,\n",
       "        4.39758438e+00,  8.76720913e+00,  1.60845739e+01,  5.15482178e+00,\n",
       "        9.70627669e+00,  5.42846719e-01,  1.75200248e+01,  9.34580492e+00,\n",
       "        1.28814500e+01,  2.38219588e+00,  3.34420219e+00,  1.92132172e+01,\n",
       "        8.26511515e+00,  7.24177148e+00,  1.25959011e+01,  1.28126388e+01,\n",
       "        4.84746486e-02,  5.05129467e+00,  1.02573010e+01,  1.00266610e+01,\n",
       "        1.17825114e+01,  7.82176059e+00,  8.57843730e+00,  1.10905056e+01,\n",
       "        6.50443765e+00,  5.76379338e+00,  7.21570528e+00,  1.00275994e+01,\n",
       "        9.23461382e+00,  7.56656580e+00,  8.71711028e+00,  9.73657315e+00,\n",
       "        1.16086046e+01,  1.18186445e+01,  3.45872073e+00,  1.49091986e+01,\n",
       "        1.86862865e+00,  1.27391376e+01,  6.39262141e+00,  1.29003489e+01,\n",
       "        1.53265758e+01,  4.40469179e-01,  1.29987442e+01,  1.13340187e+01,\n",
       "        7.60094863e+00,  1.18872756e+01,  7.43991524e+00,  1.05391574e+01,\n",
       "        4.62953568e+00,  1.38965647e+01,  1.29103491e+01,  1.36823349e+01,\n",
       "        6.62604682e+00,  1.92106632e+01,  1.99016681e+01,  9.48767904e+00,\n",
       "        7.82485626e+00,  7.86924131e+00,  1.33924209e+01,  1.51134760e+01,\n",
       "        6.16063036e+00, -2.99636794e-01,  1.22172558e+01,  9.71738584e+00,\n",
       "        1.07878284e+01,  1.25278634e+01,  4.31303930e+00,  1.02394191e+01,\n",
       "        8.40762460e+00,  1.18015917e+01,  1.60510863e+01,  9.90027039e+00,\n",
       "        5.56535357e+00,  1.61603413e+01,  1.34474432e+01,  8.83996469e+00,\n",
       "        7.68962605e-01,  5.43360275e+00,  1.05635458e+01,  1.25928568e+01,\n",
       "        7.16472264e+00,  1.20145110e+01,  6.61420281e+00,  7.67437062e+00,\n",
       "        1.24809028e+01,  8.43056637e+00,  1.04934709e+01,  1.41915176e+01,\n",
       "        1.54676654e+01,  6.80984644e+00,  8.49910671e+00,  3.10016108e+00,\n",
       "        3.19680025e+00,  1.12561931e+01,  7.13234391e+00,  4.24092837e-01,\n",
       "        1.24047444e+01,  5.51937712e+00,  8.16425630e+00,  1.18300360e+01,\n",
       "        1.17296227e+01,  9.44280892e+00, -2.77267913e-01,  1.25684442e+01,\n",
       "        6.74085878e+00,  2.61403238e+00, -1.35621379e+00,  1.63543797e+01,\n",
       "        1.04400330e+01,  1.02907922e+01,  1.27876835e+01,  9.33846888e+00,\n",
       "        2.31927034e+00,  1.31433950e+01,  1.47584209e+01,  1.23313729e+01,\n",
       "        1.74518177e+01,  1.92992893e+01,  5.74735207e+00,  7.52297422e+00,\n",
       "        1.41953174e+01,  1.06380242e+01,  1.08131049e+01,  1.44412702e+01,\n",
       "        1.34696641e+01,  7.54846954e+00,  1.03890867e+01,  6.20043137e+00,\n",
       "        8.79019101e+00,  4.20296117e+00, -6.63748440e-02,  7.28518603e+00,\n",
       "        6.81555108e+00,  1.42551658e+01,  1.76622276e+01,  9.91527150e+00,\n",
       "        1.21545758e+01,  6.61511222e+00,  5.16413616e+00,  8.37886027e+00,\n",
       "        8.37953706e+00,  1.12930230e+01,  1.03826388e+01,  1.81167628e+01,\n",
       "        8.74322092e+00,  1.57436586e+00,  1.04365635e+01,  6.53694449e+00,\n",
       "        1.08611066e+01,  1.54679814e+01,  6.63255357e+00,  9.46801605e+00,\n",
       "        1.24352126e+01,  5.12277840e+00,  1.09343416e+01,  1.25843309e+01,\n",
       "        1.39241297e+01,  1.53504144e+01,  1.26411549e+01,  1.18293549e+01,\n",
       "        2.92181543e+00, -3.51400357e+00,  5.06025383e+00,  1.69955959e+01,\n",
       "        1.04734249e+01, -1.37058253e+00,  7.78882734e+00,  1.17044289e+01,\n",
       "        6.52026228e-01,  1.27684045e+01,  4.17873133e+00,  1.51156709e+01,\n",
       "        1.00666235e+01,  2.53895903e+01,  3.27140846e+00,  1.13410511e+01,\n",
       "        2.56280526e+00,  1.56778228e+01,  1.05665010e+01,  1.45496161e+01,\n",
       "        1.04645858e+01,  4.10359433e+00,  6.70314450e+00,  3.78180647e+00,\n",
       "        4.73834801e+00,  1.06871949e+01,  1.53109762e+01,  1.42528369e+01,\n",
       "        1.25345010e+01,  7.15239534e+00,  1.25162585e+01,  5.70206368e+00,\n",
       "        1.09990022e+01,  1.41520041e+01,  9.03986427e+00,  7.62856276e+00,\n",
       "        7.81408787e+00,  1.30331146e+01,  8.42623634e+00,  2.88088694e+00,\n",
       "        7.90622136e+00,  4.66469598e+00,  1.74529747e+01,  1.00336523e+01,\n",
       "        2.63196689e+00,  1.12964046e+01,  1.35588050e+01,  1.18635673e+01,\n",
       "        8.17750718e+00,  1.07158582e+01,  1.13636304e+01,  1.49735558e+01,\n",
       "        1.17874501e+01,  2.12750865e+01,  8.90492699e+00,  1.75933541e+01,\n",
       "        1.00668840e+01,  1.48397697e+00,  4.13236424e+00,  9.19279547e-01,\n",
       "        1.41812772e+00,  1.59672505e+01,  6.70108506e+00,  1.29811557e+01,\n",
       "        5.54255739e+00,  9.91961364e+00,  4.73592671e+00,  1.42924784e+01,\n",
       "        8.71749722e+00,  7.73121274e+00,  9.16953115e+00,  2.08160370e+01,\n",
       "        1.22124114e+01,  1.41439102e+01,  3.79868164e+00,  6.74909101e+00,\n",
       "        1.14518941e+01,  7.34752051e-01,  1.66332271e+01,  1.13303710e+01,\n",
       "        9.89411091e+00,  8.99482553e+00,  8.81356794e+00,  7.46688106e+00,\n",
       "        1.69113179e+01,  1.34027008e+01,  1.61699493e+01,  8.46890526e+00,\n",
       "        5.60134239e+00,  1.67382153e+01,  3.92146832e+00,  6.94593233e+00,\n",
       "        1.35205456e+01,  1.53779578e+01,  3.43167135e+00,  8.61399293e+00,\n",
       "        1.01140188e+01,  9.31312715e+00,  5.69849951e+00,  1.33389795e+01,\n",
       "        7.36196044e+00,  8.77869464e+00, -1.22253819e+00,  9.42773883e+00,\n",
       "        3.14043227e-01,  1.34881879e+01,  1.24257752e+01,  7.44183599e+00,\n",
       "        1.07776063e+01,  1.05130476e+01,  9.23837990e+00,  1.17723043e+01,\n",
       "        9.35687225e+00,  7.60123570e+00,  6.02138398e+00,  1.83029374e+01,\n",
       "        1.09352299e+01,  9.87005027e+00,  1.35626093e+01,  8.03787565e+00,\n",
       "        8.06937548e+00,  1.32801714e+01,  1.50826522e+01,  1.33074494e+01,\n",
       "        2.60379908e+00,  1.02565383e+01,  9.85418839e+00,  1.22257248e+01,\n",
       "        5.57318668e+00,  4.75672148e+00,  9.38789654e+00,  5.55364838e+00,\n",
       "        4.67734350e+00,  9.62022624e+00,  1.45578686e+01,  1.06360338e+01,\n",
       "        1.54989119e+01,  5.02161096e+00,  1.34667044e+01,  9.90220289e+00,\n",
       "        5.60550377e+00,  7.88161083e+00,  5.70244422e+00,  8.88414032e+00,\n",
       "        6.25323822e+00,  1.61858459e+01,  8.17694498e+00,  2.91591298e+00,\n",
       "        8.98484361e+00,  1.18607616e+01,  8.38024454e+00,  1.42066393e+01,\n",
       "        5.44970344e+00,  5.72592400e+00,  1.79791962e+01,  9.97270549e+00,\n",
       "        1.26276780e+01,  1.23989466e+01,  1.28010214e+01,  1.01655842e+01,\n",
       "        9.01268228e+00,  1.53015480e+01,  7.53334798e+00,  1.05262506e+01,\n",
       "        1.33372270e+01,  8.00796503e+00,  2.39961635e+00,  1.22241583e+01,\n",
       "        1.52816604e+01,  1.12179116e+01,  1.71052840e+00,  1.31194195e+01,\n",
       "        1.96505799e+01,  2.36255886e+00, -3.36415153e+00,  8.76726289e+00,\n",
       "        1.03505123e+01,  1.38178180e+01,  1.40010497e+01,  1.04416484e+01,\n",
       "        1.26439272e+01,  1.16352259e+01,  1.05983026e+01,  9.71222049e+00,\n",
       "        9.24172539e+00,  1.34410722e+01,  1.19817142e+01,  7.90211654e+00,\n",
       "        1.53536563e+01,  6.43782751e+00,  8.86560277e+00,  1.06572731e+01,\n",
       "        6.91974158e-01,  8.15108623e+00,  1.41806020e+01,  1.39798596e+01,\n",
       "        4.16285460e+00,  5.94570452e+00,  4.74042344e+00,  8.84760187e+00,\n",
       "        9.68648595e+00,  2.21388468e+00,  1.15521642e+01,  1.03493845e+01,\n",
       "        9.64290248e+00,  6.71742932e+00,  9.10303239e+00,  1.31797709e+00,\n",
       "        1.11297733e+01,  1.10311847e+01,  9.48481794e+00,  4.24402295e+00,\n",
       "        1.62132867e+01,  1.55138024e+01,  8.65554729e-01,  1.20193688e+01,\n",
       "        1.07454935e+01, -2.51821831e+00,  1.25258732e+01,  1.31736205e+01,\n",
       "        1.35158832e+01,  1.07890437e+01,  6.82685709e+00,  7.50910390e+00,\n",
       "        1.25005615e+01,  1.57150924e+01,  7.62564280e+00,  8.65286705e+00,\n",
       "        1.34066303e+01, -4.74063665e-01,  1.21910837e+01,  8.89030316e+00,\n",
       "       -6.65813795e-01,  1.37691529e+01,  5.56508092e+00,  1.38741445e+01,\n",
       "        1.67219814e+01,  3.96185820e+00,  4.19069294e+00,  9.96909749e+00,\n",
       "        1.50935485e+00,  1.35807878e+01,  1.09427035e+01,  1.48128118e+01,\n",
       "        1.12446930e+00,  1.10257200e+01,  1.23032954e+01,  1.29942351e+00,\n",
       "        1.43992282e+01,  3.35017061e+00,  1.09453986e+01,  3.65899976e+00,\n",
       "        1.39072110e+01,  1.83788752e+01,  1.03829840e+01,  1.02502472e+01,\n",
       "        1.64383172e+01,  7.93718466e+00,  1.03696901e+01,  1.41289051e+01,\n",
       "        1.22115050e+01,  1.78347362e+01,  1.60243909e+01,  1.95846213e+01,\n",
       "        1.01533000e+01,  1.57278788e+01,  6.30767614e+00,  1.47331764e+01,\n",
       "        1.89008282e+01,  2.18286256e+01,  4.28135297e+00,  9.56295013e+00,\n",
       "        1.38923989e+01,  6.14098590e+00,  1.31120215e+01,  1.30771117e+01,\n",
       "        8.07650066e+00,  7.83237584e+00,  5.95227792e+00,  1.19491332e+01,\n",
       "        1.66487361e+01,  1.18818300e+01,  2.40134278e+01,  3.22987289e+00,\n",
       "        7.63330766e+00,  1.37547621e+01,  4.88525687e+00,  1.21704874e+01,\n",
       "        1.44523941e+01,  1.13438031e+01,  9.37035939e+00,  1.50703434e+01,\n",
       "        1.25131159e+01,  1.40158154e+01,  1.31439410e+01,  7.18302050e+00,\n",
       "        5.08045953e+00,  8.61004560e+00,  1.13389888e+01,  9.53201555e+00,\n",
       "        1.50966204e+01,  1.17079988e+01,  1.52064137e+01,  1.10263577e+01,\n",
       "        6.92064530e+00,  1.45770956e+01,  1.28802332e+01,  6.30470145e+00,\n",
       "        8.41458826e+00,  2.41163141e+01, -6.19062294e+00,  1.59411223e+01,\n",
       "        1.06724856e+01,  1.00386698e+01,  8.90076486e+00,  7.83705660e+00,\n",
       "        2.19711410e+01,  8.14986412e+00,  8.81970473e+00,  1.42501238e+01,\n",
       "        1.21820249e+01,  9.40316276e+00,  8.86875649e+00,  3.70698768e+00,\n",
       "        1.55893334e+01,  5.03528184e+00, -1.72018782e+00,  1.53997362e+01,\n",
       "        1.39238746e+01,  1.18943227e+01,  7.63239582e+00,  1.60748910e+01,\n",
       "        4.83795877e+00, -6.44360066e-01,  1.09686528e+01,  1.41479554e+01,\n",
       "        1.32294456e+01,  2.04332995e+01,  1.42718539e+01,  9.01788916e+00,\n",
       "        9.18650388e+00,  1.45541181e+01,  9.82889012e+00,  9.46676585e+00,\n",
       "        1.38518293e+00,  8.58563708e+00,  3.68943133e+00,  1.12816710e+01,\n",
       "        1.07819246e+01,  1.36489995e+01,  1.89919378e+01,  9.21959787e+00,\n",
       "        1.72790358e+01,  4.49228220e+00,  1.08892812e+01,  1.48504255e+01,\n",
       "        1.98298729e+01,  4.62520162e+00,  8.83003480e+00,  1.08086729e+01])"
      ]
     },
     "execution_count": 47,
     "metadata": {},
     "output_type": "execute_result"
    }
   ],
   "source": [
    "normal = rg.normal(10,5,1000)\n",
    "normal"
   ]
  },
  {
   "cell_type": "code",
   "execution_count": 48,
   "id": "6aefe781-fce0-475e-b583-09642e942696",
   "metadata": {},
   "outputs": [
    {
     "data": {
      "text/plain": [
       "<function matplotlib.pyplot.show(close=None, block=None)>"
      ]
     },
     "execution_count": 48,
     "metadata": {},
     "output_type": "execute_result"
    },
    {
     "data": {
      "image/png": "[encoded data removed]",
      "text/plain": [
       "<Figure size 640x480 with 1 Axes>"
      ]
     },
     "metadata": {},
     "output_type": "display_data"
    }
   ],
   "source": [
    "plt.hist(normal,bins=1000)\n",
    "plt.show"
   ]
  },
  {
   "cell_type": "markdown",
   "id": "1159dfcb-d59b-48f4-89b6-a1b5778595a0",
   "metadata": {},
   "source": [
    "__Ejercicio 15:__"
   ]
  },
  {
   "cell_type": "markdown",
   "id": "55d97f65-d5b4-4a8d-90c9-d6ef6759c209",
   "metadata": {},
   "source": [
    "Utilizar rg.integers para generar 2000 números aleatorios enteros entre el 0 y el 19"
   ]
  },
  {
   "cell_type": "code",
   "execution_count": 50,
   "id": "545685a7-641e-412c-a0e4-568654ce2220",
   "metadata": {},
   "outputs": [
    {
     "data": {
      "text/plain": [
       "array([12, 19,  1,  2,  4, 14,  0, 15, 18,  2,  8, 19, 10,  5, 10,  1,  2,\n",
       "       18,  0, 19,  3, 10,  7,  4, 13,  0, 14, 18,  0,  9,  7, 19,  2, 11,\n",
       "       15, 15,  2,  8, 18,  7,  7, 11,  1,  0, 19,  8,  6, 12,  4,  4, 19,\n",
       "        3, 16,  6, 14,  5,  2, 14,  0,  2, 18, 17, 18,  2,  2,  4, 14, 10,\n",
       "       14,  6, 10,  5, 11,  0, 19,  1, 18, 16, 14, 19,  9, 18, 13, 10,  8,\n",
       "        3,  9,  9,  5, 12, 17,  9, 18, 13, 17,  9,  1, 15, 17, 17,  6, 14,\n",
       "        9, 13,  0, 19, 13, 13, 11,  1, 16, 19,  5, 18, 11,  3, 17,  3,  0,\n",
       "       18,  9,  9, 13, 16,  2, 15,  9, 17, 13,  7, 13, 16, 13, 11, 10,  7,\n",
       "        6,  8, 13, 18, 11,  6,  6, 17, 10, 14,  7,  6,  0,  1,  5, 16,  6,\n",
       "        1,  7, 18, 17,  5, 18, 18, 11,  0, 13,  1,  0, 17, 10,  3, 11,  3,\n",
       "       17,  9,  8, 10,  1,  3,  3, 17,  2,  1, 19,  2, 14, 19,  0,  9, 10,\n",
       "        1,  2,  1,  7,  6, 19,  7,  2, 17, 13,  7, 17,  7], dtype=int64)"
      ]
     },
     "execution_count": 50,
     "metadata": {},
     "output_type": "execute_result"
    }
   ],
   "source": [
    "enteros=rg.integers(20,size=200)\n",
    "enteros"
   ]
  },
  {
   "cell_type": "code",
   "execution_count": 51,
   "id": "87b4f720-2e82-41ae-85e6-2ca3e70eeecd",
   "metadata": {},
   "outputs": [
    {
     "data": {
      "text/plain": [
       "<function matplotlib.pyplot.show(close=None, block=None)>"
      ]
     },
     "execution_count": 51,
     "metadata": {},
     "output_type": "execute_result"
    },
    {
     "data": {
      "image/png": "[encoded data removed]",
      "text/plain": [
       "<Figure size 640x480 with 1 Axes>"
      ]
     },
     "metadata": {},
     "output_type": "display_data"
    }
   ],
   "source": [
    "plt.hist(enteros)\n",
    "plt.show"
   ]
  },
  {
   "cell_type": "code",
   "execution_count": null,
   "id": "8fd03ef3-875a-44ba-914c-26e57cd4dcba",
   "metadata": {},
   "outputs": [],
   "source": [
    "#np.unique(enteros, return_counts=True) Comprobar que los valores son muy similares"
   ]
  },
  {
   "cell_type": "markdown",
   "id": "3324d3f5-a77a-42c0-ba7e-25313e43bb58",
   "metadata": {},
   "source": [
    "__Ejercicio 16:__"
   ]
  },
  {
   "cell_type": "markdown",
   "id": "d907b4dc-301e-4b21-bde5-4dd96fdcd076",
   "metadata": {},
   "source": [
    "Utilizar rg.choice para elegir 10 números aleatorios SIN REPETIR entre el 0 y el 25"
   ]
  },
  {
   "cell_type": "code",
   "execution_count": 52,
   "id": "7ec02ffd-eef3-4e3e-b2e9-59450b94d3bd",
   "metadata": {},
   "outputs": [
    {
     "data": {
      "text/plain": [
       "array([ 0, 19, 24, 14,  6, 21, 22, 17,  9,  8], dtype=int64)"
      ]
     },
     "execution_count": 52,
     "metadata": {},
     "output_type": "execute_result"
    }
   ],
   "source": [
    "rg.choice(26,size= 10,replace=False)"
   ]
  },
  {
   "cell_type": "markdown",
   "id": "385775b3-86a0-4715-908b-dfa75dca95f2",
   "metadata": {},
   "source": [
    "__Ejercicio 17:__"
   ]
  },
  {
   "cell_type": "code",
   "execution_count": 53,
   "id": "76b0c5a0-5b28-48fe-9485-baad8cf663c6",
   "metadata": {},
   "outputs": [
    {
     "data": {
      "text/plain": [
       "array([17, 16, 13, 10, 11,  2,  5, 14], dtype=int64)"
      ]
     },
     "execution_count": 53,
     "metadata": {},
     "output_type": "execute_result"
    }
   ],
   "source": [
    "estadisticos = rg.integers(20,size=8)\n",
    "estadisticos"
   ]
  },
  {
   "cell_type": "markdown",
   "id": "012b5e04-220e-433c-b0ec-b21aa9d326cf",
   "metadata": {},
   "source": [
    "Utilizar la función min() para obtener el valor mínimo en el ndarray \"estadisticos\""
   ]
  },
  {
   "cell_type": "code",
   "execution_count": 55,
   "id": "e4a38410-43ac-4c7c-92bd-c3d65c0b5432",
   "metadata": {},
   "outputs": [
    {
     "data": {
      "text/plain": [
       "2"
      ]
     },
     "execution_count": 55,
     "metadata": {},
     "output_type": "execute_result"
    }
   ],
   "source": [
    "estadisticos.min()"
   ]
  },
  {
   "cell_type": "markdown",
   "id": "117dddae-3654-43cf-9e8d-54e783a674cb",
   "metadata": {},
   "source": [
    "Utilizar la función max() para obtener el valor máximo en el ndarray \"estadisticos\""
   ]
  },
  {
   "cell_type": "code",
   "execution_count": 56,
   "id": "abaf6bb5-c24d-4607-b7e2-f6fafde47d97",
   "metadata": {},
   "outputs": [
    {
     "data": {
      "text/plain": [
       "17"
      ]
     },
     "execution_count": 56,
     "metadata": {},
     "output_type": "execute_result"
    }
   ],
   "source": [
    "estadisticos.max()"
   ]
  },
  {
   "cell_type": "markdown",
   "id": "fd88688f-2bc0-4c5d-bcd2-af6fe9e99411",
   "metadata": {},
   "source": [
    "Utilizar la función mean() para obtener el valor promedio en el ndarray \"estadisticos\""
   ]
  },
  {
   "cell_type": "code",
   "execution_count": 57,
   "id": "3b38b3b3-2245-4731-af11-7e19474af1cc",
   "metadata": {},
   "outputs": [
    {
     "data": {
      "text/plain": [
       "11.0"
      ]
     },
     "execution_count": 57,
     "metadata": {},
     "output_type": "execute_result"
    }
   ],
   "source": [
    "estadisticos.mean()"
   ]
  },
  {
   "cell_type": "markdown",
   "id": "e0ef2fef-cad0-4579-a8ce-b298b42fb330",
   "metadata": {},
   "source": [
    "Utilizar la función std() para obtener el valor de la desviación estandar en el ndarray \"estadisticos\""
   ]
  },
  {
   "cell_type": "code",
   "execution_count": 58,
   "id": "77c908c4-d007-4baa-801a-314aab7b2369",
   "metadata": {},
   "outputs": [
    {
     "data": {
      "text/plain": [
       "4.898979485566356"
      ]
     },
     "execution_count": 58,
     "metadata": {},
     "output_type": "execute_result"
    }
   ],
   "source": [
    "estadisticos.std()"
   ]
  },
  {
   "cell_type": "markdown",
   "id": "979aded7-3aa6-4248-b2f6-ea271c5f6e79",
   "metadata": {},
   "source": [
    "Utilizar la función sum() para obtener el valor al sumar todos los números en el ndarray \"estadisticos\""
   ]
  },
  {
   "cell_type": "code",
   "execution_count": 59,
   "id": "ee48bd78-1b9b-4c32-b270-62f6f20a1c63",
   "metadata": {},
   "outputs": [
    {
     "data": {
      "text/plain": [
       "88"
      ]
     },
     "execution_count": 59,
     "metadata": {},
     "output_type": "execute_result"
    }
   ],
   "source": [
    "estadisticos.sum()"
   ]
  },
  {
   "cell_type": "markdown",
   "id": "b8a7f523-541e-4ffc-9090-f6a18f852ef2",
   "metadata": {},
   "source": [
    "__Ejercicio 18:__"
   ]
  },
  {
   "cell_type": "code",
   "execution_count": 60,
   "id": "acb73618-214c-4fcb-b022-1a97e618f4b1",
   "metadata": {},
   "outputs": [
    {
     "data": {
      "text/plain": [
       "array([[11,  0, 19, 12],\n",
       "       [14,  4,  7,  9],\n",
       "       [13, 18,  5,  4],\n",
       "       [ 5,  6, 13, 10],\n",
       "       [17,  1, 14,  8]], dtype=int64)"
      ]
     },
     "execution_count": 60,
     "metadata": {},
     "output_type": "execute_result"
    }
   ],
   "source": [
    "estadisticos_2d = rg.integers(20,size=(5,4))\n",
    "estadisticos_2d"
   ]
  },
  {
   "cell_type": "markdown",
   "id": "88696800-dfdf-4b5f-bf3b-8412b1a84e19",
   "metadata": {},
   "source": [
    "Utilizar la función min() para obtener el valor mínimo de cada columna en el ndarray \"estadisticos_2d\""
   ]
  },
  {
   "cell_type": "code",
   "execution_count": 61,
   "id": "fdc54d32-3db7-4e6c-a9ef-b87680bcc1fd",
   "metadata": {},
   "outputs": [
    {
     "data": {
      "text/plain": [
       "array([5, 0, 5, 4], dtype=int64)"
      ]
     },
     "execution_count": 61,
     "metadata": {},
     "output_type": "execute_result"
    }
   ],
   "source": [
    "estadisticos_2d.min(axis = 0)"
   ]
  },
  {
   "cell_type": "markdown",
   "id": "7e18ef29-8d28-41ee-b42a-c5788b7179a5",
   "metadata": {},
   "source": [
    "Utilizar la función max() para obtener el valor mínimo de cada fila en el ndarray \"estadisticos_2d\""
   ]
  },
  {
   "cell_type": "code",
   "execution_count": 62,
   "id": "86f54bac-4399-46d6-8a11-866cab776aa0",
   "metadata": {},
   "outputs": [
    {
     "data": {
      "text/plain": [
       "array([19, 14, 18, 13, 17], dtype=int64)"
      ]
     },
     "execution_count": 62,
     "metadata": {},
     "output_type": "execute_result"
    }
   ],
   "source": [
    "estadisticos_2d.max(axis = 1)"
   ]
  },
  {
   "cell_type": "markdown",
   "id": "e1fa802b-7974-471d-a02a-7e17a6ab7ae4",
   "metadata": {},
   "source": [
    "__Ejercicio 19:__"
   ]
  },
  {
   "cell_type": "code",
   "execution_count": 63,
   "id": "ae7128dd-fdb9-49e7-a68f-b89aa5e7eb6d",
   "metadata": {},
   "outputs": [
    {
     "data": {
      "text/plain": [
       "array([[11,  0, 19, 12],\n",
       "       [14,  4,  7,  9],\n",
       "       [13, 18,  5,  4],\n",
       "       [ 5,  6, 13, 10],\n",
       "       [17,  1, 14,  8]], dtype=int64)"
      ]
     },
     "execution_count": 63,
     "metadata": {},
     "output_type": "execute_result"
    }
   ],
   "source": [
    "estadisticos_2d"
   ]
  },
  {
   "cell_type": "markdown",
   "id": "28e17497-4e11-4fad-9cf5-727078caf77e",
   "metadata": {},
   "source": [
    "Obtener los valores menores a 12 en el ndarray \"estadisticos_2d\""
   ]
  },
  {
   "cell_type": "code",
   "execution_count": 64,
   "id": "65137100-5cbc-4047-b8c7-bc9d20e0e3ca",
   "metadata": {},
   "outputs": [
    {
     "data": {
      "text/plain": [
       "array([[ True,  True, False, False],\n",
       "       [False,  True,  True,  True],\n",
       "       [False, False,  True,  True],\n",
       "       [ True,  True, False,  True],\n",
       "       [False,  True, False,  True]])"
      ]
     },
     "execution_count": 64,
     "metadata": {},
     "output_type": "execute_result"
    }
   ],
   "source": [
    "estadisticos_2d<12"
   ]
  },
  {
   "cell_type": "code",
   "execution_count": 65,
   "id": "5ff3cdc3-7b84-424f-8b1f-b7d9a8851d03",
   "metadata": {},
   "outputs": [
    {
     "data": {
      "text/plain": [
       "array([11,  0,  4,  7,  9,  5,  4,  5,  6, 10,  1,  8], dtype=int64)"
      ]
     },
     "execution_count": 65,
     "metadata": {},
     "output_type": "execute_result"
    }
   ],
   "source": [
    "estadisticos_2d[estadisticos_2d<12]"
   ]
  },
  {
   "cell_type": "markdown",
   "id": "a6008ae4-8a10-4ff4-92f1-1f82b82c8b5a",
   "metadata": {},
   "source": [
    "__Ejercicio 20:__"
   ]
  },
  {
   "cell_type": "code",
   "execution_count": null,
   "id": "fe091b2a",
   "metadata": {},
   "outputs": [],
   "source": []
  },
  {
   "cell_type": "code",
   "execution_count": 66,
   "id": "25fdd4ed-5a3f-4a3b-8a08-486776700b92",
   "metadata": {},
   "outputs": [
    {
     "name": "stdout",
     "output_type": "stream",
     "text": [
      "[[ 6  1  4]\n",
      " [ 3 15  9]\n",
      " [ 4  6 14]] \n",
      "\n",
      " [[ 7 15 14]\n",
      " [ 0  3 19]\n",
      " [17 19  0]]\n"
     ]
    }
   ],
   "source": [
    "np1 = rg.integers(20,size=(3,3))\n",
    "np2 = rg.integers(20,size=(3,3))\n",
    "print(np1,\"\\n\\n\",np2)"
   ]
  },
  {
   "cell_type": "markdown",
   "id": "ad017f47-c974-4168-9c79-bd407cec5ef8",
   "metadata": {},
   "source": [
    "Utilizar np.vstack para unir los ndarray \"np1\" y \"np2\" verticalmente"
   ]
  },
  {
   "cell_type": "code",
   "execution_count": 67,
   "id": "c8b9b36b-7bfb-4027-91ea-626227546983",
   "metadata": {},
   "outputs": [
    {
     "data": {
      "text/plain": [
       "array([[ 6,  1,  4],\n",
       "       [ 3, 15,  9],\n",
       "       [ 4,  6, 14],\n",
       "       [ 7, 15, 14],\n",
       "       [ 0,  3, 19],\n",
       "       [17, 19,  0]], dtype=int64)"
      ]
     },
     "execution_count": 67,
     "metadata": {},
     "output_type": "execute_result"
    }
   ],
   "source": [
    "np.vstack((np1,np2))"
   ]
  },
  {
   "cell_type": "markdown",
   "id": "66f8921c-45d8-4c7d-9430-999d5fa3c335",
   "metadata": {},
   "source": [
    "Utilizar np.vstack para unir los ndarray \"np1\" y \"np2\" horizontalmente"
   ]
  },
  {
   "cell_type": "code",
   "execution_count": 68,
   "id": "44fbc502-904a-461e-a74f-23d10bc37a12",
   "metadata": {},
   "outputs": [
    {
     "data": {
      "text/plain": [
       "array([[ 6,  1,  4,  7, 15, 14],\n",
       "       [ 3, 15,  9,  0,  3, 19],\n",
       "       [ 4,  6, 14, 17, 19,  0]], dtype=int64)"
      ]
     },
     "execution_count": 68,
     "metadata": {},
     "output_type": "execute_result"
    }
   ],
   "source": [
    "np.hstack((np1,np2))"
   ]
  },
  {
   "cell_type": "markdown",
   "id": "a7eafbf0-968b-41cb-b966-c67bb42bf049",
   "metadata": {},
   "source": [
    "__Ejercicio 21:__"
   ]
  },
  {
   "cell_type": "code",
   "execution_count": 69,
   "id": "a929ea5f-6635-48f3-a32a-d6f5bea564f7",
   "metadata": {},
   "outputs": [
    {
     "data": {
      "text/plain": [
       "array([ 4,  3,  7, 16, 18, 15,  5, 18,  8,  9], dtype=int64)"
      ]
     },
     "execution_count": 69,
     "metadata": {},
     "output_type": "execute_result"
    }
   ],
   "source": [
    "enteros = rg.integers(20,size=(10))\n",
    "enteros"
   ]
  },
  {
   "cell_type": "markdown",
   "id": "f07668c4-1d9a-46e9-8e6d-a80aaeb3961c",
   "metadata": {},
   "source": [
    "Seleccionar los primeros 6 valores del ndarray \"enteros\""
   ]
  },
  {
   "cell_type": "code",
   "execution_count": 70,
   "id": "62f98dce-8e1e-4749-86b4-e1bed5f44081",
   "metadata": {},
   "outputs": [
    {
     "data": {
      "text/plain": [
       "array([ 4,  3,  7, 16, 18, 15], dtype=int64)"
      ]
     },
     "execution_count": 70,
     "metadata": {},
     "output_type": "execute_result"
    }
   ],
   "source": [
    "enteros[0:6]"
   ]
  },
  {
   "cell_type": "markdown",
   "id": "7c243a71-e44a-4467-9621-0da26997e335",
   "metadata": {},
   "source": [
    "Seleccionar los valores en la posición 0,2 y 4 del ndarray \"enteros\""
   ]
  },
  {
   "cell_type": "code",
   "execution_count": 71,
   "id": "5e09e7ea-3ac8-48ba-8330-9b4213db98bb",
   "metadata": {},
   "outputs": [
    {
     "data": {
      "text/plain": [
       "array([ 4,  7, 18], dtype=int64)"
      ]
     },
     "execution_count": 71,
     "metadata": {},
     "output_type": "execute_result"
    }
   ],
   "source": [
    "enteros[0:6:2]"
   ]
  },
  {
   "cell_type": "markdown",
   "id": "6178664b-de22-41cb-a499-53d704784b94",
   "metadata": {},
   "source": [
    "Seleccionar todos los valores con un indice par en el ndarray \"enteros\" (0,2,4,...)"
   ]
  },
  {
   "cell_type": "code",
   "execution_count": 72,
   "id": "11169abe-382b-4b5f-8332-371f3edabcfc",
   "metadata": {},
   "outputs": [
    {
     "data": {
      "text/plain": [
       "array([ 4,  7, 18,  5,  8], dtype=int64)"
      ]
     },
     "execution_count": 72,
     "metadata": {},
     "output_type": "execute_result"
    }
   ],
   "source": [
    "enteros[::2]"
   ]
  },
  {
   "cell_type": "markdown",
   "id": "fd2d863b-c2cf-4de4-bcdc-59fdfb9170a5",
   "metadata": {},
   "source": [
    "__Ejercicio 22:__"
   ]
  },
  {
   "cell_type": "code",
   "execution_count": 73,
   "id": "6c5257e2-4553-48a6-a8f2-765c128d18c3",
   "metadata": {},
   "outputs": [
    {
     "data": {
      "text/plain": [
       "array([[ 2, 15, 17,  2,  8],\n",
       "       [ 2, 18,  2, 19,  8],\n",
       "       [10, 12,  6,  4,  1],\n",
       "       [ 3, 15, 10, 19,  4],\n",
       "       [ 0, 13, 16, 12,  4],\n",
       "       [19,  9, 11,  7,  4],\n",
       "       [11,  2,  6, 14, 18],\n",
       "       [18,  0,  9, 12, 12]], dtype=int64)"
      ]
     },
     "execution_count": 73,
     "metadata": {},
     "output_type": "execute_result"
    }
   ],
   "source": [
    "enteros_2d = rg.integers(20,size=(8,5))\n",
    "enteros_2d"
   ]
  },
  {
   "cell_type": "markdown",
   "id": "37bc0a12-9c60-4973-a312-80804c150ada",
   "metadata": {},
   "source": [
    "Seleccionar el cuarto valor en el segundo array de \"enteros_2d\""
   ]
  },
  {
   "cell_type": "code",
   "execution_count": 75,
   "id": "b1647bbd-6a30-4d1b-a04e-2381da07d9d0",
   "metadata": {},
   "outputs": [
    {
     "data": {
      "text/plain": [
       "19"
      ]
     },
     "execution_count": 75,
     "metadata": {},
     "output_type": "execute_result"
    }
   ],
   "source": [
    "enteros_2d[1,3]"
   ]
  },
  {
   "cell_type": "markdown",
   "id": "8735f0f9-4d36-4640-b47c-539587896e73",
   "metadata": {},
   "source": [
    "Seleccionar el segundo valor en los arrays con indice 3, 4 y 5 de \"enteros_2d\""
   ]
  },
  {
   "cell_type": "code",
   "execution_count": 76,
   "id": "40b2a7ad-eaea-425d-a8bc-058fba013c59",
   "metadata": {},
   "outputs": [
    {
     "data": {
      "text/plain": [
       "array([15, 13,  9], dtype=int64)"
      ]
     },
     "execution_count": 76,
     "metadata": {},
     "output_type": "execute_result"
    }
   ],
   "source": [
    "enteros_2d[3:6,1]"
   ]
  },
  {
   "cell_type": "markdown",
   "id": "ed773fbb-8795-4e25-adb1-3952ab3be59f",
   "metadata": {},
   "source": [
    "Seleccionar los 2 primeros valores en los arrays con indice 4, 5 y 6 de \"enteros_2d\""
   ]
  },
  {
   "cell_type": "code",
   "execution_count": 78,
   "id": "730ceebe-04bc-46d1-a8a2-d98207d66afb",
   "metadata": {},
   "outputs": [
    {
     "data": {
      "text/plain": [
       "array([[ 0, 13],\n",
       "       [19,  9],\n",
       "       [11,  2]], dtype=int64)"
      ]
     },
     "execution_count": 78,
     "metadata": {},
     "output_type": "execute_result"
    }
   ],
   "source": [
    "enteros_2d[4:7,0:2]"
   ]
  }
 ],
 "metadata": {
  "kernelspec": {
   "display_name": "Python 3 (ipykernel)",
   "language": "python",
   "name": "python3"
  },
  "language_info": {
   "codemirror_mode": {
    "name": "ipython",
    "version": 3
   },
   "file_extension": ".py",
   "mimetype": "text/x-python",
   "name": "python",
   "nbconvert_exporter": "python",
   "pygments_lexer": "ipython3",
   "version": "3.10.7"
  }
 },
 "nbformat": 4,
 "nbformat_minor": 5
}
