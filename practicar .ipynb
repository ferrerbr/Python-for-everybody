{
 "cells": [
  {
   "cell_type": "markdown",
   "metadata": {},
   "source": [
    "Ejercicio 2: Reescribe el programa del salario usando try y except, de modo que el\n",
    "programa sea capaz de gestionar entradas no numéricas con elegancia, mostrando\n",
    "un mensaje y saliendo del programa. A continuación se muestran dos ejecuciones\n",
    "del programa:\n",
    "\n",
    "Introduzca las Horas: 20\n",
    "\n",
    "Introduzca la Tarifa por hora: nueve\n",
    "\n",
    "Error, por favor introduzca un número\n",
    "\n",
    "Introduzca las Horas: cuarenta\n",
    "\n",
    "Error, por favor introduzca un número"
   ]
  },
  {
   "cell_type": "code",
   "execution_count": 4,
   "metadata": {},
   "outputs": [
    {
     "name": "stdout",
     "output_type": "stream",
     "text": [
      "tu salario es de 475.0\n"
     ]
    }
   ],
   "source": [
    "\n",
    "\n",
    "try:\n",
    "    horas= float(input(\"ingresa el numero de horas\"))\n",
    "    tarifa = float(input(\"ingresa la tarifa por hora\"))\n",
    "\n",
    "    if horas > 40:\n",
    "        salario = 40*10 + ((horas-40)*(tarifa*1.5))\n",
    "    else:\n",
    "        salario = horas* tarifa\n",
    "\n",
    "    print(f\"tu salario es de {salario}\")\n",
    "except:\n",
    "    print(\"ingresa solo datos numericos\")\n",
    "    \n",
    "\n"
   ]
  },
  {
   "cell_type": "markdown",
   "metadata": {},
   "source": [
    "Ejercicio 6: Reescribe el programa de cálculo del salario, con tarifa-y media para las horas extras, y crea una función llamada calculo_salario\n",
    "que reciba dos (horas y tarifa)."
   ]
  },
  {
   "cell_type": "code",
   "execution_count": 8,
   "metadata": {},
   "outputs": [
    {
     "name": "stdout",
     "output_type": "stream",
     "text": [
      "475.0\n"
     ]
    }
   ],
   "source": [
    "\n",
    "\n",
    "def calculosalario(horas,tarifa):\n",
    "    if horas > 40:\n",
    "        salario = 40*10 + ((horas-40)*(tarifa*1.5))\n",
    "    else:\n",
    "        salario = horas* tarifa\n",
    "    \n",
    "    return salario\n",
    "    \n",
    "salario = calculosalario(45,10)\n",
    "print(salario)"
   ]
  },
  {
   "cell_type": "markdown",
   "metadata": {},
   "source": [
    "Ejercicio 1: Escribe un programa que lea repetidamente números hasta\n",
    "que el usuario introduzca “fin”. Una vez se haya introducido “fin”,\n",
    "muestra por pantalla el total, la cantidad de números y la media de\n",
    "esos números. Si el usuario introduce cualquier otra cosa que no sea un\n",
    "número, detecta su fallo usando try y except, muestra un mensaje de\n",
    "error y pasa al número siguiente"
   ]
  },
  {
   "cell_type": "code",
   "execution_count": 10,
   "metadata": {},
   "outputs": [
    {
     "name": "stdout",
     "output_type": "stream",
     "text": [
      "ingresa solo datos numericos\n",
      "ingresa solo datos numericos\n",
      "el total de los numeros sumados es 89 y la media de estos numeros es 11.125\n"
     ]
    }
   ],
   "source": [
    "sumador = 0\n",
    "cantidad = 0\n",
    "while True:\n",
    "    \n",
    "    \n",
    "    numero = input(\"ingresa un numero \")\n",
    "    \n",
    "    if numero == \"exit\":\n",
    "        break\n",
    "    else:\n",
    "        try:\n",
    "            numero=int(numero)\n",
    "            sumador += numero\n",
    "            cantidad += 1\n",
    "        except:\n",
    "            print(\"ingresa solo datos numericos\")\n",
    "\n",
    "\n",
    "    \n",
    "\n",
    "print(f\"el total de los numeros sumados es { sumador} y la media de estos numeros es {sumador/cantidad}\")"
   ]
  },
  {
   "cell_type": "markdown",
   "metadata": {},
   "source": [
    "Ejercicio 1: Escribe un bucle while que comience con el último carácter\n",
    "en la cadena y haga un recorrido hacia atrás hasta el primer carácter\n",
    "en la cadena, imprimiendo cada letra en una línea independiente."
   ]
  },
  {
   "cell_type": "code",
   "execution_count": 11,
   "metadata": {},
   "outputs": [
    {
     "name": "stdout",
     "output_type": "stream",
     "text": [
      "o\n"
     ]
    }
   ],
   "source": [
    "\n",
    "palabra = \"ejercicio\"\n",
    "i = 0\n",
    "ind = palabra[-2]\n",
    "print(ind)"
   ]
  }
 ],
 "metadata": {
  "kernelspec": {
   "display_name": "Python 3",
   "language": "python",
   "name": "python3"
  },
  "language_info": {
   "codemirror_mode": {
    "name": "ipython",
    "version": 3
   },
   "file_extension": ".py",
   "mimetype": "text/x-python",
   "name": "python",
   "nbconvert_exporter": "python",
   "pygments_lexer": "ipython3",
   "version": "3.10.7"
  }
 },
 "nbformat": 4,
 "nbformat_minor": 2
}
