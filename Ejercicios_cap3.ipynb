{
 "cells": [
  {
   "cell_type": "markdown",
   "id": "80f0c023",
   "metadata": {},
   "source": [
    "# Ejercicios capitulo 3"
   ]
  },
  {
   "cell_type": "markdown",
   "id": "1719620e",
   "metadata": {},
   "source": [
    "Ejercicio 1: Reescribe el programa del cálculo del salario para darle al empleado\n",
    "1.5 veces la tarifa horaria para todas las horas trabajadas que excedan de 40.\n",
    "\n",
    "Introduzca las Horas: 45\n",
    "\n",
    "Introduzca la Tarifa por hora: 10\n",
    "\n",
    "Salario: 475.0"
   ]
  },
  {
   "cell_type": "code",
   "execution_count": 18,
   "id": "1bfa5649",
   "metadata": {},
   "outputs": [
    {
     "name": "stdout",
     "output_type": "stream",
     "text": [
      "Por favor introduce solo valores numericos\n"
     ]
    }
   ],
   "source": [
    "try:\n",
    "    ht = int(input(\"Introduce el numero de horas trabajadas: \\n\"))\n",
    "    t = float(input(\"introduzca el la tarifa por hora: \\n\"))\n",
    "    if ht > 40:\n",
    "        hx= ht-40\n",
    "        salario = (40*t)+(hx*t*1.5)\n",
    "    else:\n",
    "        salario = int(ht*t)\n",
    "\n",
    "    print(\"\\n salrio:\",salario)\n",
    "except:\n",
    "    print(\"Por favor introduce solo valores numericos\")\n",
    "\n"
   ]
  },
  {
   "cell_type": "markdown",
   "id": "84890828",
   "metadata": {},
   "source": [
    "Ejercicio 2: Reescribe el programa del salario usando try y except, de modo que el\n",
    "programa sea capaz de gestionar entradas no numéricas con elegancia, mostrando\n",
    "un mensaje y saliendo del programa. A continuación se muestran dos ejecuciones\n",
    "del programa:\n",
    "\n",
    "Introduzca las Horas: 20\n",
    "\n",
    "Introduzca la Tarifa por hora: nueve\n",
    "\n",
    "Error, por favor introduzca un número\n",
    "\n",
    "Introduzca las Horas: cuarenta\n",
    "\n",
    "Error, por favor introduzca un número"
   ]
  },
  {
   "cell_type": "code",
   "execution_count": 9,
   "id": "5dcb000b",
   "metadata": {},
   "outputs": [
    {
     "name": "stdout",
     "output_type": "stream",
     "text": [
      "numero de horas:\n",
      "48\n",
      "tarifa:\n",
      "dos\n",
      "Por favor, introduzca un valor numerico\n"
     ]
    }
   ],
   "source": [
    "ht= input(\"numero de horas:\\n\")\n",
    "\n",
    "tarifa = input(\"tarifa:\\n\")\n",
    "try:\n",
    "    tarifa=float(tarifa)\n",
    "    ht=float(ht)\n",
    "\n",
    "    hdt=ht-40\n",
    "    if ht>40:\n",
    "        d=(40*tarifa)+(hdt*(tarifa*1.5))\n",
    "    else:\n",
    "        d=ht*tarifa\n",
    "    print(\"salario bruto:\",d)\n",
    "except:\n",
    "    print(\"Por favor, introduzca un valor numerico\")\n",
    "    \n"
   ]
  },
  {
   "cell_type": "markdown",
   "id": "b49f9176",
   "metadata": {},
   "source": [
    "Ejercicio 3: Escribe un programa que solicite una puntuación entre 0.0 y 1.0. Si la\n",
    "puntuación está fuera de ese rango, muestra un mensaje de error. Si la puntuación\n",
    "está entre 0.0 y 1.0, muestra la calificación usando la tabla siguiente:\n",
    "\n",
    "Puntuación Calificación\n",
    "\n",
    ".>= 0.9 Sobresaliente\n",
    "\n",
    ".>= 0.8 Notable\n",
    "\n",
    ".>= 0.7 Bien\n",
    "\n",
    ".>= 0.6 Suficiente\n",
    "\n",
    ".< 0.6 Insuficiente"
   ]
  },
  {
   "cell_type": "code",
   "execution_count": 21,
   "id": "659a5086",
   "metadata": {},
   "outputs": [
    {
     "name": "stdout",
     "output_type": "stream",
     "text": [
      "sobresaliente\n"
     ]
    }
   ],
   "source": [
    "calif=input(\"introduce tu calificacion:\\n\")\n",
    "try:\n",
    "    calif=float(calif)\n",
    "    if calif>=0 and calif<=1:\n",
    "        if calif >= 0.9:\n",
    "            print(\"sobresaliente\")\n",
    "        elif calif >= 0.8:\n",
    "            print(\"Notable\")\n",
    "        elif calif >= 0.7:\n",
    "            print(\"Bien\")\n",
    "        elif calif >= 0.6:\n",
    "            print(\"Suficiente\")\n",
    "        elif calif < 0.6 :\n",
    "            print(\"Suficiente\")\n",
    "    else:\n",
    "        print(\"introduce un  valor entre 1 y 0\")\n",
    "   \n",
    "except:\n",
    "    print(\"introduce un valor numerico \")\n",
    "    \n",
    "        \n",
    "    "
   ]
  }
 ],
 "metadata": {
  "kernelspec": {
   "display_name": "Python 3 (ipykernel)",
   "language": "python",
   "name": "python3"
  },
  "language_info": {
   "codemirror_mode": {
    "name": "ipython",
    "version": 3
   },
   "file_extension": ".py",
   "mimetype": "text/x-python",
   "name": "python",
   "nbconvert_exporter": "python",
   "pygments_lexer": "ipython3",
   "version": "3.10.7"
  }
 },
 "nbformat": 4,
 "nbformat_minor": 5
}
