{
 "cells": [
  {
   "cell_type": "markdown",
   "metadata": {},
   "source": [
    "Intercambio de valores: Escribir un programa que intercambie los valores de dos variables utilizando tuplas."
   ]
  },
  {
   "cell_type": "code",
   "execution_count": 1,
   "metadata": {},
   "outputs": [
    {
     "name": "stdout",
     "output_type": "stream",
     "text": [
      "valores originales\n",
      " a=85 \n",
      " b=48\n",
      "Los nuevos valores de :\n",
      " a=48 \n",
      " b=85\n"
     ]
    }
   ],
   "source": [
    "a= int(input(\"ingresa el primer valor\"))\n",
    "b= int(input(\"ingresa el sgundo valor\"))\n",
    "print(f\"valores originales\\n a={a} \\n b={b}\")\n",
    "(a,b)=(b,a)\n",
    "print(f\"Los nuevos valores de :\\n a={a} \\n b={b}\")\n"
   ]
  },
  {
   "cell_type": "markdown",
   "metadata": {},
   "source": [
    "Suma de elementos: Escribir una función que tome una tupla de números y devuelva la suma de todos los elementos."
   ]
  },
  {
   "cell_type": "code",
   "execution_count": 10,
   "metadata": {},
   "outputs": [
    {
     "name": "stdout",
     "output_type": "stream",
     "text": [
      "26\n"
     ]
    }
   ],
   "source": [
    "def suma_tupla(elemento):\n",
    "    suma = 0\n",
    "    for i in elemento:\n",
    "       \n",
    "        suma += i\n",
    "    return suma\n",
    "suma_t = suma_tupla((5, 4, 8, 6, 2, 1))\n",
    "print(suma_t)"
   ]
  },
  {
   "cell_type": "markdown",
   "metadata": {},
   "source": [
    "División de tupla: Escribir un programa que tome una tupla y divida sus elementos en dos partes iguales, devolviendo dos tuplas."
   ]
  },
  {
   "cell_type": "code",
   "execution_count": 11,
   "metadata": {},
   "outputs": [
    {
     "name": "stdout",
     "output_type": "stream",
     "text": [
      "(1, 5, 9)\n",
      "(3, 5, 7)\n"
     ]
    }
   ],
   "source": [
    "def div_tupla(tup):\n",
    "    mitad = len(tup)//2\n",
    "    return tup[:mitad],tup[mitad:]\n",
    "\n",
    "tupla=(1,5,9,3,5,7)\n",
    "tupla_1, tupla_2 = div_tupla(tupla)\n",
    "print(tupla_1)\n",
    "print(tupla_2)"
   ]
  },
  {
   "cell_type": "markdown",
   "metadata": {},
   "source": [
    "Unión de tuplas: Escribir una función que tome dos tuplas y devuelva una nueva tupla que contenga todos los elementos de ambas tuplas."
   ]
  },
  {
   "cell_type": "code",
   "execution_count": 17,
   "metadata": {},
   "outputs": [
    {
     "name": "stdout",
     "output_type": "stream",
     "text": [
      "(4, 5, 8, 6, 'd', 8, 4, 5, 6, 2)\n"
     ]
    }
   ],
   "source": [
    "def union_tup(tup1,tup2):\n",
    "    new_tup=tup1+tup2\n",
    "    return new_tup\n",
    "a=(4,5,8,6,\"d\")\n",
    "b=(8,4,5,6,2)\n",
    "nueva=union_tup(a,b)\n",
    "print(nueva)"
   ]
  },
  {
   "cell_type": "markdown",
   "metadata": {},
   "source": [
    "Contar ocurrencias: Escribir una función que tome una tupla y un elemento, y devuelva la cantidad de veces que aparece ese elemento en la tupla"
   ]
  },
  {
   "cell_type": "code",
   "execution_count": 20,
   "metadata": {},
   "outputs": [
    {
     "name": "stdout",
     "output_type": "stream",
     "text": [
      "2\n"
     ]
    }
   ],
   "source": [
    "def contador_elemento(tup,objeto):\n",
    "     return tup.count(objeto)\n",
    "tupla = (8,4,5,1,5,1,\"a,\",5)\n",
    "contar = contador_elemento(tupla,1)\n",
    "print(contar)"
   ]
  },
  {
   "cell_type": "markdown",
   "metadata": {},
   "source": []
  },
  {
   "cell_type": "code",
   "execution_count": 29,
   "metadata": {},
   "outputs": [
    {
     "name": "stdout",
     "output_type": "stream",
     "text": [
      "palabra\n",
      "['p', 'l', 'br', '']\n"
     ]
    }
   ],
   "source": [
    "a=\"palabra\"\n",
    "a.split(\"a\")\n",
    "b=a.split(\"a\")\n",
    "\n",
    "print(a)\n",
    "print(b)"
   ]
  },
  {
   "cell_type": "code",
   "execution_count": 37,
   "metadata": {},
   "outputs": [
    {
     "name": "stdout",
     "output_type": "stream",
     "text": [
      "(10, 5, 14, 'd', 'l')\n",
      "14\n",
      "5\n",
      "<class 'tuple'>\n"
     ]
    },
    {
     "data": {
      "text/plain": [
       "['__add__',\n",
       " '__class__',\n",
       " '__class_getitem__',\n",
       " '__contains__',\n",
       " '__delattr__',\n",
       " '__dir__',\n",
       " '__doc__',\n",
       " '__eq__',\n",
       " '__format__',\n",
       " '__ge__',\n",
       " '__getattribute__',\n",
       " '__getitem__',\n",
       " '__getnewargs__',\n",
       " '__gt__',\n",
       " '__hash__',\n",
       " '__init__',\n",
       " '__init_subclass__',\n",
       " '__iter__',\n",
       " '__le__',\n",
       " '__len__',\n",
       " '__lt__',\n",
       " '__mul__',\n",
       " '__ne__',\n",
       " '__new__',\n",
       " '__reduce__',\n",
       " '__reduce_ex__',\n",
       " '__repr__',\n",
       " '__rmul__',\n",
       " '__setattr__',\n",
       " '__sizeof__',\n",
       " '__str__',\n",
       " '__subclasshook__',\n",
       " 'count',\n",
       " 'index']"
      ]
     },
     "execution_count": 37,
     "metadata": {},
     "output_type": "execute_result"
    }
   ],
   "source": [
    "lista=(10,5,14,\"d\",\"l\")\n",
    "print(lista[:])\n",
    "print(lista[2])\n",
    "print(len(lista))\n",
    "print(type(lista))\n",
    "dir(tuple)"
   ]
  }
 ],
 "metadata": {
  "kernelspec": {
   "display_name": "Python 3",
   "language": "python",
   "name": "python3"
  },
  "language_info": {
   "codemirror_mode": {
    "name": "ipython",
    "version": 3
   },
   "file_extension": ".py",
   "mimetype": "text/x-python",
   "name": "python",
   "nbconvert_exporter": "python",
   "pygments_lexer": "ipython3",
   "version": "3.10.7"
  }
 },
 "nbformat": 4,
 "nbformat_minor": 2
}
