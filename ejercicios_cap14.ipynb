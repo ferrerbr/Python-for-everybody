{
 "cells": [
  {
   "cell_type": "code",
   "execution_count": 7,
   "metadata": {},
   "outputs": [
    {
     "name": "stdout",
     "output_type": "stream",
     "text": [
      "Hasta ahora 1\n"
     ]
    }
   ],
   "source": [
    "class GrupoAnimal:\n",
    "    x = 0\n",
    "\n",
    "    def grupo(self) :\n",
    "        self.x=self.x+1\n",
    "        print ( \"Hasta ahora\", self.x )\n",
    "an = GrupoAnimal()\n",
    "an.grupo()\n",
    "an.grupo()\n",
    "#an.grupo()\n",
    "#GrupoAnimal.grupo(an)"
   ]
  },
  {
   "cell_type": "code",
   "execution_count": 2,
   "metadata": {},
   "outputs": [
    {
     "name": "stdout",
     "output_type": "stream",
     "text": [
      "type <class '__main__.GrupoAnimal'>\n",
      "dir ['__class__', '__delattr__', '__dict__', '__dir__', '__doc__', '__eq__', '__format__', '__ge__', '__getattribute__', '__gt__', '__hash__', '__init__', '__init_subclass__', '__le__', '__lt__', '__module__', '__ne__', '__new__', '__reduce__', '__reduce_ex__', '__repr__', '__setattr__', '__sizeof__', '__str__', '__subclasshook__', '__weakref__', 'grupo', 'x']\n",
      "type <class 'int'>\n",
      "type <class 'method'>\n"
     ]
    }
   ],
   "source": [
    "class GrupoAnimal:\n",
    "    x = 0\n",
    "\n",
    "    def grupo(self) :\n",
    "        self.x=self.x + 1\n",
    "        print(\"Hasta ahora\",self.x)\n",
    "\n",
    "an=GrupoAnimal()\n",
    "print(\"type\",type(an))\n",
    "print(\"dir\",dir(an))\n",
    "print(\"type\",type(an.x))\n",
    "print(\"type\",type(an.grupo))"
   ]
  },
  {
   "cell_type": "code",
   "execution_count": 11,
   "metadata": {},
   "outputs": [
    {
     "name": "stdout",
     "output_type": "stream",
     "text": [
      "estoy construido\n",
      "estoy destruido 0\n",
      "an contiene 42\n"
     ]
    }
   ],
   "source": [
    "class GrupoAnimal:\n",
    "    x = 0\n",
    "\n",
    "    def __init__(self) :\n",
    "        print(\"estoy construido\")\n",
    "    \n",
    "\n",
    "    def grupo(self) :\n",
    "        self.x=self.x + 1\n",
    "        print(\"Hasta ahora\",self.x)\n",
    "\n",
    "    def __del__(self) :\n",
    "        print(\"estoy destruido\", self.x)\n",
    "\n",
    "an=GrupoAnimal()\n",
    "#an.grupo()\n",
    "#an.grupo()\n",
    "an=42\n",
    "print(\"an contiene\",an)"
   ]
  },
  {
   "cell_type": "code",
   "execution_count": 4,
   "metadata": {},
   "outputs": [
    {
     "name": "stdout",
     "output_type": "stream",
     "text": [
      "Sally construido\n",
      "Jim construido\n",
      "Sally recuento grupal 1\n",
      "Jim recuento grupal 1\n",
      "Sally recuento grupal 2\n"
     ]
    }
   ],
   "source": [
    "class GrupoAnimal:\n",
    "   x = 0\n",
    "   nombre = ''\n",
    "   def __init__(self, nom):\n",
    "     self.nombre = nom\n",
    "     print(self.nombre,'construido')\n",
    "\n",
    "   def grupo(self) :\n",
    "     self.x = self.x + 1\n",
    "     print(self.nombre,'recuento grupal',self.x)\n",
    "\n",
    "s = GrupoAnimal('Sally')\n",
    "j = GrupoAnimal('Jim')\n",
    "\n",
    "s.grupo()\n",
    "j.grupo()\n",
    "s.grupo()"
   ]
  },
  {
   "cell_type": "code",
   "execution_count": 12,
   "metadata": {},
   "outputs": [
    {
     "ename": "ModuleNotFoundError",
     "evalue": "No module named 'party'",
     "output_type": "error",
     "traceback": [
      "\u001b[1;31m---------------------------------------------------------------------------\u001b[0m",
      "\u001b[1;31mModuleNotFoundError\u001b[0m                       Traceback (most recent call last)",
      "Cell \u001b[1;32mIn [12], line 1\u001b[0m\n\u001b[1;32m----> 1\u001b[0m \u001b[38;5;28;01mfrom\u001b[39;00m \u001b[38;5;21;01mparty\u001b[39;00m \u001b[38;5;28;01mimport\u001b[39;00m GrupoAnimal\n\u001b[0;32m      3\u001b[0m \u001b[38;5;28;01mclass\u001b[39;00m \u001b[38;5;21;01mGrilloFan\u001b[39;00m(GrupoAnimal):\n\u001b[0;32m      4\u001b[0m    puntos \u001b[38;5;241m=\u001b[39m \u001b[38;5;241m0\u001b[39m\n",
      "\u001b[1;31mModuleNotFoundError\u001b[0m: No module named 'party'"
     ]
    }
   ],
   "source": [
    "from party import GrupoAnimal\n",
    "\n",
    "class GrilloFan(GrupoAnimal):\n",
    "   puntos = 0\n",
    "   def seis(self):\n",
    "      self.puntos = self.puntos + 6\n",
    "      self.grupo()\n",
    "      print(self.nombre,\"puntos\",self.puntos)\n",
    "\n",
    "s = GrupoAnimal(\"Sally\")\n",
    "s.grupo()\n",
    "j = GrilloFan(\"Jim\")\n",
    "j.grupo()\n",
    "j.seis()\n",
    "print(dir(j))"
   ]
  }
 ],
 "metadata": {
  "kernelspec": {
   "display_name": "Python 3",
   "language": "python",
   "name": "python3"
  },
  "language_info": {
   "codemirror_mode": {
    "name": "ipython",
    "version": 3
   },
   "file_extension": ".py",
   "mimetype": "text/x-python",
   "name": "python",
   "nbconvert_exporter": "python",
   "pygments_lexer": "ipython3",
   "version": "3.10.7"
  }
 },
 "nbformat": 4,
 "nbformat_minor": 2
}
