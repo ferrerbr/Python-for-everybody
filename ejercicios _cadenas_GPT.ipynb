{
 "cells": [
  {
   "cell_type": "markdown",
   "metadata": {},
   "source": [
    "Ejercicio: Contador de vocales\n",
    "Escribe un programa en Python que solicite al usuario ingresar una cadena de texto y luego cuente y muestre cuántas vocales (mayúsculas y minúsculas) contiene."
   ]
  },
  {
   "cell_type": "code",
   "execution_count": 18,
   "metadata": {},
   "outputs": [
    {
     "name": "stdout",
     "output_type": "stream",
     "text": [
      "Contador de vocales\n"
     ]
    },
    {
     "name": "stdout",
     "output_type": "stream",
     "text": [
      "Hay 1 >>a<< en el texto\n",
      "Hay 5 >>e<< en el texto\n",
      "Hay 3 >>o<< en el texto\n",
      "Hay 1 >>u<< en el texto\n",
      "Hay 1 >>E<< en el texto\n"
     ]
    }
   ],
   "source": [
    "print(\"Contador de vocales\")\n",
    "\n",
    "def contador(lista):\n",
    "    contador_vocales = {\"a\":0,  \"e\":0,  \"i\":0,  \"o\":0,  \"u\":0,\n",
    "             \"A\":0,   \"E\":0,  \"I\":0,  \"O\":0,  \"U\":0}\n",
    "    vocales = [\"a\",\"e\",\"i\",\"o\",\"u\",\"A\",\"E\",\"I\",\"O\",\"U\"]\n",
    "    \n",
    "    for letra in lista:\n",
    "        if letra in vocales:\n",
    "            contador_vocales[letra]+=1\n",
    "\n",
    "\n",
    "    return contador_vocales\n",
    "\n",
    "cadena = input(\"Ingresa el texto\")\n",
    "\n",
    "cadena = cadena.replace(\" \",\"\")\n",
    "\n",
    "lista_caracteres = list(cadena)\n",
    "#print(lista_caracteres)\n",
    "numerodevocales=contador(lista_caracteres)\n",
    "\n",
    "for vocal,valor in numerodevocales.items():\n",
    "            if valor != 0:\n",
    "                print(f\"Hay {valor} >> {vocal} << en el texto\")\n",
    "\n",
    "\n",
    "\n"
   ]
  },
  {
   "cell_type": "markdown",
   "metadata": {},
   "source": [
    "propuesta de chatGPT"
   ]
  },
  {
   "cell_type": "code",
   "execution_count": 19,
   "metadata": {},
   "outputs": [
    {
     "name": "stdout",
     "output_type": "stream",
     "text": [
      "El número de vocales en la cadena es: 12\n"
     ]
    }
   ],
   "source": [
    "def contar_vocales(cadena):\n",
    "    # Inicializamos el contador de vocales\n",
    "    contador = 0\n",
    "    \n",
    "    # Lista de vocales\n",
    "    vocales = 'aeiouAEIOU'\n",
    "    \n",
    "    # Iteramos sobre cada caracter de la cadena\n",
    "    for caracter in cadena:\n",
    "        # Verificamos si el caracter es una vocal\n",
    "        if caracter in vocales:\n",
    "            contador += 1\n",
    "    \n",
    "    return contador\n",
    "\n",
    "# Solicitar al usuario ingresar una cadena de texto\n",
    "cadena = input(\"Ingresa una cadena de texto: \")\n",
    "\n",
    "# Contar las vocales en la cadena ingresada\n",
    "num_vocales = contar_vocales(cadena)\n",
    "\n",
    "# Mostrar el resultado\n",
    "print(\"El número de vocales en la cadena es:\", num_vocales)\n"
   ]
  },
  {
   "cell_type": "markdown",
   "metadata": {},
   "source": [
    "\n",
    "Ejercicio2: Reverso de una Cadena\n",
    "\n",
    "Escribe un programa en Python que tome una cadena de texto ingresada por el usuario y muestre su reverso"
   ]
  },
  {
   "cell_type": "code",
   "execution_count": 33,
   "metadata": {},
   "outputs": [
    {
     "name": "stdout",
     "output_type": "stream",
     "text": [
      "asergni es euq ol ed osrevni le oserger amargorp etse\n"
     ]
    }
   ],
   "source": [
    "cadena=input(\"Ingresa el texto\")\n",
    "cadena=cadena.lstrip()\n",
    "cadena=list(cadena)\n",
    "invertida=cadena[::-1]\n",
    "cadena_invertida=\"\"\n",
    "for letra in invertida:\n",
    "    cadena_invertida=cadena_invertida+letra\n",
    "\n",
    "print(cadena_invertida)"
   ]
  },
  {
   "cell_type": "markdown",
   "metadata": {},
   "source": [
    "propuesta de chatGPT"
   ]
  },
  {
   "cell_type": "code",
   "execution_count": 34,
   "metadata": {},
   "outputs": [
    {
     "name": "stdout",
     "output_type": "stream",
     "text": [
      "El reverso de la cadena es: oicini led oicapse le animile on otse\n"
     ]
    }
   ],
   "source": [
    "def reverso_cadena(cadena):\n",
    "    # Utilizamos el slicing para invertir la cadena\n",
    "    cadena_reversa = cadena[::-1]\n",
    "    return cadena_reversa\n",
    "\n",
    "# Solicitar al usuario ingresar una cadena de texto\n",
    "cadena_original = input(\"Ingresa una cadena de texto: \")\n",
    "\n",
    "# Obtener el reverso de la cadena\n",
    "cadena_reversa = reverso_cadena(cadena_original)\n",
    "\n",
    "# Mostrar el reverso de la cadena\n",
    "print(\"El reverso de la cadena es:\", cadena_reversa)\n"
   ]
  },
  {
   "cell_type": "markdown",
   "metadata": {},
   "source": [
    "Ejercicio 3: Contador de Palabras\n",
    "\n",
    "Escribe un programa en Python que solicite al usuario ingresar una oración y luego cuente y muestre cuántas palabras contiene esa oración."
   ]
  },
  {
   "cell_type": "code",
   "execution_count": 45,
   "metadata": {},
   "outputs": [
    {
     "name": "stdout",
     "output_type": "stream",
     "text": [
      "Contador de palabras\n",
      "Tu texto con tiene 6 palabras \n"
     ]
    }
   ],
   "source": [
    "print(\"Contador de palabras\")\n",
    "texto = input(\"ingresa el texto \")\n",
    "texto=texto.split()\n",
    "longitud=len(texto)\n",
    "#texto = texto.replace(\" \",\"\")\n",
    "print(f\"Tu texto con tiene {longitud} palabras \",) "
   ]
  },
  {
   "cell_type": "markdown",
   "metadata": {},
   "source": [
    "Ejercicio 4: Contador de Caracteres Únicos\n",
    "\n",
    "Escribe un programa en Python que solicite al usuario ingresar una cadena de texto y luego cuente y muestre cuántos caracteres únicos distintos contiene esa cadena."
   ]
  },
  {
   "cell_type": "code",
   "execution_count": 52,
   "metadata": {},
   "outputs": [
    {
     "name": "stdout",
     "output_type": "stream",
     "text": [
      "Este es un contador de caracteres unicos\n"
     ]
    },
    {
     "name": "stdout",
     "output_type": "stream",
     "text": [
      "En el texto hay 6 caracteres diferentes\n",
      "Hay 5 veces a en el texto\n",
      "Hay 4 veces s en el texto\n",
      "Hay 2 veces d en el texto\n",
      "Hay 2 veces f en el texto\n",
      "Hay 2 veces g en el texto\n",
      "Hay 2 veces h en el texto\n",
      "{'a': 5, 's': 4, 'd': 2, 'f': 2, 'g': 2, 'h': 2}\n"
     ]
    }
   ],
   "source": [
    "def contador_carateres(texto1):\n",
    "    texto1 = texto1.replace(\" \",\"\")\n",
    "    texto1 = list(texto1)\n",
    "    banco=dict()\n",
    "    for caracter in texto1:\n",
    "        if caracter in banco:\n",
    "            banco[caracter]+=1\n",
    "        else:\n",
    "            banco[caracter]=1\n",
    "    \n",
    "        \n",
    "\n",
    "    return banco\n",
    "\n",
    "\n",
    "\n",
    "\n",
    "print(\"Este es un contador de caracteres unicos\")\n",
    "texto = input(\"ingresa el texto que deseas porcesar: \")\n",
    "contador = contador_carateres(texto)\n",
    "longitud=len(contador)\n",
    "print(f\"En el texto hay {longitud} caracteres diferentes\")\n",
    "for caracter,valor in contador.items():\n",
    "    print(f\"Hay {valor} veces {caracter} en el texto\")\n",
    "\n",
    "\n"
   ]
  },
  {
   "cell_type": "markdown",
   "metadata": {},
   "source": [
    "Ejercicio5: Reemplazo de Caracteres\n",
    "\n",
    "Escribe un programa en Python que solicite al usuario ingresar una cadena de texto y dos caracteres: uno que desea reemplazar y otro por el cual desea reemplazarlo. Luego, el programa debe mostrar la cadena de texto con todas las ocurrencias del primer caracter reemplazadas por el segundo caracter"
   ]
  },
  {
   "cell_type": "code",
   "execution_count": 54,
   "metadata": {},
   "outputs": [
    {
     "name": "stdout",
     "output_type": "stream",
     "text": [
      "este es un remplazador de caracteres\n",
      "Este es el nuevo texto: \n",
      " ahora cada que escuentre un 8 lo remplazara por un 8 \n"
     ]
    }
   ],
   "source": [
    "print(\"este es un remplazador de caracteres\")\n",
    "texto = input(\"Ingresa el texto que deseas procesar\")\n",
    "remplazo = input(\"Ingresa el caracter que quieres reemplazar\")\n",
    "nuevo = input(\"Ingresa el nuevo caracter\")\n",
    "texto=texto.replace(remplazo,nuevo)\n",
    "print(f\"Este es el nuevo texto: \\n {texto}\")"
   ]
  },
  {
   "cell_type": "code",
   "execution_count": 55,
   "metadata": {},
   "outputs": [
    {
     "name": "stdout",
     "output_type": "stream",
     "text": [
      "Texto modificado: quiero reemplazar donde aparexca 888 por un 8\n"
     ]
    }
   ],
   "source": [
    "def reemplazar_caracteres(texto, caracter_a_reemplazar, caracter_nuevo):\n",
    "    nuevo_texto = texto.replace(caracter_a_reemplazar, caracter_nuevo)\n",
    "    return nuevo_texto\n",
    "\n",
    "# Solicitar al usuario ingresar una cadena de texto y los caracteres para reemplazar\n",
    "texto = input(\"Ingresa una cadena de texto: \")\n",
    "caracter_a_reemplazar = input(\"Ingresa el caracter que deseas reemplazar: \")\n",
    "caracter_nuevo = input(\"Ingresa el caracter por el cual deseas reemplazarlo: \")\n",
    "\n",
    "# Reemplazar los caracteres en el texto ingresado\n",
    "texto_modificado = reemplazar_caracteres(texto, caracter_a_reemplazar, caracter_nuevo)\n",
    "\n",
    "# Mostrar el resultado\n",
    "print(\"Texto modificado:\", texto_modificado)\n"
   ]
  },
  {
   "cell_type": "code",
   "execution_count": 56,
   "metadata": {},
   "outputs": [
    {
     "name": "stdout",
     "output_type": "stream",
     "text": [
      "[5, 8, 7, 4]\n"
     ]
    }
   ],
   "source": [
    "   \n",
    "\n"
   ]
  }
 ],
 "metadata": {
  "kernelspec": {
   "display_name": "Python 3",
   "language": "python",
   "name": "python3"
  },
  "language_info": {
   "codemirror_mode": {
    "name": "ipython",
    "version": 3
   },
   "file_extension": ".py",
   "mimetype": "text/x-python",
   "name": "python",
   "nbconvert_exporter": "python",
   "pygments_lexer": "ipython3",
   "version": "3.10.7"
  }
 },
 "nbformat": 4,
 "nbformat_minor": 2
}
